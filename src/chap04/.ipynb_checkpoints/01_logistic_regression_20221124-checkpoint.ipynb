{
 "cells": [
  {
   "cell_type": "code",
   "execution_count": 1,
   "id": "276f204f",
   "metadata": {},
   "outputs": [],
   "source": [
    "import tensorflow as tf\n",
    "\n",
    "x_data = [[1,2], # 1시간(수업참여시간)이 2시간(복습시간) 공부하고 불합격\n",
    "          [2,3], \n",
    "          [3,1],\n",
    "          [4,3], # 4시간(수업참여시간)과 3시간(복습시간) 공부(총:7시간)하고 합격\n",
    "          [5,3],\n",
    "          [6,2]]\n",
    "\n",
    "# 합격과 불합격의 분류만 중요하다고 생각해야 함. # 그래서 binary로 분류\n",
    "y_data = [[0], \n",
    "          [0],\n",
    "          [0],\n",
    "          [1],\n",
    "          [1],\n",
    "          [1]]"
   ]
  },
  {
   "cell_type": "code",
   "execution_count": 2,
   "id": "fdc61d91",
   "metadata": {},
   "outputs": [],
   "source": [
    "tf.model = tf.keras.Sequential()\n",
    "tf.model.add(tf.keras.layers.Dense(input_dim=2, units=1))\n",
    "tf.model.add(tf.keras.layers.Activation('sigmoid'))"
   ]
  },
  {
   "cell_type": "code",
   "execution_count": null,
   "id": "ffd01910",
   "metadata": {},
   "outputs": [],
   "source": [
    "tf.model.compile(loss='binary_crossentropy') # 의사결정트리에서 본 엔트로피를 여기에 씀. 그때는 Pi*log*Pi수식을 차용 \n",
    "# 교차 엔트로피"
   ]
  }
 ],
 "metadata": {
  "kernelspec": {
   "display_name": "Python 3 (ipykernel)",
   "language": "python",
   "name": "python3"
  },
  "language_info": {
   "codemirror_mode": {
    "name": "ipython",
    "version": 3
   },
   "file_extension": ".py",
   "mimetype": "text/x-python",
   "name": "python",
   "nbconvert_exporter": "python",
   "pygments_lexer": "ipython3",
   "version": "3.7.13"
  }
 },
 "nbformat": 4,
 "nbformat_minor": 5
}
