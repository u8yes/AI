{
 "cells": [
  {
   "cell_type": "code",
   "execution_count": null,
   "id": "e268d0ca",
   "metadata": {},
   "outputs": [],
   "source": [
    "from tensorflow import keras\n",
    "from sklearn.model_selection import train_test_split\n",
    "\n",
    "(train_input, train_target), (test_input, test_target) = \\\n",
    "                keras.datasets.fashion_mnist.load_data()\n",
    "\n",
    "train_scaled = train_input.reshape(-1, 28, 28, 1) / 255.0 \n",
    "# 데이터는 모든 것-1, 행열은 28,28, Channel은 흑백1컬러3\n",
    "train_scaled, val_scaled, train_target, val_target = \\\n",
    "                train_test_split(train_scaled, train_target, test_size=0.2, random_state=42)"
   ]
  },
  {
   "cell_type": "code",
   "execution_count": null,
   "id": "abdc0ae4",
   "metadata": {},
   "outputs": [],
   "source": [
    "print(train_scaled.shape, train_target.shape, val_scaled.shape, val_target.shape)"
   ]
  },
  {
   "cell_type": "code",
   "execution_count": null,
   "id": "53ce396e",
   "metadata": {},
   "outputs": [],
   "source": [
    "# CNN(합성곱) 신경망 만들기\n",
    "# convolutional 형\n",
    "model = keras.Sequential()\n",
    "model.add(keras.layers.Conv2D(filters=32, kernel_size=(3,3), input_shape=(28,28,1), padding='same',\n",
    "                             activation='relu')) # Stride는 디폴트가 1씩 옮겨감.\n",
    "# input_shape=() N데이터,행,열,면(흑백1컬러3)\n",
    "# padding='same' - filter가 입력의 shape만큼 똑같이 출력으로 나오게 해줌.\n",
    "\n",
    "model.add(keras.layers.MaxPooling2D(pool_size=(2,2))) \n",
    "# AveragePooling2D() 평균을 선택하겠다. MaxPooling2D 최대값을 선택하겠다.\n",
    "# filter가 pool_size 옮길 때 형태들"
   ]
  },
  {
   "cell_type": "code",
   "execution_count": null,
   "id": "4b2c03a9",
   "metadata": {},
   "outputs": [],
   "source": [
    "model.add(keras.layers.Conv2D(filters=64, kernel_size=(3,3), input_shape=(28,28,1), padding='same',\n",
    "                             activation='relu'))\n",
    "model.add(keras.layers.MaxPooling2D(pool_size=(2,2))) "
   ]
  },
  {
   "cell_type": "code",
   "execution_count": null,
   "id": "f1a1f7c9",
   "metadata": {},
   "outputs": [],
   "source": [
    "# 완전 연결형\n",
    "model.add(keras.layers.Flatten()) # Flatten은 알아서 펼쳐줌 - 완전 연결형.\n",
    "model.add(keras.layers.Dense(units=100, activation='relu'))\n",
    "model.add(keras.layers.Dropout(0.4)) # 40%는 출력을 내보내지말라는 것. units=100개 중 40개를 죽임\n",
    "model.add(keras.layers.Dense(units=10, activation='softmax'))"
   ]
  },
  {
   "cell_type": "code",
   "execution_count": null,
   "id": "49523620",
   "metadata": {},
   "outputs": [],
   "source": [
    "model.summary()"
   ]
  },
  {
   "cell_type": "code",
   "execution_count": 47,
   "id": "3f1cfc1c",
   "metadata": {},
   "outputs": [],
   "source": [
    "# 모델 컴파일과 훈련\n",
    "\n",
    "model.compile(optimizer='adam', loss='sparse_categorical_crossentropy', metrics='accuracy')"
   ]
  },
  {
   "cell_type": "code",
   "execution_count": 55,
   "id": "81c4eea2",
   "metadata": {
    "scrolled": false
   },
   "outputs": [
    {
     "name": "stdout",
     "output_type": "stream",
     "text": [
      "Epoch 1/20\n",
      "1500/1500 [==============================] - 14s 9ms/step - loss: 0.1252 - accuracy: 0.9524 - val_loss: 0.2362 - val_accuracy: 0.9264\n",
      "Epoch 2/20\n",
      "1500/1500 [==============================] - 14s 9ms/step - loss: 0.1175 - accuracy: 0.9550 - val_loss: 0.2487 - val_accuracy: 0.9222\n",
      "Epoch 3/20\n",
      "1500/1500 [==============================] - 15s 10ms/step - loss: 0.1146 - accuracy: 0.9559 - val_loss: 0.2433 - val_accuracy: 0.9251\n"
     ]
    }
   ],
   "source": [
    "checkpoint_cb = keras.callbacks.ModelCheckpoint('best-cnn-model.h5', save_best_only=True) # 파일로 저장 후 전이 학습할 수 있다.\n",
    "# callbacks - 운영체제로부터 전달받으면 오버라이딩 된 것을 실행시킴.\n",
    "# ModelCheckpoint - filter를 업데이트하다가 최적의 값이 되는 부분을 저장했다가 기울기가 좋은 상태가 아닐 때 내보내줌.\n",
    "\n",
    "early_stopping_cb = keras.callbacks.EarlyStopping(patience=2, restore_best_weights=True) \n",
    "# 과대적합될 때 남은 epochs 실행안하고 멈춰라.\n",
    "# 하지만 2번까지는 참아라.\n",
    "# 최고의 가중치(기울기)\n",
    "\n",
    "history = model.fit(train_scaled, train_target, epochs=20, \n",
    "                    validation_data=(val_scaled, val_target), \n",
    "                    callbacks=[checkpoint_cb, early_stopping_cb]) # epochs 너무 많이 학습시키면 과대적합된다.\n",
    "# callbacks=[checkpoint_cb, early_stopping_cb]"
   ]
  },
  {
   "cell_type": "code",
   "execution_count": 54,
   "id": "be27b2de",
   "metadata": {},
   "outputs": [
    {
     "data": {
      "image/png": "[encoded data removed]",
      "text/plain": [
       "<Figure size 640x480 with 1 Axes>"
      ]
     },
     "metadata": {},
     "output_type": "display_data"
    }
   ],
   "source": [
    "import matplotlib.pyplot as plt\n",
    "\n",
    "plt.plot(history.history['loss'])\n",
    "plt.plot(history.history['val_loss'])\n",
    "plt.xlabel('epoch')\n",
    "plt.ylabel('loss')\n",
    "plt.legend(['train', 'val'])\n",
    "plt.show()"
   ]
  },
  {
   "cell_type": "code",
   "execution_count": null,
   "id": "a71fe63c",
   "metadata": {},
   "outputs": [],
   "source": []
  }
 ],
 "metadata": {
  "kernelspec": {
   "display_name": "Python 3 (ipykernel)",
   "language": "python",
   "name": "python3"
  },
  "language_info": {
   "codemirror_mode": {
    "name": "ipython",
    "version": 3
   },
   "file_extension": ".py",
   "mimetype": "text/x-python",
   "name": "python",
   "nbconvert_exporter": "python",
   "pygments_lexer": "ipython3",
   "version": "3.7.13"
  }
 },
 "nbformat": 4,
 "nbformat_minor": 5
}
