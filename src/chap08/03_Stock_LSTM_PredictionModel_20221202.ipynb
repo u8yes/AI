{
 "cells": [
  {
   "cell_type": "code",
   "execution_count": 1,
   "id": "b78d3a8b",
   "metadata": {},
   "outputs": [],
   "source": [
    "import tensorflow as tf\n",
    "import numpy as np\n",
    "import matplotlib.pyplot as plt"
   ]
  },
  {
   "cell_type": "code",
   "execution_count": 2,
   "id": "d14a9abb",
   "metadata": {},
   "outputs": [],
   "source": [
    "def MinMaxScaler(data):\n",
    "    numerator = data - np.min(data, axis=0)\n",
    "    denominator = np.max(data, axis=0) - np.min(data, axis=0)\n",
    "    return numerator / (denominator + 1e-7)"
   ]
  },
  {
   "cell_type": "code",
   "execution_count": 4,
   "id": "90b9fad9",
   "metadata": {},
   "outputs": [
    {
     "data": {
      "text/plain": [
       "array([[8.28659973e+02, 8.33450012e+02, 8.28349976e+02, 1.24770000e+06,\n",
       "        8.31659973e+02],\n",
       "       [8.23020020e+02, 8.28070007e+02, 8.21655029e+02, 1.59780000e+06,\n",
       "        8.28070007e+02],\n",
       "       [8.19929993e+02, 8.24400024e+02, 8.18979980e+02, 1.28170000e+06,\n",
       "        8.24159973e+02],\n",
       "       ...,\n",
       "       [5.66892592e+02, 5.67002574e+02, 5.56932537e+02, 1.08000000e+04,\n",
       "        5.56972503e+02],\n",
       "       [5.61202549e+02, 5.66432590e+02, 5.58672539e+02, 4.12000000e+04,\n",
       "        5.59992565e+02],\n",
       "       [5.68002570e+02, 5.68002570e+02, 5.52922516e+02, 1.31000000e+04,\n",
       "        5.58462551e+02]])"
      ]
     },
     "execution_count": 4,
     "metadata": {},
     "output_type": "execute_result"
    }
   ],
   "source": [
    "xy = np.loadtxt('data/data-02-stock_daily.csv', delimiter=',') # 주식 데이터\n",
    "xy"
   ]
  },
  {
   "cell_type": "code",
   "execution_count": 6,
   "id": "4c62b875",
   "metadata": {},
   "outputs": [
    {
     "data": {
      "text/plain": [
       "array([[5.68002570e+02, 5.68002570e+02, 5.52922516e+02, 1.31000000e+04,\n",
       "        5.58462551e+02],\n",
       "       [5.61202549e+02, 5.66432590e+02, 5.58672539e+02, 4.12000000e+04,\n",
       "        5.59992565e+02],\n",
       "       [5.66892592e+02, 5.67002574e+02, 5.56932537e+02, 1.08000000e+04,\n",
       "        5.56972503e+02],\n",
       "       ...,\n",
       "       [8.19929993e+02, 8.24400024e+02, 8.18979980e+02, 1.28170000e+06,\n",
       "        8.24159973e+02],\n",
       "       [8.23020020e+02, 8.28070007e+02, 8.21655029e+02, 1.59780000e+06,\n",
       "        8.28070007e+02],\n",
       "       [8.28659973e+02, 8.33450012e+02, 8.28349976e+02, 1.24770000e+06,\n",
       "        8.31659973e+02]])"
      ]
     },
     "execution_count": 6,
     "metadata": {},
     "output_type": "execute_result"
    }
   ],
   "source": [
    "xy = xy[::-1] # 순환망은 순서가 의미를 가지는 데이터셋이다. # -1로 순서를 뒤집어줌.\n",
    "xy"
   ]
  },
  {
   "cell_type": "code",
   "execution_count": 8,
   "id": "cc04b449",
   "metadata": {},
   "outputs": [
    {
     "data": {
      "text/plain": [
       "732"
      ]
     },
     "execution_count": 8,
     "metadata": {},
     "output_type": "execute_result"
    }
   ],
   "source": [
    "total_size = int(len(xy))\n",
    "total_size"
   ]
  },
  {
   "cell_type": "code",
   "execution_count": null,
   "id": "4d06dbd7",
   "metadata": {},
   "outputs": [],
   "source": [
    "train_size = total_size * 0.7\n",
    "train_set = xy[0:train_size]\n",
    "test_set = xy[train_set - ]"
   ]
  }
 ],
 "metadata": {
  "kernelspec": {
   "display_name": "Python 3 (ipykernel)",
   "language": "python",
   "name": "python3"
  },
  "language_info": {
   "codemirror_mode": {
    "name": "ipython",
    "version": 3
   },
   "file_extension": ".py",
   "mimetype": "text/x-python",
   "name": "python",
   "nbconvert_exporter": "python",
   "pygments_lexer": "ipython3",
   "version": "3.7.13"
  }
 },
 "nbformat": 4,
 "nbformat_minor": 5
}
