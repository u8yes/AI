{
 "cells": [
  {
   "cell_type": "code",
   "execution_count": 1,
   "id": "d84b7078",
   "metadata": {},
   "outputs": [],
   "source": [
    "# IMDB 리뷰 데이터 셋\n",
    "from tensorflow.keras.datasets import imdb\n",
    "\n",
    "(train_input, train_target),(test_input, test_target) = imdb.load_data(num_words=500) # skip_top=20\n",
    "# num_words=500는 500단어까지만 끊었음\n",
    "# skip_top - 1~20위까지는 생략"
   ]
  },
  {
   "cell_type": "code",
   "execution_count": 2,
   "id": "163376b7",
   "metadata": {},
   "outputs": [
    {
     "name": "stdout",
     "output_type": "stream",
     "text": [
      "(25000,) (25000,)\n"
     ]
    }
   ],
   "source": [
    "print(train_input.shape, test_input.shape) # 데이터의 의미를 정확하게 파악"
   ]
  },
  {
   "cell_type": "code",
   "execution_count": 3,
   "id": "dbdf82da",
   "metadata": {},
   "outputs": [
    {
     "name": "stdout",
     "output_type": "stream",
     "text": [
      "218 189\n"
     ]
    }
   ],
   "source": [
    "print(len(train_input[0]), len(train_input[1])) # 첫번째 댓글은 218단어, 두번째 189단어"
   ]
  },
  {
   "cell_type": "code",
   "execution_count": 4,
   "id": "d417e8d5",
   "metadata": {
    "scrolled": true
   },
   "outputs": [
    {
     "name": "stdout",
     "output_type": "stream",
     "text": [
      "[1, 14, 22, 16, 43, 2, 2, 2, 2, 65, 458, 2, 66, 2, 4, 173, 36, 256, 5, 25, 100, 43, 2, 112, 50, 2, 2, 9, 35, 480, 284, 5, 150, 4, 172, 112, 167, 2, 336, 385, 39, 4, 172, 2, 2, 17, 2, 38, 13, 447, 4, 192, 50, 16, 6, 147, 2, 19, 14, 22, 4, 2, 2, 469, 4, 22, 71, 87, 12, 16, 43, 2, 38, 76, 15, 13, 2, 4, 22, 17, 2, 17, 12, 16, 2, 18, 2, 5, 62, 386, 12, 8, 316, 8, 106, 5, 4, 2, 2, 16, 480, 66, 2, 33, 4, 130, 12, 16, 38, 2, 5, 25, 124, 51, 36, 135, 48, 25, 2, 33, 6, 22, 12, 215, 28, 77, 52, 5, 14, 407, 16, 82, 2, 8, 4, 107, 117, 2, 15, 256, 4, 2, 7, 2, 5, 2, 36, 71, 43, 2, 476, 26, 400, 317, 46, 7, 4, 2, 2, 13, 104, 88, 4, 381, 15, 297, 98, 32, 2, 56, 26, 141, 6, 194, 2, 18, 4, 226, 22, 21, 134, 476, 26, 480, 5, 144, 30, 2, 18, 51, 36, 28, 224, 92, 25, 104, 4, 226, 65, 16, 38, 2, 88, 12, 16, 283, 5, 16, 2, 113, 103, 32, 15, 16, 2, 19, 178, 32]\n"
     ]
    }
   ],
   "source": [
    "print(train_input[0]) # 단어 빈도수 순위(top 20을 배제한)"
   ]
  },
  {
   "cell_type": "code",
   "execution_count": 5,
   "id": "77a478a5",
   "metadata": {},
   "outputs": [
    {
     "name": "stdout",
     "output_type": "stream",
     "text": [
      "[1 0 0 1 0 0 1 0 1 0 1 0 0 0 0 0 1 1 0 1]\n"
     ]
    }
   ],
   "source": [
    "print(train_target[:20]) # 1번은 긍정, 0번은 부정. 그래서 softmax는 필요없게 된다."
   ]
  },
  {
   "cell_type": "code",
   "execution_count": 6,
   "id": "ad29a92b",
   "metadata": {},
   "outputs": [
    {
     "name": "stdout",
     "output_type": "stream",
     "text": [
      "[14, 22, 16, 43, 65, 458, 66, 4, 173, 36, 256, 5, 25, 100, 43, 112, 50, 9, 35, 480, 284, 5, 150, 4, 172, 112, 167, 336, 385, 39, 4, 172, 17, 38, 13, 447, 4, 192, 50, 16, 6, 147, 19, 14, 22, 4, 469, 4, 22, 71, 87, 12, 16, 43, 38, 76, 15, 13, 4, 22, 17, 17, 12, 16, 18, 5, 62, 386, 12, 8, 316, 8, 106, 5, 4, 16, 480, 66, 33, 4, 130, 12, 16, 38, 5, 25, 124, 51, 36, 135, 48, 25, 33, 6, 22, 12, 215, 28, 77, 52, 5, 14, 407, 16, 82, 8, 4, 107, 117, 15, 256, 4, 7, 5, 36, 71, 43, 476, 26, 400, 317, 46, 7, 4, 13, 104, 88, 4, 381, 15, 297, 98, 32, 56, 26, 141, 6, 194, 18, 4, 226, 22, 21, 134, 476, 26, 480, 5, 144, 30, 18, 51, 36, 28, 224, 92, 25, 104, 4, 226, 65, 16, 38, 88, 12, 16, 283, 5, 16, 113, 103, 32, 15, 16, 19, 178, 32]\n"
     ]
    }
   ],
   "source": [
    "# 훈련 세트에서 2(어휘 사전에 없는 단어) 제외하기\n",
    "for i in range(len(train_input)):\n",
    "    train_input[i] = [w for w in train_input[i] if w > 2] # 단어 218번만큼 반복\n",
    "\n",
    "print(train_input[0])"
   ]
  },
  {
   "cell_type": "code",
   "execution_count": 7,
   "id": "b806df12",
   "metadata": {},
   "outputs": [],
   "source": [
    "from sklearn.model_selection import train_test_split\n",
    "\n",
    "train_input, val_input, train_target, val_target = \\\n",
    "train_test_split(train_input, train_target, test_size=0.2, random_state=42)"
   ]
  },
  {
   "cell_type": "code",
   "execution_count": 8,
   "id": "f09a1186",
   "metadata": {},
   "outputs": [],
   "source": [
    "import numpy as np\n",
    "\n",
    "lengths = np.array([len(x) for x in train_input])"
   ]
  },
  {
   "cell_type": "code",
   "execution_count": 9,
   "id": "494d3db9",
   "metadata": {},
   "outputs": [
    {
     "name": "stdout",
     "output_type": "stream",
     "text": [
      "164.67985 126.0\n"
     ]
    }
   ],
   "source": [
    "print(np.mean(lengths), np.median(lengths))"
   ]
  },
  {
   "cell_type": "code",
   "execution_count": 10,
   "id": "59ed0ee2",
   "metadata": {},
   "outputs": [
    {
     "data": {
      "image/png": "[encoded data removed]",
      "text/plain": [
       "<Figure size 640x480 with 1 Axes>"
      ]
     },
     "metadata": {},
     "output_type": "display_data"
    }
   ],
   "source": [
    "import matplotlib.pyplot as plt\n",
    "\n",
    "plt.hist(lengths)\n",
    "plt.xlabel('lengths')\n",
    "plt.ylabel('frequency')\n",
    "plt.show()"
   ]
  },
  {
   "cell_type": "code",
   "execution_count": 11,
   "id": "f60f8246",
   "metadata": {},
   "outputs": [
    {
     "data": {
      "text/plain": [
       "(20000, 100)"
      ]
     },
     "execution_count": 11,
     "metadata": {},
     "output_type": "execute_result"
    }
   ],
   "source": [
    "from tensorflow.keras.preprocessing.sequence import pad_sequences\n",
    "\n",
    "train_seq = pad_sequences(train_input, maxlen=100) \n",
    "# 100글자 이후만 남기고 나머지 글자는 싹 다 지워버림.\n",
    "# maxlen - 218개를 100개로 잘라버림\n",
    "# padding='pre'('post') maxlen에서 자른 것을 0으로 채워줌.\n",
    "train_seq.shape"
   ]
  },
  {
   "cell_type": "code",
   "execution_count": 12,
   "id": "070f042d",
   "metadata": {},
   "outputs": [
    {
     "data": {
      "text/plain": [
       "array([  0,   0,   0,   0,   0,   0,   0,   0,   0,   0,   0,   0,   0,\n",
       "         0,   0,   0,   0,   0,   0,   0,   0,   0,   0,   0,   0,   0,\n",
       "         0,   0,   0,   0,   0,   0,   0,   0,   0,   0,   0,   0, 195,\n",
       "        19,  49, 190,   4, 352, 183,  10,  10,  13,  82,  79,   4,  36,\n",
       "        71, 269,   8,  25,  19,  49,   7,   4,  10,  10,  48,  25,  40,\n",
       "        11,  40,   5,   4,  95,  14, 238,  56, 129,  10,  10,  21,  94,\n",
       "       364, 352,  11, 190,  24, 484,   7,  94, 205, 405,  10,  10,  87,\n",
       "        34,  49,   7, 290,  46,  48,  64,  18,   4])"
      ]
     },
     "execution_count": 12,
     "metadata": {},
     "output_type": "execute_result"
    }
   ],
   "source": [
    "train_seq[5] \n",
    "\n",
    "# 숫자들은 범주형(남자1, 여자2 ...와 같은) \n",
    "# 49번째 영어단어, 19번째 영어단어라고 함. 유니코드화하여 정수화시킴 \n",
    "#100개의 단어를 가지고 있다.."
   ]
  },
  {
   "cell_type": "code",
   "execution_count": 13,
   "id": "d6e37827",
   "metadata": {},
   "outputs": [
    {
     "data": {
      "text/plain": [
       "(20000, 100)"
      ]
     },
     "execution_count": 13,
     "metadata": {},
     "output_type": "execute_result"
    }
   ],
   "source": [
    "val_seq = pad_sequences(val_input, maxlen=100)\n",
    "train_seq.shape"
   ]
  },
  {
   "cell_type": "markdown",
   "id": "f234b8d3",
   "metadata": {},
   "source": [
    "# 순환 신경망 만들기"
   ]
  },
  {
   "cell_type": "code",
   "execution_count": 14,
   "id": "9ffcf31d",
   "metadata": {},
   "outputs": [],
   "source": [
    "from tensorflow import keras\n",
    "\n",
    "model = keras.Sequential()\n",
    "\n",
    "model.add(keras.layers.SimpleRNN(8, input_shape=(100, 500)))\n",
    "# 신경망 - Dense, CNN - Conv2D, RNN - RimpleRNN()\n",
    "# default가 tahn으로 -1~1로 해놔서 달아놓을 필요 없다.\n",
    "model.add(keras.layers.Dense(1, activation='sigmoid'))"
   ]
  },
  {
   "cell_type": "code",
   "execution_count": 15,
   "id": "3b52cd86",
   "metadata": {},
   "outputs": [
    {
     "data": {
      "text/plain": [
       "(20000, 100, 500)"
      ]
     },
     "execution_count": 15,
     "metadata": {},
     "output_type": "execute_result"
    }
   ],
   "source": [
    "train_oh = keras.utils.to_categorical(train_seq)\n",
    "train_oh.shape # (20000데이터, 100글자, 500인덱스로 펼쳐줌)"
   ]
  },
  {
   "cell_type": "code",
   "execution_count": 16,
   "id": "bec74645",
   "metadata": {},
   "outputs": [
    {
     "data": {
      "text/plain": [
       "(5000, 100, 500)"
      ]
     },
     "execution_count": 16,
     "metadata": {},
     "output_type": "execute_result"
    }
   ],
   "source": [
    "val_oh = keras.utils.to_categorical(val_seq)\n",
    "val_oh.shape # (20000데이터, 100글자, 500인덱스로 펼쳐줌)"
   ]
  },
  {
   "cell_type": "code",
   "execution_count": 17,
   "id": "60cd242a",
   "metadata": {
    "scrolled": true
   },
   "outputs": [
    {
     "data": {
      "text/plain": [
       "array([[[0., 0., 0., ..., 0., 0., 0.],\n",
       "        [0., 0., 0., ..., 0., 0., 0.],\n",
       "        [0., 0., 0., ..., 0., 0., 0.],\n",
       "        ...,\n",
       "        [0., 0., 0., ..., 0., 0., 0.],\n",
       "        [0., 0., 0., ..., 0., 0., 0.],\n",
       "        [0., 0., 0., ..., 0., 0., 0.]],\n",
       "\n",
       "       [[0., 0., 0., ..., 0., 0., 0.],\n",
       "        [0., 0., 0., ..., 0., 0., 0.],\n",
       "        [0., 0., 0., ..., 0., 0., 0.],\n",
       "        ...,\n",
       "        [0., 0., 0., ..., 0., 0., 0.],\n",
       "        [0., 0., 0., ..., 0., 0., 0.],\n",
       "        [0., 0., 0., ..., 0., 0., 0.]]], dtype=float32)"
      ]
     },
     "execution_count": 17,
     "metadata": {},
     "output_type": "execute_result"
    }
   ],
   "source": [
    "val_oh[0:2]"
   ]
  },
  {
   "cell_type": "code",
   "execution_count": 18,
   "id": "ed8e56d7",
   "metadata": {},
   "outputs": [
    {
     "name": "stdout",
     "output_type": "stream",
     "text": [
      "Model: \"sequential\"\n",
      "_________________________________________________________________\n",
      " Layer (type)                Output Shape              Param #   \n",
      "=================================================================\n",
      " simple_rnn (SimpleRNN)      (None, 8)                 4072      \n",
      "                                                                 \n",
      " dense (Dense)               (None, 1)                 9         \n",
      "                                                                 \n",
      "=================================================================\n",
      "Total params: 4,081\n",
      "Trainable params: 4,081\n",
      "Non-trainable params: 0\n",
      "_________________________________________________________________\n"
     ]
    }
   ],
   "source": [
    "model.summary()"
   ]
  },
  {
   "cell_type": "code",
   "execution_count": 19,
   "id": "d3063263",
   "metadata": {},
   "outputs": [
    {
     "name": "stdout",
     "output_type": "stream",
     "text": [
      "0.0001\n"
     ]
    }
   ],
   "source": [
    "print(1e-4)"
   ]
  },
  {
   "cell_type": "code",
   "execution_count": 20,
   "id": "16f52615",
   "metadata": {
    "scrolled": true
   },
   "outputs": [
    {
     "name": "stdout",
     "output_type": "stream",
     "text": [
      "Epoch 1/200\n",
      "313/313 [==============================] - 7s 19ms/step - loss: 0.6982 - accuracy: 0.5078 - val_loss: 0.6958 - val_accuracy: 0.5050\n",
      "Epoch 2/200\n",
      "313/313 [==============================] - 6s 18ms/step - loss: 0.6889 - accuracy: 0.5393 - val_loss: 0.6842 - val_accuracy: 0.5574\n",
      "Epoch 3/200\n",
      "313/313 [==============================] - 6s 19ms/step - loss: 0.6749 - accuracy: 0.5954 - val_loss: 0.6699 - val_accuracy: 0.6058\n",
      "Epoch 4/200\n",
      "313/313 [==============================] - 6s 19ms/step - loss: 0.6582 - accuracy: 0.6430 - val_loss: 0.6529 - val_accuracy: 0.6498\n",
      "Epoch 5/200\n",
      "313/313 [==============================] - 6s 18ms/step - loss: 0.6365 - accuracy: 0.6852 - val_loss: 0.6300 - val_accuracy: 0.6904\n",
      "Epoch 6/200\n",
      "313/313 [==============================] - 6s 19ms/step - loss: 0.6155 - accuracy: 0.7114 - val_loss: 0.6103 - val_accuracy: 0.7118\n",
      "Epoch 7/200\n",
      "313/313 [==============================] - 6s 19ms/step - loss: 0.5954 - accuracy: 0.7330 - val_loss: 0.5909 - val_accuracy: 0.7254\n",
      "Epoch 8/200\n",
      "313/313 [==============================] - 6s 18ms/step - loss: 0.5770 - accuracy: 0.7461 - val_loss: 0.5764 - val_accuracy: 0.7370\n",
      "Epoch 9/200\n",
      "313/313 [==============================] - 6s 19ms/step - loss: 0.5589 - accuracy: 0.7569 - val_loss: 0.5597 - val_accuracy: 0.7480\n",
      "Epoch 10/200\n",
      "313/313 [==============================] - 6s 18ms/step - loss: 0.5419 - accuracy: 0.7677 - val_loss: 0.5459 - val_accuracy: 0.7554\n",
      "Epoch 11/200\n",
      "313/313 [==============================] - 6s 19ms/step - loss: 0.5258 - accuracy: 0.7774 - val_loss: 0.5318 - val_accuracy: 0.7610\n",
      "Epoch 12/200\n",
      "313/313 [==============================] - 6s 19ms/step - loss: 0.5104 - accuracy: 0.7843 - val_loss: 0.5254 - val_accuracy: 0.7618\n",
      "Epoch 13/200\n",
      "313/313 [==============================] - 6s 19ms/step - loss: 0.4974 - accuracy: 0.7898 - val_loss: 0.5081 - val_accuracy: 0.7724\n",
      "Epoch 14/200\n",
      "313/313 [==============================] - 6s 19ms/step - loss: 0.4852 - accuracy: 0.7946 - val_loss: 0.4987 - val_accuracy: 0.7760\n",
      "Epoch 15/200\n",
      "313/313 [==============================] - 6s 19ms/step - loss: 0.4738 - accuracy: 0.8002 - val_loss: 0.4935 - val_accuracy: 0.7792\n",
      "Epoch 16/200\n",
      "313/313 [==============================] - 6s 19ms/step - loss: 0.4644 - accuracy: 0.8040 - val_loss: 0.4819 - val_accuracy: 0.7876\n",
      "Epoch 17/200\n",
      "313/313 [==============================] - 6s 20ms/step - loss: 0.4556 - accuracy: 0.8072 - val_loss: 0.4765 - val_accuracy: 0.7804\n",
      "Epoch 18/200\n",
      "313/313 [==============================] - 6s 20ms/step - loss: 0.4474 - accuracy: 0.8102 - val_loss: 0.4693 - val_accuracy: 0.7870\n",
      "Epoch 19/200\n",
      "313/313 [==============================] - 6s 19ms/step - loss: 0.4401 - accuracy: 0.8147 - val_loss: 0.4658 - val_accuracy: 0.7888\n",
      "Epoch 20/200\n",
      "313/313 [==============================] - 6s 18ms/step - loss: 0.4332 - accuracy: 0.8161 - val_loss: 0.4622 - val_accuracy: 0.7892\n",
      "Epoch 21/200\n",
      "313/313 [==============================] - 6s 19ms/step - loss: 0.4276 - accuracy: 0.8195 - val_loss: 0.4554 - val_accuracy: 0.7934\n",
      "Epoch 22/200\n",
      "313/313 [==============================] - 6s 19ms/step - loss: 0.4220 - accuracy: 0.8212 - val_loss: 0.4544 - val_accuracy: 0.7938\n",
      "Epoch 23/200\n",
      "313/313 [==============================] - 6s 19ms/step - loss: 0.4166 - accuracy: 0.8215 - val_loss: 0.4521 - val_accuracy: 0.7958\n",
      "Epoch 24/200\n",
      "313/313 [==============================] - 6s 18ms/step - loss: 0.4125 - accuracy: 0.8248 - val_loss: 0.4519 - val_accuracy: 0.7942\n",
      "Epoch 25/200\n",
      "313/313 [==============================] - 6s 19ms/step - loss: 0.4086 - accuracy: 0.8264 - val_loss: 0.4446 - val_accuracy: 0.7982\n",
      "Epoch 26/200\n",
      "313/313 [==============================] - 6s 18ms/step - loss: 0.4052 - accuracy: 0.8273 - val_loss: 0.4466 - val_accuracy: 0.7976\n",
      "Epoch 27/200\n",
      "313/313 [==============================] - 6s 19ms/step - loss: 0.4014 - accuracy: 0.8294 - val_loss: 0.4460 - val_accuracy: 0.8000\n",
      "Epoch 28/200\n",
      "313/313 [==============================] - 6s 19ms/step - loss: 0.3985 - accuracy: 0.8291 - val_loss: 0.4423 - val_accuracy: 0.7984\n",
      "Epoch 29/200\n",
      "313/313 [==============================] - 6s 19ms/step - loss: 0.3963 - accuracy: 0.8304 - val_loss: 0.4395 - val_accuracy: 0.8042\n",
      "Epoch 30/200\n",
      "313/313 [==============================] - 6s 18ms/step - loss: 0.3937 - accuracy: 0.8328 - val_loss: 0.4356 - val_accuracy: 0.8034\n",
      "Epoch 31/200\n",
      "313/313 [==============================] - 6s 18ms/step - loss: 0.3916 - accuracy: 0.8324 - val_loss: 0.4392 - val_accuracy: 0.8032\n",
      "Epoch 32/200\n",
      "313/313 [==============================] - 6s 18ms/step - loss: 0.3890 - accuracy: 0.8346 - val_loss: 0.4361 - val_accuracy: 0.8046\n",
      "Epoch 33/200\n",
      "313/313 [==============================] - 6s 18ms/step - loss: 0.3864 - accuracy: 0.8357 - val_loss: 0.4388 - val_accuracy: 0.8038\n"
     ]
    }
   ],
   "source": [
    "model.compile(optimizer=keras.optimizers.RMSprop(learning_rate=1e-4), loss='binary_crossentropy', metrics='accuracy') \n",
    "# RMSprop은 디폴트값을 정해줄 수 있음.\n",
    "# learning_rate = 1e-4 = 0.0001\n",
    "\n",
    "checkpoint_cb = keras.callbacks.ModelCheckpoint('best-simpleRNN-Model.h5', save_best_only=True)\n",
    "early_stopping_cb = keras.callbacks.EarlyStopping(patience=3, restore_best_weights=True) \n",
    "\n",
    "history = model.fit(train_oh, train_target, epochs=200, batch_size=64, validation_data=(val_oh, val_target),\n",
    "                   callbacks=[checkpoint_cb, early_stopping_cb]) \n",
    "# batch_size=64 - 64씩 읽어오라는 것.\n",
    "# batch_size만큼 가져와서 validation_data로 검증도 같이함.\n",
    "# history - 정확도 값을 담아줌\n",
    "# patience=3 - 3번이상 커지면 멈춰라! # patience의 기준은 val_loss"
   ]
  },
  {
   "cell_type": "code",
   "execution_count": 21,
   "id": "a21b7423",
   "metadata": {},
   "outputs": [
    {
     "data": {
      "image/png": "[encoded data removed]",
      "text/plain": [
       "<Figure size 640x480 with 1 Axes>"
      ]
     },
     "metadata": {},
     "output_type": "display_data"
    }
   ],
   "source": [
    "\"\"\"\n",
    "Epoch 33/200\n",
    "313/313 [==============================] - 6s 18ms/step - loss: 0.3864 - accuracy: 0.8357 - val_loss: 0.4388 - val_accuracy: 0.8038\n",
    "\"\"\"\n",
    "\n",
    "plt.plot(history.history['loss'])\n",
    "plt.plot(history.history['val_loss'])\n",
    "plt.xlabel('epoch')\n",
    "plt.ylabel('loss') # 두 개의 loss를 출력해줌. loss, val_loss\n",
    "plt.legend(['train', 'val']) # 색깔로 표시해줌.\n",
    "plt.show()"
   ]
  },
  {
   "cell_type": "markdown",
   "id": "bf54fd48",
   "metadata": {},
   "source": [
    "# 단어 임베딩 사용하기"
   ]
  },
  {
   "cell_type": "code",
   "execution_count": null,
   "id": "3f6a45cf",
   "metadata": {},
   "outputs": [],
   "source": []
  }
 ],
 "metadata": {
  "kernelspec": {
   "display_name": "Python 3 (ipykernel)",
   "language": "python",
   "name": "python3"
  },
  "language_info": {
   "codemirror_mode": {
    "name": "ipython",
    "version": 3
   },
   "file_extension": ".py",
   "mimetype": "text/x-python",
   "name": "python",
   "nbconvert_exporter": "python",
   "pygments_lexer": "ipython3",
   "version": "3.7.13"
  }
 },
 "nbformat": 4,
 "nbformat_minor": 5
}
