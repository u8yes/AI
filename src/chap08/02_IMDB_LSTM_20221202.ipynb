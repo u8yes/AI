{
 "cells": [
  {
   "cell_type": "code",
   "execution_count": 1,
   "id": "d84b7078",
   "metadata": {},
   "outputs": [],
   "source": [
    "# IMDB 리뷰 데이터 셋\n",
    "from tensorflow.keras.datasets import imdb\n",
    "\n",
    "(train_input, train_target),(test_input, test_target) = imdb.load_data(num_words=500) # skip_top=20\n",
    "# num_words=500는 500순위까지만 끊었음\n",
    "# skip_top - 1~20위까지는 생략\n",
    "# 500순위 단어를 벗어나는 것은 2로 채움."
   ]
  },
  {
   "cell_type": "code",
   "execution_count": 2,
   "id": "163376b7",
   "metadata": {},
   "outputs": [
    {
     "name": "stdout",
     "output_type": "stream",
     "text": [
      "(25000,) (25000,)\n"
     ]
    }
   ],
   "source": [
    "print(train_input.shape, test_input.shape) # 데이터의 의미를 정확하게 파악"
   ]
  },
  {
   "cell_type": "code",
   "execution_count": 3,
   "id": "dbdf82da",
   "metadata": {},
   "outputs": [
    {
     "name": "stdout",
     "output_type": "stream",
     "text": [
      "218 189\n"
     ]
    }
   ],
   "source": [
    "print(len(train_input[0]), len(train_input[1])) # 첫번째 댓글은 218단어, 두번째 189단어"
   ]
  },
  {
   "cell_type": "code",
   "execution_count": 4,
   "id": "d417e8d5",
   "metadata": {
    "scrolled": true
   },
   "outputs": [
    {
     "name": "stdout",
     "output_type": "stream",
     "text": [
      "[1, 14, 22, 16, 43, 2, 2, 2, 2, 65, 458, 2, 66, 2, 4, 173, 36, 256, 5, 25, 100, 43, 2, 112, 50, 2, 2, 9, 35, 480, 284, 5, 150, 4, 172, 112, 167, 2, 336, 385, 39, 4, 172, 2, 2, 17, 2, 38, 13, 447, 4, 192, 50, 16, 6, 147, 2, 19, 14, 22, 4, 2, 2, 469, 4, 22, 71, 87, 12, 16, 43, 2, 38, 76, 15, 13, 2, 4, 22, 17, 2, 17, 12, 16, 2, 18, 2, 5, 62, 386, 12, 8, 316, 8, 106, 5, 4, 2, 2, 16, 480, 66, 2, 33, 4, 130, 12, 16, 38, 2, 5, 25, 124, 51, 36, 135, 48, 25, 2, 33, 6, 22, 12, 215, 28, 77, 52, 5, 14, 407, 16, 82, 2, 8, 4, 107, 117, 2, 15, 256, 4, 2, 7, 2, 5, 2, 36, 71, 43, 2, 476, 26, 400, 317, 46, 7, 4, 2, 2, 13, 104, 88, 4, 381, 15, 297, 98, 32, 2, 56, 26, 141, 6, 194, 2, 18, 4, 226, 22, 21, 134, 476, 26, 480, 5, 144, 30, 2, 18, 51, 36, 28, 224, 92, 25, 104, 4, 226, 65, 16, 38, 2, 88, 12, 16, 283, 5, 16, 2, 113, 103, 32, 15, 16, 2, 19, 178, 32]\n"
     ]
    }
   ],
   "source": [
    "print(train_input[0]) # 단어 빈도수 순위(top 20을 배제한)"
   ]
  },
  {
   "cell_type": "code",
   "execution_count": 5,
   "id": "77a478a5",
   "metadata": {},
   "outputs": [
    {
     "name": "stdout",
     "output_type": "stream",
     "text": [
      "[1 0 0 1 0 0 1 0 1 0 1 0 0 0 0 0 1 1 0 1]\n"
     ]
    }
   ],
   "source": [
    "print(train_target[:20]) # 1번은 긍정, 0번은 부정. 그래서 softmax는 필요없게 된다. # 감성 분류"
   ]
  },
  {
   "cell_type": "code",
   "execution_count": 6,
   "id": "ad29a92b",
   "metadata": {},
   "outputs": [
    {
     "name": "stdout",
     "output_type": "stream",
     "text": [
      "[14, 22, 16, 43, 65, 458, 66, 4, 173, 36, 256, 5, 25, 100, 43, 112, 50, 9, 35, 480, 284, 5, 150, 4, 172, 112, 167, 336, 385, 39, 4, 172, 17, 38, 13, 447, 4, 192, 50, 16, 6, 147, 19, 14, 22, 4, 469, 4, 22, 71, 87, 12, 16, 43, 38, 76, 15, 13, 4, 22, 17, 17, 12, 16, 18, 5, 62, 386, 12, 8, 316, 8, 106, 5, 4, 16, 480, 66, 33, 4, 130, 12, 16, 38, 5, 25, 124, 51, 36, 135, 48, 25, 33, 6, 22, 12, 215, 28, 77, 52, 5, 14, 407, 16, 82, 8, 4, 107, 117, 15, 256, 4, 7, 5, 36, 71, 43, 476, 26, 400, 317, 46, 7, 4, 13, 104, 88, 4, 381, 15, 297, 98, 32, 56, 26, 141, 6, 194, 18, 4, 226, 22, 21, 134, 476, 26, 480, 5, 144, 30, 18, 51, 36, 28, 224, 92, 25, 104, 4, 226, 65, 16, 38, 88, 12, 16, 283, 5, 16, 113, 103, 32, 15, 16, 19, 178, 32]\n"
     ]
    }
   ],
   "source": [
    "# 훈련 세트에서 2(어휘 사전에 없는 단어) 제외하기 \n",
    "for i in range(len(train_input)):\n",
    "    train_input[i] = [w for w in train_input[i] if w > 2] # 단어 218번만큼 반복\n",
    "\n",
    "print(train_input[0])"
   ]
  },
  {
   "cell_type": "code",
   "execution_count": 7,
   "id": "b806df12",
   "metadata": {},
   "outputs": [],
   "source": [
    "from sklearn.model_selection import train_test_split\n",
    "\n",
    "train_input, val_input, train_target, val_target = \\\n",
    "train_test_split(train_input, train_target, test_size=0.2, random_state=42)"
   ]
  },
  {
   "cell_type": "code",
   "execution_count": 8,
   "id": "f09a1186",
   "metadata": {},
   "outputs": [],
   "source": [
    "import numpy as np\n",
    "\n",
    "lengths = np.array([len(x) for x in train_input])"
   ]
  },
  {
   "cell_type": "code",
   "execution_count": 9,
   "id": "494d3db9",
   "metadata": {},
   "outputs": [
    {
     "name": "stdout",
     "output_type": "stream",
     "text": [
      "164.67985 126.0\n"
     ]
    }
   ],
   "source": [
    "print(np.mean(lengths), np.median(lengths))"
   ]
  },
  {
   "cell_type": "code",
   "execution_count": 10,
   "id": "59ed0ee2",
   "metadata": {},
   "outputs": [
    {
     "data": {
      "image/png": "[encoded data removed]",
      "text/plain": [
       "<Figure size 640x480 with 1 Axes>"
      ]
     },
     "metadata": {},
     "output_type": "display_data"
    }
   ],
   "source": [
    "import matplotlib.pyplot as plt\n",
    "\n",
    "plt.hist(lengths)\n",
    "plt.xlabel('lengths')\n",
    "plt.ylabel('frequency')\n",
    "plt.show()"
   ]
  },
  {
   "cell_type": "code",
   "execution_count": 11,
   "id": "f60f8246",
   "metadata": {},
   "outputs": [
    {
     "data": {
      "text/plain": [
       "(20000, 100)"
      ]
     },
     "execution_count": 11,
     "metadata": {},
     "output_type": "execute_result"
    }
   ],
   "source": [
    "from tensorflow.keras.preprocessing.sequence import pad_sequences\n",
    "\n",
    "train_seq = pad_sequences(train_input, maxlen=100) \n",
    "# 100글자 이후만 남기고 나머지 글자는 싹 다 지워버림.\n",
    "# maxlen - 218개를 100개로 잘라버림\n",
    "# padding='pre'('post') maxlen에서 자른 것을 0으로 채워줌.\n",
    "train_seq.shape"
   ]
  },
  {
   "cell_type": "code",
   "execution_count": 12,
   "id": "070f042d",
   "metadata": {},
   "outputs": [
    {
     "data": {
      "text/plain": [
       "array([  0,   0,   0,   0,   0,   0,   0,   0,   0,   0,   0,   0,   0,\n",
       "         0,   0,   0,   0,   0,   0,   0,   0,   0,   0,   0,   0,   0,\n",
       "         0,   0,   0,   0,   0,   0,   0,   0,   0,   0,   0,   0, 195,\n",
       "        19,  49, 190,   4, 352, 183,  10,  10,  13,  82,  79,   4,  36,\n",
       "        71, 269,   8,  25,  19,  49,   7,   4,  10,  10,  48,  25,  40,\n",
       "        11,  40,   5,   4,  95,  14, 238,  56, 129,  10,  10,  21,  94,\n",
       "       364, 352,  11, 190,  24, 484,   7,  94, 205, 405,  10,  10,  87,\n",
       "        34,  49,   7, 290,  46,  48,  64,  18,   4])"
      ]
     },
     "execution_count": 12,
     "metadata": {},
     "output_type": "execute_result"
    }
   ],
   "source": [
    "train_seq[5] \n",
    "\n",
    "# 숫자들은 범주형(남자1, 여자2 ...와 같은) \n",
    "# 49번째 영어단어, 19번째 영어단어라고 함. 유니코드화하여 정수화시킴 \n",
    "#100개의 단어를 가지고 있다.."
   ]
  },
  {
   "cell_type": "code",
   "execution_count": 13,
   "id": "dfdc8ff5",
   "metadata": {},
   "outputs": [
    {
     "data": {
      "text/plain": [
       "(20000, 100)"
      ]
     },
     "execution_count": 13,
     "metadata": {},
     "output_type": "execute_result"
    }
   ],
   "source": [
    "val_seq = pad_sequences(val_input, maxlen=100)\n",
    "train_seq.shape"
   ]
  },
  {
   "cell_type": "markdown",
   "id": "6cf25f4d",
   "metadata": {},
   "source": [
    "# 순환 신경망 만들기_20221202"
   ]
  },
  {
   "cell_type": "code",
   "execution_count": 14,
   "id": "fc89b5b4",
   "metadata": {},
   "outputs": [
    {
     "name": "stdout",
     "output_type": "stream",
     "text": [
      "Model: \"sequential\"\n",
      "_________________________________________________________________\n",
      " Layer (type)                Output Shape              Param #   \n",
      "=================================================================\n",
      " embedding (Embedding)       (None, 100, 16)           8000      \n",
      "                                                                 \n",
      " lstm (LSTM)                 (None, 8)                 800       \n",
      "                                                                 \n",
      " dense (Dense)               (None, 1)                 9         \n",
      "                                                                 \n",
      "=================================================================\n",
      "Total params: 8,809\n",
      "Trainable params: 8,809\n",
      "Non-trainable params: 0\n",
      "_________________________________________________________________\n"
     ]
    }
   ],
   "source": [
    "from tensorflow import keras\n",
    "\n",
    "model = keras.Sequential()\n",
    "\n",
    "model.add(keras.layers.Embedding(500, 16, input_length=100)) \n",
    "model.add(keras.layers.LSTM(8))\n",
    "# 신경망 - Dense, CNN - Conv2D, RNN - RimpleRNN()\n",
    "# default가 tahn으로 -1~1로 해놔서 달아놓을 필요 없다.\n",
    "model.add(keras.layers.Dense(1, activation='sigmoid'))\n",
    "\n",
    "model.summary()"
   ]
  },
  {
   "cell_type": "code",
   "execution_count": 15,
   "id": "a9440a6b",
   "metadata": {},
   "outputs": [
    {
     "name": "stdout",
     "output_type": "stream",
     "text": [
      "0.0001\n"
     ]
    }
   ],
   "source": [
    "print(1e-4)"
   ]
  },
  {
   "cell_type": "code",
   "execution_count": 16,
   "id": "7eb84e7e",
   "metadata": {
    "scrolled": true
   },
   "outputs": [
    {
     "name": "stdout",
     "output_type": "stream",
     "text": [
      "Epoch 1/200\n",
      "313/313 [==============================] - 10s 23ms/step - loss: 0.6922 - accuracy: 0.5569 - val_loss: 0.6910 - val_accuracy: 0.6000\n",
      "Epoch 2/200\n",
      "313/313 [==============================] - 7s 21ms/step - loss: 0.6887 - accuracy: 0.6399 - val_loss: 0.6850 - val_accuracy: 0.6582\n",
      "Epoch 3/200\n",
      "313/313 [==============================] - 7s 21ms/step - loss: 0.6633 - accuracy: 0.6763 - val_loss: 0.6292 - val_accuracy: 0.7302\n",
      "Epoch 4/200\n",
      "313/313 [==============================] - 7s 21ms/step - loss: 0.6045 - accuracy: 0.7374 - val_loss: 0.5897 - val_accuracy: 0.7456\n",
      "Epoch 5/200\n",
      "313/313 [==============================] - 7s 21ms/step - loss: 0.5759 - accuracy: 0.7537 - val_loss: 0.5669 - val_accuracy: 0.7544\n",
      "Epoch 6/200\n",
      "313/313 [==============================] - 6s 21ms/step - loss: 0.5533 - accuracy: 0.7670 - val_loss: 0.5488 - val_accuracy: 0.7704\n",
      "Epoch 7/200\n",
      "313/313 [==============================] - 7s 21ms/step - loss: 0.5339 - accuracy: 0.7789 - val_loss: 0.5308 - val_accuracy: 0.7778\n",
      "Epoch 8/200\n",
      "313/313 [==============================] - 6s 21ms/step - loss: 0.5156 - accuracy: 0.7862 - val_loss: 0.5158 - val_accuracy: 0.7832\n",
      "Epoch 9/200\n",
      "313/313 [==============================] - 6s 21ms/step - loss: 0.4979 - accuracy: 0.7937 - val_loss: 0.5013 - val_accuracy: 0.7892\n",
      "Epoch 10/200\n",
      "313/313 [==============================] - 7s 21ms/step - loss: 0.4814 - accuracy: 0.8001 - val_loss: 0.4844 - val_accuracy: 0.7950\n",
      "Epoch 11/200\n",
      "313/313 [==============================] - 6s 21ms/step - loss: 0.4666 - accuracy: 0.8066 - val_loss: 0.4729 - val_accuracy: 0.7954\n",
      "Epoch 12/200\n",
      "313/313 [==============================] - 6s 21ms/step - loss: 0.4532 - accuracy: 0.8102 - val_loss: 0.4595 - val_accuracy: 0.8026\n",
      "Epoch 13/200\n",
      "313/313 [==============================] - 7s 21ms/step - loss: 0.4419 - accuracy: 0.8155 - val_loss: 0.4500 - val_accuracy: 0.8088\n",
      "Epoch 14/200\n",
      "313/313 [==============================] - 7s 21ms/step - loss: 0.4323 - accuracy: 0.8173 - val_loss: 0.4432 - val_accuracy: 0.8070\n",
      "Epoch 15/200\n",
      "313/313 [==============================] - 7s 21ms/step - loss: 0.4247 - accuracy: 0.8213 - val_loss: 0.4420 - val_accuracy: 0.8048\n",
      "Epoch 16/200\n",
      "313/313 [==============================] - 7s 21ms/step - loss: 0.4185 - accuracy: 0.8228 - val_loss: 0.4323 - val_accuracy: 0.8096\n",
      "Epoch 17/200\n",
      "313/313 [==============================] - 7s 21ms/step - loss: 0.4134 - accuracy: 0.8261 - val_loss: 0.4297 - val_accuracy: 0.8064\n",
      "Epoch 18/200\n",
      "313/313 [==============================] - 6s 21ms/step - loss: 0.4092 - accuracy: 0.8270 - val_loss: 0.4266 - val_accuracy: 0.8090\n",
      "Epoch 19/200\n",
      "313/313 [==============================] - 6s 21ms/step - loss: 0.4051 - accuracy: 0.8280 - val_loss: 0.4228 - val_accuracy: 0.8108\n",
      "Epoch 20/200\n",
      "313/313 [==============================] - 7s 21ms/step - loss: 0.4019 - accuracy: 0.8284 - val_loss: 0.4208 - val_accuracy: 0.8134\n",
      "Epoch 21/200\n",
      "313/313 [==============================] - 6s 21ms/step - loss: 0.3992 - accuracy: 0.8281 - val_loss: 0.4195 - val_accuracy: 0.8122\n",
      "Epoch 22/200\n",
      "313/313 [==============================] - 6s 21ms/step - loss: 0.3967 - accuracy: 0.8313 - val_loss: 0.4176 - val_accuracy: 0.8142\n",
      "Epoch 23/200\n",
      "313/313 [==============================] - 7s 21ms/step - loss: 0.3946 - accuracy: 0.8295 - val_loss: 0.4161 - val_accuracy: 0.8144\n",
      "Epoch 24/200\n",
      "313/313 [==============================] - 6s 21ms/step - loss: 0.3922 - accuracy: 0.8319 - val_loss: 0.4186 - val_accuracy: 0.8126\n",
      "Epoch 25/200\n",
      "313/313 [==============================] - 6s 21ms/step - loss: 0.3905 - accuracy: 0.8291 - val_loss: 0.4153 - val_accuracy: 0.8124\n",
      "Epoch 26/200\n",
      "313/313 [==============================] - 6s 21ms/step - loss: 0.3884 - accuracy: 0.8318 - val_loss: 0.4143 - val_accuracy: 0.8128\n",
      "Epoch 27/200\n",
      "313/313 [==============================] - 7s 21ms/step - loss: 0.3871 - accuracy: 0.8330 - val_loss: 0.4132 - val_accuracy: 0.8152\n",
      "Epoch 28/200\n",
      "313/313 [==============================] - 7s 21ms/step - loss: 0.3854 - accuracy: 0.8331 - val_loss: 0.4122 - val_accuracy: 0.8152\n",
      "Epoch 29/200\n",
      "313/313 [==============================] - 7s 21ms/step - loss: 0.3841 - accuracy: 0.8349 - val_loss: 0.4118 - val_accuracy: 0.8160\n",
      "Epoch 30/200\n",
      "313/313 [==============================] - 7s 21ms/step - loss: 0.3828 - accuracy: 0.8346 - val_loss: 0.4111 - val_accuracy: 0.8168\n",
      "Epoch 31/200\n",
      "313/313 [==============================] - 7s 21ms/step - loss: 0.3818 - accuracy: 0.8332 - val_loss: 0.4099 - val_accuracy: 0.8160\n",
      "Epoch 32/200\n",
      "313/313 [==============================] - 7s 21ms/step - loss: 0.3804 - accuracy: 0.8350 - val_loss: 0.4102 - val_accuracy: 0.8152\n",
      "Epoch 33/200\n",
      "313/313 [==============================] - 7s 21ms/step - loss: 0.3795 - accuracy: 0.8359 - val_loss: 0.4088 - val_accuracy: 0.8180\n",
      "Epoch 34/200\n",
      "313/313 [==============================] - 7s 21ms/step - loss: 0.3782 - accuracy: 0.8348 - val_loss: 0.4106 - val_accuracy: 0.8174\n",
      "Epoch 35/200\n",
      "313/313 [==============================] - 6s 20ms/step - loss: 0.3775 - accuracy: 0.8376 - val_loss: 0.4083 - val_accuracy: 0.8168\n",
      "Epoch 36/200\n",
      "313/313 [==============================] - 6s 20ms/step - loss: 0.3765 - accuracy: 0.8364 - val_loss: 0.4081 - val_accuracy: 0.8160\n",
      "Epoch 37/200\n",
      "313/313 [==============================] - 6s 21ms/step - loss: 0.3757 - accuracy: 0.8364 - val_loss: 0.4073 - val_accuracy: 0.8156\n",
      "Epoch 38/200\n",
      "313/313 [==============================] - 6s 20ms/step - loss: 0.3744 - accuracy: 0.8368 - val_loss: 0.4083 - val_accuracy: 0.8162\n",
      "Epoch 39/200\n",
      "313/313 [==============================] - 6s 20ms/step - loss: 0.3739 - accuracy: 0.8371 - val_loss: 0.4110 - val_accuracy: 0.8144\n",
      "Epoch 40/200\n",
      "313/313 [==============================] - 6s 20ms/step - loss: 0.3732 - accuracy: 0.8383 - val_loss: 0.4060 - val_accuracy: 0.8160\n",
      "Epoch 41/200\n",
      "313/313 [==============================] - 6s 20ms/step - loss: 0.3722 - accuracy: 0.8385 - val_loss: 0.4085 - val_accuracy: 0.8168\n",
      "Epoch 42/200\n",
      "313/313 [==============================] - 6s 20ms/step - loss: 0.3713 - accuracy: 0.8382 - val_loss: 0.4081 - val_accuracy: 0.8130\n",
      "Epoch 43/200\n",
      "313/313 [==============================] - 6s 20ms/step - loss: 0.3706 - accuracy: 0.8400 - val_loss: 0.4105 - val_accuracy: 0.8166\n",
      "Epoch 44/200\n",
      "313/313 [==============================] - 7s 21ms/step - loss: 0.3700 - accuracy: 0.8393 - val_loss: 0.4083 - val_accuracy: 0.8162\n",
      "Epoch 45/200\n",
      "313/313 [==============================] - 7s 21ms/step - loss: 0.3692 - accuracy: 0.8405 - val_loss: 0.4056 - val_accuracy: 0.8166\n",
      "Epoch 46/200\n",
      "313/313 [==============================] - 7s 21ms/step - loss: 0.3684 - accuracy: 0.8400 - val_loss: 0.4063 - val_accuracy: 0.8176\n",
      "Epoch 47/200\n",
      "313/313 [==============================] - 6s 21ms/step - loss: 0.3675 - accuracy: 0.8403 - val_loss: 0.4079 - val_accuracy: 0.8164\n",
      "Epoch 48/200\n",
      "313/313 [==============================] - 7s 21ms/step - loss: 0.3673 - accuracy: 0.8418 - val_loss: 0.4046 - val_accuracy: 0.8176\n",
      "Epoch 49/200\n",
      "313/313 [==============================] - 7s 21ms/step - loss: 0.3665 - accuracy: 0.8410 - val_loss: 0.4049 - val_accuracy: 0.8152\n",
      "Epoch 50/200\n",
      "313/313 [==============================] - 6s 21ms/step - loss: 0.3655 - accuracy: 0.8416 - val_loss: 0.4089 - val_accuracy: 0.8144\n",
      "Epoch 51/200\n",
      "313/313 [==============================] - 8s 24ms/step - loss: 0.3651 - accuracy: 0.8407 - val_loss: 0.4051 - val_accuracy: 0.8188\n",
      "Epoch 52/200\n",
      "313/313 [==============================] - 7s 22ms/step - loss: 0.3647 - accuracy: 0.8410 - val_loss: 0.4071 - val_accuracy: 0.8174\n",
      "Epoch 53/200\n",
      "313/313 [==============================] - 8s 25ms/step - loss: 0.3639 - accuracy: 0.8422 - val_loss: 0.4065 - val_accuracy: 0.8166\n",
      "Epoch 54/200\n",
      "313/313 [==============================] - 7s 23ms/step - loss: 0.3628 - accuracy: 0.8429 - val_loss: 0.4069 - val_accuracy: 0.8168\n",
      "Epoch 55/200\n",
      "313/313 [==============================] - 9s 27ms/step - loss: 0.3628 - accuracy: 0.8432 - val_loss: 0.4066 - val_accuracy: 0.8166\n",
      "Epoch 56/200\n",
      "313/313 [==============================] - 7s 23ms/step - loss: 0.3621 - accuracy: 0.8421 - val_loss: 0.4071 - val_accuracy: 0.8152\n",
      "Epoch 57/200\n"
     ]
    },
    {
     "name": "stdout",
     "output_type": "stream",
     "text": [
      "313/313 [==============================] - 6s 20ms/step - loss: 0.3616 - accuracy: 0.8428 - val_loss: 0.4063 - val_accuracy: 0.8160\n",
      "Epoch 58/200\n",
      "313/313 [==============================] - 7s 21ms/step - loss: 0.3606 - accuracy: 0.8445 - val_loss: 0.4108 - val_accuracy: 0.8144\n",
      "Epoch 59/200\n",
      "313/313 [==============================] - 7s 21ms/step - loss: 0.3606 - accuracy: 0.8429 - val_loss: 0.4091 - val_accuracy: 0.8180\n",
      "Epoch 60/200\n",
      "313/313 [==============================] - 6s 20ms/step - loss: 0.3600 - accuracy: 0.8447 - val_loss: 0.4069 - val_accuracy: 0.8154\n",
      "Epoch 61/200\n",
      "313/313 [==============================] - 6s 20ms/step - loss: 0.3593 - accuracy: 0.8457 - val_loss: 0.4098 - val_accuracy: 0.8130\n",
      "Epoch 62/200\n",
      "313/313 [==============================] - 7s 21ms/step - loss: 0.3588 - accuracy: 0.8452 - val_loss: 0.4080 - val_accuracy: 0.8160\n",
      "Epoch 63/200\n",
      "313/313 [==============================] - 6s 21ms/step - loss: 0.3583 - accuracy: 0.8443 - val_loss: 0.4133 - val_accuracy: 0.8138\n",
      "Epoch 64/200\n",
      "313/313 [==============================] - 6s 21ms/step - loss: 0.3577 - accuracy: 0.8457 - val_loss: 0.4100 - val_accuracy: 0.8164\n",
      "Epoch 65/200\n",
      "313/313 [==============================] - 7s 22ms/step - loss: 0.3576 - accuracy: 0.8443 - val_loss: 0.4094 - val_accuracy: 0.8146\n",
      "Epoch 66/200\n",
      "313/313 [==============================] - 7s 22ms/step - loss: 0.3565 - accuracy: 0.8452 - val_loss: 0.4096 - val_accuracy: 0.8140\n",
      "Epoch 67/200\n",
      "313/313 [==============================] - 7s 24ms/step - loss: 0.3569 - accuracy: 0.8456 - val_loss: 0.4081 - val_accuracy: 0.8138\n",
      "Epoch 68/200\n",
      "313/313 [==============================] - 7s 23ms/step - loss: 0.3562 - accuracy: 0.8454 - val_loss: 0.4088 - val_accuracy: 0.8128\n",
      "Epoch 69/200\n",
      "313/313 [==============================] - 8s 26ms/step - loss: 0.3554 - accuracy: 0.8451 - val_loss: 0.4097 - val_accuracy: 0.8150\n",
      "Epoch 70/200\n",
      "313/313 [==============================] - 7s 21ms/step - loss: 0.3551 - accuracy: 0.8469 - val_loss: 0.4100 - val_accuracy: 0.8100\n",
      "Epoch 71/200\n",
      "313/313 [==============================] - 7s 21ms/step - loss: 0.3551 - accuracy: 0.8465 - val_loss: 0.4123 - val_accuracy: 0.8142\n",
      "Epoch 72/200\n",
      "313/313 [==============================] - 7s 21ms/step - loss: 0.3545 - accuracy: 0.8468 - val_loss: 0.4114 - val_accuracy: 0.8150\n",
      "Epoch 73/200\n",
      "313/313 [==============================] - 7s 21ms/step - loss: 0.3538 - accuracy: 0.8463 - val_loss: 0.4102 - val_accuracy: 0.8114\n",
      "Epoch 74/200\n",
      "313/313 [==============================] - 7s 22ms/step - loss: 0.3536 - accuracy: 0.8478 - val_loss: 0.4142 - val_accuracy: 0.8094\n",
      "Epoch 75/200\n",
      "313/313 [==============================] - 7s 21ms/step - loss: 0.3532 - accuracy: 0.8467 - val_loss: 0.4106 - val_accuracy: 0.8156\n",
      "Epoch 76/200\n",
      "313/313 [==============================] - 7s 21ms/step - loss: 0.3526 - accuracy: 0.8472 - val_loss: 0.4104 - val_accuracy: 0.8150\n",
      "Epoch 77/200\n",
      "313/313 [==============================] - 7s 21ms/step - loss: 0.3523 - accuracy: 0.8472 - val_loss: 0.4113 - val_accuracy: 0.8136\n",
      "Epoch 78/200\n",
      "313/313 [==============================] - 7s 21ms/step - loss: 0.3518 - accuracy: 0.8477 - val_loss: 0.4136 - val_accuracy: 0.8076\n",
      "Epoch 79/200\n",
      "313/313 [==============================] - 7s 23ms/step - loss: 0.3517 - accuracy: 0.8464 - val_loss: 0.4120 - val_accuracy: 0.8154\n",
      "Epoch 80/200\n",
      "313/313 [==============================] - 7s 22ms/step - loss: 0.3513 - accuracy: 0.8480 - val_loss: 0.4126 - val_accuracy: 0.8064\n",
      "Epoch 81/200\n",
      "313/313 [==============================] - 7s 22ms/step - loss: 0.3510 - accuracy: 0.8478 - val_loss: 0.4123 - val_accuracy: 0.8136\n",
      "Epoch 82/200\n",
      "313/313 [==============================] - 7s 21ms/step - loss: 0.3502 - accuracy: 0.8487 - val_loss: 0.4240 - val_accuracy: 0.8094\n",
      "Epoch 83/200\n",
      "313/313 [==============================] - 7s 21ms/step - loss: 0.3506 - accuracy: 0.8490 - val_loss: 0.4161 - val_accuracy: 0.8072\n",
      "Epoch 84/200\n",
      "313/313 [==============================] - 7s 23ms/step - loss: 0.3499 - accuracy: 0.8473 - val_loss: 0.4158 - val_accuracy: 0.8084\n",
      "Epoch 85/200\n",
      "313/313 [==============================] - 6s 20ms/step - loss: 0.3497 - accuracy: 0.8481 - val_loss: 0.4192 - val_accuracy: 0.8074\n",
      "Epoch 86/200\n",
      "313/313 [==============================] - 6s 20ms/step - loss: 0.3493 - accuracy: 0.8478 - val_loss: 0.4127 - val_accuracy: 0.8094\n",
      "Epoch 87/200\n",
      "313/313 [==============================] - 6s 20ms/step - loss: 0.3486 - accuracy: 0.8488 - val_loss: 0.4164 - val_accuracy: 0.8128\n",
      "Epoch 88/200\n",
      "313/313 [==============================] - 7s 21ms/step - loss: 0.3487 - accuracy: 0.8493 - val_loss: 0.4121 - val_accuracy: 0.8106\n",
      "Epoch 89/200\n",
      "313/313 [==============================] - 7s 21ms/step - loss: 0.3485 - accuracy: 0.8474 - val_loss: 0.4131 - val_accuracy: 0.8126\n",
      "Epoch 90/200\n",
      "313/313 [==============================] - 7s 21ms/step - loss: 0.3480 - accuracy: 0.8479 - val_loss: 0.4162 - val_accuracy: 0.8096\n",
      "Epoch 91/200\n",
      "313/313 [==============================] - 7s 21ms/step - loss: 0.3477 - accuracy: 0.8493 - val_loss: 0.4173 - val_accuracy: 0.8082\n",
      "Epoch 92/200\n",
      "313/313 [==============================] - 7s 22ms/step - loss: 0.3470 - accuracy: 0.8494 - val_loss: 0.4201 - val_accuracy: 0.8078\n",
      "Epoch 93/200\n",
      "313/313 [==============================] - 7s 22ms/step - loss: 0.3471 - accuracy: 0.8478 - val_loss: 0.4146 - val_accuracy: 0.8120\n",
      "Epoch 94/200\n",
      "313/313 [==============================] - 7s 22ms/step - loss: 0.3469 - accuracy: 0.8502 - val_loss: 0.4159 - val_accuracy: 0.8092\n",
      "Epoch 95/200\n",
      "313/313 [==============================] - 7s 22ms/step - loss: 0.3467 - accuracy: 0.8493 - val_loss: 0.4190 - val_accuracy: 0.8098\n",
      "Epoch 96/200\n",
      "313/313 [==============================] - 7s 21ms/step - loss: 0.3464 - accuracy: 0.8485 - val_loss: 0.4138 - val_accuracy: 0.8116\n",
      "Epoch 97/200\n",
      "313/313 [==============================] - 6s 21ms/step - loss: 0.3459 - accuracy: 0.8504 - val_loss: 0.4168 - val_accuracy: 0.8084\n",
      "Epoch 98/200\n",
      "313/313 [==============================] - 7s 21ms/step - loss: 0.3460 - accuracy: 0.8489 - val_loss: 0.4155 - val_accuracy: 0.8104\n",
      "Epoch 99/200\n",
      "313/313 [==============================] - 6s 21ms/step - loss: 0.3453 - accuracy: 0.8510 - val_loss: 0.4189 - val_accuracy: 0.8116\n",
      "Epoch 100/200\n",
      "313/313 [==============================] - 7s 21ms/step - loss: 0.3453 - accuracy: 0.8497 - val_loss: 0.4184 - val_accuracy: 0.8056\n",
      "Epoch 101/200\n",
      "313/313 [==============================] - 7s 21ms/step - loss: 0.3449 - accuracy: 0.8503 - val_loss: 0.4148 - val_accuracy: 0.8100\n",
      "Epoch 102/200\n",
      "313/313 [==============================] - 7s 21ms/step - loss: 0.3447 - accuracy: 0.8502 - val_loss: 0.4169 - val_accuracy: 0.8118\n",
      "Epoch 103/200\n",
      "313/313 [==============================] - 7s 22ms/step - loss: 0.3446 - accuracy: 0.8520 - val_loss: 0.4177 - val_accuracy: 0.8118\n",
      "Epoch 104/200\n",
      "313/313 [==============================] - 7s 21ms/step - loss: 0.3443 - accuracy: 0.8528 - val_loss: 0.4216 - val_accuracy: 0.8068\n",
      "Epoch 105/200\n",
      "313/313 [==============================] - 7s 21ms/step - loss: 0.3439 - accuracy: 0.8512 - val_loss: 0.4211 - val_accuracy: 0.8070\n",
      "Epoch 106/200\n",
      "313/313 [==============================] - 7s 21ms/step - loss: 0.3438 - accuracy: 0.8522 - val_loss: 0.4173 - val_accuracy: 0.8102\n",
      "Epoch 107/200\n",
      "313/313 [==============================] - 7s 21ms/step - loss: 0.3433 - accuracy: 0.8529 - val_loss: 0.4174 - val_accuracy: 0.8096\n",
      "Epoch 108/200\n",
      "313/313 [==============================] - 6s 20ms/step - loss: 0.3428 - accuracy: 0.8500 - val_loss: 0.4166 - val_accuracy: 0.8110\n",
      "Epoch 109/200\n",
      "313/313 [==============================] - 6s 21ms/step - loss: 0.3428 - accuracy: 0.8515 - val_loss: 0.4215 - val_accuracy: 0.8084\n",
      "Epoch 110/200\n",
      "313/313 [==============================] - 6s 21ms/step - loss: 0.3427 - accuracy: 0.8514 - val_loss: 0.4194 - val_accuracy: 0.8132\n",
      "Epoch 111/200\n",
      "313/313 [==============================] - 7s 21ms/step - loss: 0.3426 - accuracy: 0.8517 - val_loss: 0.4169 - val_accuracy: 0.8086\n",
      "Epoch 112/200\n",
      "313/313 [==============================] - 6s 21ms/step - loss: 0.3400 - accuracy: 0.8536 - val_loss: 0.4208 - val_accuracy: 0.8110\n",
      "Epoch 122/200\n"
     ]
    },
    {
     "name": "stdout",
     "output_type": "stream",
     "text": [
      "313/313 [==============================] - 6s 20ms/step - loss: 0.3398 - accuracy: 0.8533 - val_loss: 0.4181 - val_accuracy: 0.8088\n",
      "Epoch 123/200\n",
      "313/313 [==============================] - 6s 20ms/step - loss: 0.3396 - accuracy: 0.8537 - val_loss: 0.4186 - val_accuracy: 0.8112\n",
      "Epoch 124/200\n",
      "313/313 [==============================] - 6s 20ms/step - loss: 0.3393 - accuracy: 0.8524 - val_loss: 0.4273 - val_accuracy: 0.8062\n",
      "Epoch 125/200\n",
      "313/313 [==============================] - 6s 20ms/step - loss: 0.3392 - accuracy: 0.8533 - val_loss: 0.4188 - val_accuracy: 0.8076\n",
      "Epoch 126/200\n",
      "313/313 [==============================] - 6s 20ms/step - loss: 0.3389 - accuracy: 0.8543 - val_loss: 0.4233 - val_accuracy: 0.8094\n",
      "Epoch 127/200\n",
      "313/313 [==============================] - 7s 21ms/step - loss: 0.3382 - accuracy: 0.8535 - val_loss: 0.4283 - val_accuracy: 0.8058\n",
      "Epoch 128/200\n",
      "313/313 [==============================] - 6s 20ms/step - loss: 0.3382 - accuracy: 0.8537 - val_loss: 0.4203 - val_accuracy: 0.8072\n",
      "Epoch 129/200\n",
      "313/313 [==============================] - 6s 20ms/step - loss: 0.3383 - accuracy: 0.8553 - val_loss: 0.4237 - val_accuracy: 0.8102\n",
      "Epoch 130/200\n",
      "313/313 [==============================] - 6s 20ms/step - loss: 0.3378 - accuracy: 0.8541 - val_loss: 0.4221 - val_accuracy: 0.8050\n",
      "Epoch 131/200\n",
      "313/313 [==============================] - 7s 21ms/step - loss: 0.3378 - accuracy: 0.8548 - val_loss: 0.4180 - val_accuracy: 0.8096\n",
      "Epoch 132/200\n",
      "313/313 [==============================] - 6s 20ms/step - loss: 0.3375 - accuracy: 0.8534 - val_loss: 0.4284 - val_accuracy: 0.8042\n",
      "Epoch 133/200\n",
      "313/313 [==============================] - 6s 21ms/step - loss: 0.3374 - accuracy: 0.8552 - val_loss: 0.4224 - val_accuracy: 0.8058\n",
      "Epoch 134/200\n",
      "313/313 [==============================] - 6s 21ms/step - loss: 0.3373 - accuracy: 0.8537 - val_loss: 0.4238 - val_accuracy: 0.8058\n",
      "Epoch 135/200\n",
      "313/313 [==============================] - 6s 21ms/step - loss: 0.3369 - accuracy: 0.8540 - val_loss: 0.4256 - val_accuracy: 0.8088\n",
      "Epoch 136/200\n",
      "313/313 [==============================] - 6s 20ms/step - loss: 0.3369 - accuracy: 0.8551 - val_loss: 0.4309 - val_accuracy: 0.8058\n",
      "Epoch 137/200\n",
      "313/313 [==============================] - 6s 20ms/step - loss: 0.3364 - accuracy: 0.8537 - val_loss: 0.4318 - val_accuracy: 0.8050\n",
      "Epoch 138/200\n",
      "313/313 [==============================] - 6s 20ms/step - loss: 0.3366 - accuracy: 0.8548 - val_loss: 0.4251 - val_accuracy: 0.8060\n",
      "Epoch 139/200\n",
      "313/313 [==============================] - 7s 22ms/step - loss: 0.3361 - accuracy: 0.8543 - val_loss: 0.4215 - val_accuracy: 0.8064\n",
      "Epoch 140/200\n",
      "313/313 [==============================] - 7s 21ms/step - loss: 0.3358 - accuracy: 0.8556 - val_loss: 0.4229 - val_accuracy: 0.8100\n",
      "Epoch 141/200\n",
      "313/313 [==============================] - 6s 21ms/step - loss: 0.3358 - accuracy: 0.8540 - val_loss: 0.4305 - val_accuracy: 0.8070\n",
      "Epoch 142/200\n",
      "313/313 [==============================] - 6s 20ms/step - loss: 0.3350 - accuracy: 0.8560 - val_loss: 0.4391 - val_accuracy: 0.8054\n",
      "Epoch 143/200\n",
      "313/313 [==============================] - 6s 20ms/step - loss: 0.3352 - accuracy: 0.8542 - val_loss: 0.4240 - val_accuracy: 0.8038\n",
      "Epoch 144/200\n",
      "313/313 [==============================] - 7s 21ms/step - loss: 0.3350 - accuracy: 0.8562 - val_loss: 0.4214 - val_accuracy: 0.8076\n",
      "Epoch 145/200\n",
      "313/313 [==============================] - 7s 21ms/step - loss: 0.3347 - accuracy: 0.8563 - val_loss: 0.4238 - val_accuracy: 0.8068\n",
      "Epoch 146/200\n",
      "313/313 [==============================] - 6s 20ms/step - loss: 0.3346 - accuracy: 0.8557 - val_loss: 0.4236 - val_accuracy: 0.8058\n",
      "Epoch 147/200\n",
      "313/313 [==============================] - 6s 20ms/step - loss: 0.3340 - accuracy: 0.8562 - val_loss: 0.4258 - val_accuracy: 0.8062\n",
      "Epoch 148/200\n",
      "313/313 [==============================] - 6s 20ms/step - loss: 0.3342 - accuracy: 0.8552 - val_loss: 0.4274 - val_accuracy: 0.8050\n",
      "Epoch 149/200\n",
      "313/313 [==============================] - 6s 21ms/step - loss: 0.3340 - accuracy: 0.8569 - val_loss: 0.4304 - val_accuracy: 0.8056\n",
      "Epoch 150/200\n",
      "313/313 [==============================] - 7s 21ms/step - loss: 0.3335 - accuracy: 0.8565 - val_loss: 0.4257 - val_accuracy: 0.8102\n",
      "Epoch 151/200\n",
      "313/313 [==============================] - 7s 21ms/step - loss: 0.3331 - accuracy: 0.8555 - val_loss: 0.4276 - val_accuracy: 0.8100\n",
      "Epoch 152/200\n",
      "313/313 [==============================] - 6s 20ms/step - loss: 0.3332 - accuracy: 0.8564 - val_loss: 0.4277 - val_accuracy: 0.8042\n",
      "Epoch 153/200\n",
      "313/313 [==============================] - 6s 20ms/step - loss: 0.3328 - accuracy: 0.8562 - val_loss: 0.4243 - val_accuracy: 0.8054\n",
      "Epoch 154/200\n",
      "313/313 [==============================] - 6s 20ms/step - loss: 0.3328 - accuracy: 0.8573 - val_loss: 0.4288 - val_accuracy: 0.8050\n",
      "Epoch 155/200\n",
      "313/313 [==============================] - 6s 21ms/step - loss: 0.3327 - accuracy: 0.8571 - val_loss: 0.4271 - val_accuracy: 0.8106\n",
      "Epoch 156/200\n",
      "313/313 [==============================] - 7s 21ms/step - loss: 0.3326 - accuracy: 0.8554 - val_loss: 0.4247 - val_accuracy: 0.8054\n",
      "Epoch 157/200\n",
      "313/313 [==============================] - 6s 20ms/step - loss: 0.3322 - accuracy: 0.8572 - val_loss: 0.4299 - val_accuracy: 0.8060\n",
      "Epoch 158/200\n",
      "313/313 [==============================] - 6s 21ms/step - loss: 0.3317 - accuracy: 0.8581 - val_loss: 0.4305 - val_accuracy: 0.8112\n",
      "Epoch 159/200\n",
      "313/313 [==============================] - 6s 21ms/step - loss: 0.3317 - accuracy: 0.8568 - val_loss: 0.4290 - val_accuracy: 0.8044\n",
      "Epoch 160/200\n",
      "313/313 [==============================] - 6s 20ms/step - loss: 0.3316 - accuracy: 0.8584 - val_loss: 0.4278 - val_accuracy: 0.8102\n",
      "Epoch 161/200\n",
      "313/313 [==============================] - 6s 20ms/step - loss: 0.3314 - accuracy: 0.8572 - val_loss: 0.4297 - val_accuracy: 0.8058\n",
      "Epoch 162/200\n",
      "313/313 [==============================] - 7s 21ms/step - loss: 0.3311 - accuracy: 0.8573 - val_loss: 0.4283 - val_accuracy: 0.8060\n",
      "Epoch 163/200\n",
      "313/313 [==============================] - 6s 21ms/step - loss: 0.3309 - accuracy: 0.8579 - val_loss: 0.4272 - val_accuracy: 0.8096\n",
      "Epoch 164/200\n",
      "313/313 [==============================] - 6s 20ms/step - loss: 0.3308 - accuracy: 0.8562 - val_loss: 0.4272 - val_accuracy: 0.8068\n",
      "Epoch 165/200\n",
      "313/313 [==============================] - 6s 21ms/step - loss: 0.3304 - accuracy: 0.8580 - val_loss: 0.4401 - val_accuracy: 0.8034\n",
      "Epoch 166/200\n",
      "313/313 [==============================] - 6s 21ms/step - loss: 0.3303 - accuracy: 0.8583 - val_loss: 0.4264 - val_accuracy: 0.8096\n",
      "Epoch 167/200\n",
      "313/313 [==============================] - 6s 20ms/step - loss: 0.3306 - accuracy: 0.8568 - val_loss: 0.4288 - val_accuracy: 0.8088\n",
      "Epoch 168/200\n",
      "313/313 [==============================] - 6s 20ms/step - loss: 0.3300 - accuracy: 0.8581 - val_loss: 0.4305 - val_accuracy: 0.8086\n",
      "Epoch 169/200\n",
      "313/313 [==============================] - 6s 20ms/step - loss: 0.3295 - accuracy: 0.8579 - val_loss: 0.4309 - val_accuracy: 0.8102\n",
      "Epoch 170/200\n",
      "313/313 [==============================] - 6s 20ms/step - loss: 0.3298 - accuracy: 0.8579 - val_loss: 0.4258 - val_accuracy: 0.8058\n",
      "Epoch 171/200\n",
      "313/313 [==============================] - 6s 20ms/step - loss: 0.3293 - accuracy: 0.8589 - val_loss: 0.4261 - val_accuracy: 0.8078\n",
      "Epoch 172/200\n",
      "313/313 [==============================] - 6s 20ms/step - loss: 0.3290 - accuracy: 0.8587 - val_loss: 0.4286 - val_accuracy: 0.8066\n",
      "Epoch 173/200\n",
      "313/313 [==============================] - 6s 20ms/step - loss: 0.3289 - accuracy: 0.8587 - val_loss: 0.4337 - val_accuracy: 0.8062\n",
      "Epoch 174/200\n",
      "313/313 [==============================] - 6s 20ms/step - loss: 0.3286 - accuracy: 0.8579 - val_loss: 0.4276 - val_accuracy: 0.8070\n",
      "Epoch 175/200\n",
      "313/313 [==============================] - 6s 20ms/step - loss: 0.3282 - accuracy: 0.8584 - val_loss: 0.4334 - val_accuracy: 0.8090\n",
      "Epoch 176/200\n",
      "313/313 [==============================] - 6s 20ms/step - loss: 0.3283 - accuracy: 0.8576 - val_loss: 0.4272 - val_accuracy: 0.8086\n",
      "Epoch 177/200\n",
      "313/313 [==============================] - 6s 20ms/step - loss: 0.3284 - accuracy: 0.8588 - val_loss: 0.4291 - val_accuracy: 0.8096\n",
      "Epoch 178/200\n"
     ]
    },
    {
     "name": "stdout",
     "output_type": "stream",
     "text": [
      "313/313 [==============================] - 6s 20ms/step - loss: 0.3279 - accuracy: 0.8586 - val_loss: 0.4301 - val_accuracy: 0.8088\n",
      "Epoch 179/200\n",
      "313/313 [==============================] - 6s 20ms/step - loss: 0.3277 - accuracy: 0.8598 - val_loss: 0.4269 - val_accuracy: 0.8096\n",
      "Epoch 180/200\n",
      "313/313 [==============================] - 6s 20ms/step - loss: 0.3276 - accuracy: 0.8594 - val_loss: 0.4274 - val_accuracy: 0.8070\n",
      "Epoch 181/200\n",
      "313/313 [==============================] - 6s 20ms/step - loss: 0.3272 - accuracy: 0.8598 - val_loss: 0.4295 - val_accuracy: 0.8086\n",
      "Epoch 182/200\n",
      "313/313 [==============================] - 6s 20ms/step - loss: 0.3270 - accuracy: 0.8604 - val_loss: 0.4319 - val_accuracy: 0.8094\n",
      "Epoch 183/200\n",
      "313/313 [==============================] - 6s 20ms/step - loss: 0.3270 - accuracy: 0.8597 - val_loss: 0.4283 - val_accuracy: 0.8080\n",
      "Epoch 184/200\n",
      "313/313 [==============================] - 6s 20ms/step - loss: 0.3265 - accuracy: 0.8601 - val_loss: 0.4355 - val_accuracy: 0.8064\n",
      "Epoch 185/200\n",
      "313/313 [==============================] - 6s 20ms/step - loss: 0.3263 - accuracy: 0.8599 - val_loss: 0.4440 - val_accuracy: 0.8062\n",
      "Epoch 186/200\n",
      "313/313 [==============================] - 6s 20ms/step - loss: 0.3264 - accuracy: 0.8583 - val_loss: 0.4305 - val_accuracy: 0.8086\n",
      "Epoch 187/200\n",
      "313/313 [==============================] - 7s 21ms/step - loss: 0.3258 - accuracy: 0.8600 - val_loss: 0.4343 - val_accuracy: 0.8100\n",
      "Epoch 188/200\n",
      "313/313 [==============================] - 7s 21ms/step - loss: 0.3259 - accuracy: 0.8620 - val_loss: 0.4304 - val_accuracy: 0.8070\n",
      "Epoch 189/200\n",
      "313/313 [==============================] - 7s 21ms/step - loss: 0.3259 - accuracy: 0.8606 - val_loss: 0.4292 - val_accuracy: 0.8086\n",
      "Epoch 190/200\n",
      "313/313 [==============================] - 7s 21ms/step - loss: 0.3253 - accuracy: 0.8587 - val_loss: 0.4306 - val_accuracy: 0.8100\n",
      "Epoch 191/200\n",
      "313/313 [==============================] - 7s 21ms/step - loss: 0.3253 - accuracy: 0.8604 - val_loss: 0.4349 - val_accuracy: 0.8104\n",
      "Epoch 192/200\n",
      "313/313 [==============================] - 6s 21ms/step - loss: 0.3250 - accuracy: 0.8609 - val_loss: 0.4315 - val_accuracy: 0.8104\n",
      "Epoch 193/200\n",
      "313/313 [==============================] - 6s 20ms/step - loss: 0.3247 - accuracy: 0.8604 - val_loss: 0.4364 - val_accuracy: 0.8090\n",
      "Epoch 194/200\n",
      "313/313 [==============================] - 6s 20ms/step - loss: 0.3245 - accuracy: 0.8611 - val_loss: 0.4322 - val_accuracy: 0.8106\n",
      "Epoch 195/200\n",
      "313/313 [==============================] - 6s 20ms/step - loss: 0.3244 - accuracy: 0.8597 - val_loss: 0.4411 - val_accuracy: 0.8054\n",
      "Epoch 196/200\n",
      "313/313 [==============================] - 6s 20ms/step - loss: 0.3241 - accuracy: 0.8607 - val_loss: 0.4300 - val_accuracy: 0.8102\n",
      "Epoch 197/200\n",
      "313/313 [==============================] - 6s 20ms/step - loss: 0.3242 - accuracy: 0.8608 - val_loss: 0.4342 - val_accuracy: 0.8082\n",
      "Epoch 198/200\n",
      "313/313 [==============================] - 6s 20ms/step - loss: 0.3237 - accuracy: 0.8604 - val_loss: 0.4296 - val_accuracy: 0.8082\n",
      "Epoch 199/200\n",
      "313/313 [==============================] - 6s 20ms/step - loss: 0.3239 - accuracy: 0.8607 - val_loss: 0.4375 - val_accuracy: 0.8108\n",
      "Epoch 200/200\n",
      "313/313 [==============================] - 6s 20ms/step - loss: 0.3229 - accuracy: 0.8612 - val_loss: 0.4347 - val_accuracy: 0.8102\n"
     ]
    }
   ],
   "source": [
    "model.compile(optimizer=keras.optimizers.RMSprop(learning_rate=1e-4), loss='binary_crossentropy', metrics='accuracy') \n",
    "# RMSprop은 디폴트값을 정해줄 수 있음.\n",
    "# learning_rate = 1e-4 = 0.0001\n",
    "\n",
    "checkpoint_cb = keras.callbacks.ModelCheckpoint('best-LSTM-Model.h5', save_best_only=True)\n",
    "early_stopping_cb = keras.callbacks.EarlyStopping(patience=3, restore_best_weights=True) \n",
    "\n",
    "history = model.fit(train_seq, train_target, epochs=200, batch_size=64, validation_data=(val_seq, val_target),\n",
    "                   callbacks=[checkpoint_cb]) # early_stopping_cb\n",
    "# batch_size=64 - 64씩 읽어오라는 것.\n",
    "# batch_size만큼 가져와서 validation_data로 검증도 같이함.\n",
    "# history - 정확도 값을 담아줌\n",
    "# patience=3 - 3번이상 커지면 멈춰라! # patience의 기준은 val_loss"
   ]
  },
  {
   "cell_type": "code",
   "execution_count": 17,
   "id": "33e829c0",
   "metadata": {},
   "outputs": [
    {
     "data": {
      "image/png": "[encoded data removed]",
      "text/plain": [
       "<Figure size 640x480 with 1 Axes>"
      ]
     },
     "metadata": {},
     "output_type": "display_data"
    }
   ],
   "source": [
    "\"\"\"\n",
    "Epoch 51/200\n",
    "313/313 [==============================] - 8s 24ms/step - loss: 0.3651 - accuracy: 0.8407 - val_loss: 0.4051 - val_accuracy: 0.8188\n",
    "\"\"\"\n",
    "\n",
    "plt.plot(history.history['loss'])\n",
    "plt.plot(history.history['val_loss'])\n",
    "plt.xlabel('epoch')\n",
    "plt.ylabel('loss') # 두 개의 loss를 출력해줌. loss, val_loss\n",
    "plt.legend(['train', 'val']) # 색깔로 표시해줌.\n",
    "plt.show()"
   ]
  },
  {
   "cell_type": "markdown",
   "id": "657d6fd2",
   "metadata": {},
   "source": [
    "# 단어 임베딩 사용하기_20221202"
   ]
  },
  {
   "cell_type": "code",
   "execution_count": 18,
   "id": "e81cff33",
   "metadata": {},
   "outputs": [
    {
     "name": "stdout",
     "output_type": "stream",
     "text": [
      "Model: \"sequential_1\"\n",
      "_________________________________________________________________\n",
      " Layer (type)                Output Shape              Param #   \n",
      "=================================================================\n",
      " embedding_1 (Embedding)     (None, 100, 16)           8000      \n",
      "                                                                 \n",
      " simple_rnn (SimpleRNN)      (None, 8)                 200       \n",
      "                                                                 \n",
      " dense_1 (Dense)             (None, 1)                 9         \n",
      "                                                                 \n",
      "=================================================================\n",
      "Total params: 8,209\n",
      "Trainable params: 8,209\n",
      "Non-trainable params: 0\n",
      "_________________________________________________________________\n"
     ]
    }
   ],
   "source": [
    "model2 = keras.Sequential()\n",
    "\n",
    "model2.add(keras.layers.Embedding(500, 16, input_length=100)) \n",
    "# 500개의 one-hot을 16개로 줄여줌.\n",
    "model2.add(keras.layers.SimpleRNN(8)) # SimpleRNN을 LSTM으로만 바꿔주면 앞으로의 진도는 거의 끝\n",
    "model2.add(keras.layers.Dense(1, activation='sigmoid'))\n",
    "model2.summary()"
   ]
  },
  {
   "cell_type": "code",
   "execution_count": 19,
   "id": "5bf55f80",
   "metadata": {
    "scrolled": true
   },
   "outputs": [
    {
     "name": "stdout",
     "output_type": "stream",
     "text": [
      "Epoch 1/50\n",
      "313/313 [==============================] - 5s 12ms/step - loss: 0.6927 - accuracy: 0.5149 - val_loss: 0.6875 - val_accuracy: 0.5462\n",
      "Epoch 2/50\n",
      "313/313 [==============================] - 3s 11ms/step - loss: 0.6829 - accuracy: 0.5666 - val_loss: 0.6783 - val_accuracy: 0.5844\n",
      "Epoch 3/50\n",
      "313/313 [==============================] - 3s 11ms/step - loss: 0.6681 - accuracy: 0.6155 - val_loss: 0.6561 - val_accuracy: 0.6386\n",
      "Epoch 4/50\n",
      "313/313 [==============================] - 3s 11ms/step - loss: 0.5985 - accuracy: 0.7035 - val_loss: 0.5567 - val_accuracy: 0.7424\n",
      "Epoch 5/50\n",
      "313/313 [==============================] - 3s 11ms/step - loss: 0.5386 - accuracy: 0.7538 - val_loss: 0.5289 - val_accuracy: 0.7594\n",
      "Epoch 6/50\n",
      "313/313 [==============================] - 3s 11ms/step - loss: 0.5135 - accuracy: 0.7734 - val_loss: 0.5116 - val_accuracy: 0.7756\n",
      "Epoch 7/50\n",
      "313/313 [==============================] - 3s 11ms/step - loss: 0.4942 - accuracy: 0.7863 - val_loss: 0.4939 - val_accuracy: 0.7842\n",
      "Epoch 8/50\n",
      "313/313 [==============================] - 3s 11ms/step - loss: 0.4783 - accuracy: 0.7933 - val_loss: 0.4947 - val_accuracy: 0.7754\n",
      "Epoch 9/50\n",
      "313/313 [==============================] - 3s 11ms/step - loss: 0.4662 - accuracy: 0.8008 - val_loss: 0.4808 - val_accuracy: 0.7830\n",
      "Epoch 10/50\n",
      "313/313 [==============================] - 3s 11ms/step - loss: 0.4576 - accuracy: 0.8051 - val_loss: 0.4734 - val_accuracy: 0.7858\n",
      "Epoch 11/50\n",
      "313/313 [==============================] - 3s 11ms/step - loss: 0.4485 - accuracy: 0.8079 - val_loss: 0.4735 - val_accuracy: 0.7842\n",
      "Epoch 12/50\n",
      "313/313 [==============================] - 3s 11ms/step - loss: 0.4423 - accuracy: 0.8112 - val_loss: 0.4666 - val_accuracy: 0.7886\n",
      "Epoch 13/50\n",
      "313/313 [==============================] - 3s 11ms/step - loss: 0.4362 - accuracy: 0.8151 - val_loss: 0.4664 - val_accuracy: 0.7896\n",
      "Epoch 14/50\n",
      "313/313 [==============================] - 3s 11ms/step - loss: 0.4308 - accuracy: 0.8171 - val_loss: 0.4615 - val_accuracy: 0.7894\n",
      "Epoch 15/50\n",
      "313/313 [==============================] - 3s 11ms/step - loss: 0.4255 - accuracy: 0.8220 - val_loss: 0.4644 - val_accuracy: 0.7916\n",
      "Epoch 16/50\n",
      "313/313 [==============================] - 3s 11ms/step - loss: 0.4216 - accuracy: 0.8220 - val_loss: 0.4552 - val_accuracy: 0.7928\n",
      "Epoch 17/50\n",
      "313/313 [==============================] - 3s 11ms/step - loss: 0.4179 - accuracy: 0.8242 - val_loss: 0.4559 - val_accuracy: 0.7920\n",
      "Epoch 18/50\n",
      "313/313 [==============================] - 3s 11ms/step - loss: 0.4147 - accuracy: 0.8260 - val_loss: 0.4558 - val_accuracy: 0.7962\n",
      "Epoch 19/50\n",
      "313/313 [==============================] - 3s 11ms/step - loss: 0.4111 - accuracy: 0.8281 - val_loss: 0.4470 - val_accuracy: 0.7984\n",
      "Epoch 20/50\n",
      "313/313 [==============================] - 3s 11ms/step - loss: 0.4077 - accuracy: 0.8292 - val_loss: 0.4528 - val_accuracy: 0.7926\n",
      "Epoch 21/50\n",
      "313/313 [==============================] - 3s 11ms/step - loss: 0.4055 - accuracy: 0.8300 - val_loss: 0.4480 - val_accuracy: 0.7964\n",
      "Epoch 22/50\n",
      "313/313 [==============================] - 3s 11ms/step - loss: 0.4025 - accuracy: 0.8304 - val_loss: 0.4462 - val_accuracy: 0.7964\n",
      "Epoch 23/50\n",
      "313/313 [==============================] - 3s 11ms/step - loss: 0.3994 - accuracy: 0.8334 - val_loss: 0.4453 - val_accuracy: 0.7970\n",
      "Epoch 24/50\n",
      "313/313 [==============================] - 3s 11ms/step - loss: 0.3970 - accuracy: 0.8327 - val_loss: 0.4489 - val_accuracy: 0.7940\n",
      "Epoch 25/50\n",
      "313/313 [==============================] - 3s 11ms/step - loss: 0.3947 - accuracy: 0.8343 - val_loss: 0.4444 - val_accuracy: 0.7968\n",
      "Epoch 26/50\n",
      "313/313 [==============================] - 3s 11ms/step - loss: 0.3930 - accuracy: 0.8357 - val_loss: 0.4450 - val_accuracy: 0.7956\n",
      "Epoch 27/50\n",
      "313/313 [==============================] - 3s 11ms/step - loss: 0.3916 - accuracy: 0.8362 - val_loss: 0.4528 - val_accuracy: 0.7956\n",
      "Epoch 28/50\n",
      "313/313 [==============================] - 3s 11ms/step - loss: 0.3887 - accuracy: 0.8378 - val_loss: 0.4423 - val_accuracy: 0.7990\n",
      "Epoch 29/50\n",
      "313/313 [==============================] - 3s 11ms/step - loss: 0.3881 - accuracy: 0.8379 - val_loss: 0.4451 - val_accuracy: 0.7980\n",
      "Epoch 30/50\n",
      "313/313 [==============================] - 3s 11ms/step - loss: 0.3854 - accuracy: 0.8396 - val_loss: 0.4443 - val_accuracy: 0.7970\n",
      "Epoch 31/50\n",
      "313/313 [==============================] - 3s 11ms/step - loss: 0.3839 - accuracy: 0.8397 - val_loss: 0.4447 - val_accuracy: 0.7956\n"
     ]
    }
   ],
   "source": [
    "model2.compile(optimizer=keras.optimizers.RMSprop(learning_rate=1e-4), \n",
    "               loss='binary_crossentropy', metrics='accuracy') \n",
    "# RMSprop은 디폴트값을 정해줄 수 있음.\n",
    "# learning_rate = 1e-4 = 0.0001\n",
    "\n",
    "checkpoint_cb = keras.callbacks.ModelCheckpoint('best-embeddingRNN-Model.h5', save_best_only=True)\n",
    "early_stopping_cb = keras.callbacks.EarlyStopping(patience=3, restore_best_weights=True) \n",
    "\n",
    "history = model2.fit(train_seq, train_target, epochs=50, batch_size=64, \n",
    "                     validation_data=(val_seq, val_target),\n",
    "                     callbacks=[checkpoint_cb, early_stopping_cb]) \n"
   ]
  },
  {
   "cell_type": "code",
   "execution_count": 20,
   "id": "16158d82",
   "metadata": {},
   "outputs": [
    {
     "data": {
      "image/png": "[encoded data removed]",
      "text/plain": [
       "<Figure size 640x480 with 1 Axes>"
      ]
     },
     "metadata": {},
     "output_type": "display_data"
    }
   ],
   "source": [
    "plt.plot(history.history['loss'])\n",
    "plt.plot(history.history['val_loss'])\n",
    "plt.xlabel('epoch')\n",
    "plt.ylabel('loss') # 두 개의 loss를 출력해줌. loss, val_loss\n",
    "plt.legend(['train', 'val']) # 색깔로 표시해줌.\n",
    "plt.show()"
   ]
  },
  {
   "cell_type": "code",
   "execution_count": null,
   "id": "52487ae0",
   "metadata": {},
   "outputs": [],
   "source": []
  }
 ],
 "metadata": {
  "kernelspec": {
   "display_name": "Python 3 (ipykernel)",
   "language": "python",
   "name": "python3"
  },
  "language_info": {
   "codemirror_mode": {
    "name": "ipython",
    "version": 3
   },
   "file_extension": ".py",
   "mimetype": "text/x-python",
   "name": "python",
   "nbconvert_exporter": "python",
   "pygments_lexer": "ipython3",
   "version": "3.7.13"
  }
 },
 "nbformat": 4,
 "nbformat_minor": 5
}
