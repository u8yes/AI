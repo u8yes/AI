{
 "cells": [
  {
   "cell_type": "markdown",
   "id": "3be717bf",
   "metadata": {},
   "source": [
    "## 라이브러리 임포트_20221114\n",
    "- 실습에 필요한 라이브러리를 임포트한다."
   ]
  },
  {
   "cell_type": "code",
   "execution_count": 91,
   "id": "86a7055e",
   "metadata": {},
   "outputs": [],
   "source": [
    "import numpy as np\n",
    "import pandas as pd\n",
    "import matplotlib.pyplot as plt\n",
    "import seaborn as sns"
   ]
  },
  {
   "cell_type": "markdown",
   "id": "019edb95",
   "metadata": {},
   "source": [
    "## 데이터 불러오기 (학습 데이터, 테스트 데이터)_20221114\n",
    "- 데이터 분석 단계에서 생성한 농구 포지션 예측하기의 학습 데이터 및 테스트 데이터를 로드합니다."
   ]
  },
  {
   "cell_type": "code",
   "execution_count": 3,
   "id": "992f233a",
   "metadata": {},
   "outputs": [],
   "source": [
    "train = pd.read_csv(\"data/csv/basketball_train.csv\")\n",
    "test = pd.read_csv(\"data/csv/basketball_test.csv\")"
   ]
  },
  {
   "cell_type": "code",
   "execution_count": 7,
   "id": "2e61f8a0",
   "metadata": {},
   "outputs": [
    {
     "name": "stdout",
     "output_type": "stream",
     "text": [
      "80\n",
      "5\n",
      "20\n",
      "5\n"
     ]
    }
   ],
   "source": [
    "print(train.shape[0]) # 행의 값만 확인 # 훈련용 데이터 셋 갯수\n",
    "print(train.shape[1]) # feature(특징, 열)의 값만 확인 # 훈련용 데이터 셋 갯수\n",
    "\n",
    "print(test.shape[0]) # 테스트 데이터 셋 행 갯수\n",
    "print(test.shape[1]) # 테스트 데이터 셋 열 갯수"
   ]
  },
  {
   "cell_type": "markdown",
   "id": "fa07f1a5",
   "metadata": {},
   "source": [
    "## 최적의 k값 찾기_20221114"
   ]
  },
  {
   "cell_type": "code",
   "execution_count": 102,
   "id": "45a5f9bb",
   "metadata": {},
   "outputs": [],
   "source": [
    "# import kNN library \n",
    "from sklearn.neighbors import KNeighborsClassifier\n",
    "from sklearn.model_selection import cross_val_score\n",
    "\n",
    "# 최적의 k값 찾기. 3부터 시작해서 max_k_range / 2 까지의 범위.\n",
    "max_k_range = train.shape[0] // 2 # k값 최대값으로 반복수 체크\n",
    "k_list = []\n",
    "\n",
    "for i in range(3, max_k_range, 2): # 3, 5, ..11, 13... 39\n",
    "    k_list.append(i)\n",
    "    \n",
    "cross_validation_scores = []\n",
    "x_train = train[['3P', 'TRB', 'BLK']] # 3개의 feature를 사용\n",
    "# dataFrame으로 접근하는 pandas - loc, iloc 중요!! # dataFrame은 그냥 []로 쓰면 에러남. [[]]로 써야지 작동함.\n",
    "y_train = train[['Pos']]"
   ]
  },
  {
   "cell_type": "code",
   "execution_count": 104,
   "id": "590828a4",
   "metadata": {},
   "outputs": [
    {
     "data": {
      "text/plain": [
       "[0.9375,\n",
       " 0.925,\n",
       " 0.925,\n",
       " 0.9375,\n",
       " 0.9375,\n",
       " 0.9375,\n",
       " 0.9375,\n",
       " 0.9375,\n",
       " 0.9375,\n",
       " 0.9375,\n",
       " 0.9125,\n",
       " 0.9125,\n",
       " 0.9125,\n",
       " 0.9125,\n",
       " 0.875,\n",
       " 0.8875,\n",
       " 0.8875,\n",
       " 0.8875,\n",
       " 0.875]"
      ]
     },
     "execution_count": 104,
     "metadata": {},
     "output_type": "execute_result"
    }
   ],
   "source": [
    "# 10-fold cross validation\n",
    "for k in k_list: # 3, 5, ... 39(19개)\n",
    "    knn = KNeighborsClassifier(n_neighbors=k) # 3nn모델이 됨.\n",
    "    scores = cross_val_score(knn, x_train, y_train.values.ravel(), cv=10, scoring='accuracy') \n",
    "    # ravel() 옆으로 펼침(2차원을 1차원배열로) # cv = validation으로 1/10로 사용 # 정확도로 사용\n",
    "    cross_validation_scores.append(scores.mean())\n",
    "    \n",
    "cross_validation_scores"
   ]
  },
  {
   "cell_type": "code",
   "execution_count": 105,
   "id": "f03d2443",
   "metadata": {},
   "outputs": [
    {
     "data": {
      "image/png": "[encoded data removed]",
      "text/plain": [
       "<Figure size 640x480 with 1 Axes>"
      ]
     },
     "metadata": {},
     "output_type": "display_data"
    }
   ],
   "source": [
    "# 시각화\n",
    "plt.plot(k_list, cross_validation_scores)\n",
    "plt.xlabel('the number of k')\n",
    "plt.ylabel('Accuracy')\n",
    "plt.show()"
   ]
  },
  {
   "cell_type": "code",
   "execution_count": 60,
   "id": "2284e79b",
   "metadata": {},
   "outputs": [
    {
     "name": "stdout",
     "output_type": "stream",
     "text": [
      "최적의 k 값 : 3\n"
     ]
    }
   ],
   "source": [
    "# 최적의 k 값\n",
    "cvs = cross_validation_scores\n",
    "k = k_list[cvs.index(max(cross_validation_scores))]\n",
    "print(\"최적의 k 값 : \" + str(k))"
   ]
  },
  {
   "cell_type": "markdown",
   "id": "f483fb81",
   "metadata": {},
   "source": [
    "## 2개의 특징으로 예측하기('3P', 'BLK')_20221114"
   ]
  },
  {
   "cell_type": "code",
   "execution_count": 76,
   "id": "2ee25cd4",
   "metadata": {},
   "outputs": [],
   "source": [
    "knn = KNeighborsClassifier(n_neighbors=k)\n",
    "\n",
    "x_train = train[['3P', 'BLK']]\n",
    "y_train = train[['Pos']]\n",
    "\n",
    "knn.fit(x_train, y_train.values.ravel())\n",
    "\n",
    "x_test = test[['3P','BLK']]\n",
    "y_test = test[['Pos']]\n",
    "\n",
    "pred = knn.predict(x_test)"
   ]
  },
  {
   "cell_type": "code",
   "execution_count": 82,
   "id": "911302a9",
   "metadata": {},
   "outputs": [
    {
     "data": {
      "text/html": [
       "<div>\n",
       "<style scoped>\n",
       "    .dataframe tbody tr th:only-of-type {\n",
       "        vertical-align: middle;\n",
       "    }\n",
       "\n",
       "    .dataframe tbody tr th {\n",
       "        vertical-align: top;\n",
       "    }\n",
       "\n",
       "    .dataframe thead th {\n",
       "        text-align: right;\n",
       "    }\n",
       "</style>\n",
       "<table border=\"1\" class=\"dataframe\">\n",
       "  <thead>\n",
       "    <tr style=\"text-align: right;\">\n",
       "      <th></th>\n",
       "      <th>prediction</th>\n",
       "      <th>target</th>\n",
       "    </tr>\n",
       "  </thead>\n",
       "  <tbody>\n",
       "    <tr>\n",
       "      <th>0</th>\n",
       "      <td>SG</td>\n",
       "      <td>SG</td>\n",
       "    </tr>\n",
       "    <tr>\n",
       "      <th>1</th>\n",
       "      <td>SG</td>\n",
       "      <td>SG</td>\n",
       "    </tr>\n",
       "    <tr>\n",
       "      <th>2</th>\n",
       "      <td>C</td>\n",
       "      <td>C</td>\n",
       "    </tr>\n",
       "    <tr>\n",
       "      <th>3</th>\n",
       "      <td>SG</td>\n",
       "      <td>SG</td>\n",
       "    </tr>\n",
       "    <tr>\n",
       "      <th>4</th>\n",
       "      <td>SG</td>\n",
       "      <td>SG</td>\n",
       "    </tr>\n",
       "    <tr>\n",
       "      <th>5</th>\n",
       "      <td>SG</td>\n",
       "      <td>SG</td>\n",
       "    </tr>\n",
       "    <tr>\n",
       "      <th>6</th>\n",
       "      <td>C</td>\n",
       "      <td>C</td>\n",
       "    </tr>\n",
       "    <tr>\n",
       "      <th>7</th>\n",
       "      <td>SG</td>\n",
       "      <td>SG</td>\n",
       "    </tr>\n",
       "    <tr>\n",
       "      <th>8</th>\n",
       "      <td>SG</td>\n",
       "      <td>SG</td>\n",
       "    </tr>\n",
       "    <tr>\n",
       "      <th>9</th>\n",
       "      <td>C</td>\n",
       "      <td>C</td>\n",
       "    </tr>\n",
       "    <tr>\n",
       "      <th>10</th>\n",
       "      <td>SG</td>\n",
       "      <td>C</td>\n",
       "    </tr>\n",
       "    <tr>\n",
       "      <th>11</th>\n",
       "      <td>SG</td>\n",
       "      <td>SG</td>\n",
       "    </tr>\n",
       "    <tr>\n",
       "      <th>12</th>\n",
       "      <td>SG</td>\n",
       "      <td>SG</td>\n",
       "    </tr>\n",
       "    <tr>\n",
       "      <th>13</th>\n",
       "      <td>SG</td>\n",
       "      <td>SG</td>\n",
       "    </tr>\n",
       "    <tr>\n",
       "      <th>14</th>\n",
       "      <td>SG</td>\n",
       "      <td>SG</td>\n",
       "    </tr>\n",
       "    <tr>\n",
       "      <th>15</th>\n",
       "      <td>C</td>\n",
       "      <td>C</td>\n",
       "    </tr>\n",
       "    <tr>\n",
       "      <th>16</th>\n",
       "      <td>C</td>\n",
       "      <td>C</td>\n",
       "    </tr>\n",
       "    <tr>\n",
       "      <th>17</th>\n",
       "      <td>C</td>\n",
       "      <td>C</td>\n",
       "    </tr>\n",
       "    <tr>\n",
       "      <th>18</th>\n",
       "      <td>SG</td>\n",
       "      <td>SG</td>\n",
       "    </tr>\n",
       "    <tr>\n",
       "      <th>19</th>\n",
       "      <td>C</td>\n",
       "      <td>C</td>\n",
       "    </tr>\n",
       "  </tbody>\n",
       "</table>\n",
       "</div>"
      ],
      "text/plain": [
       "   prediction target\n",
       "0          SG     SG\n",
       "1          SG     SG\n",
       "2           C      C\n",
       "3          SG     SG\n",
       "4          SG     SG\n",
       "5          SG     SG\n",
       "6           C      C\n",
       "7          SG     SG\n",
       "8          SG     SG\n",
       "9           C      C\n",
       "10         SG      C\n",
       "11         SG     SG\n",
       "12         SG     SG\n",
       "13         SG     SG\n",
       "14         SG     SG\n",
       "15          C      C\n",
       "16          C      C\n",
       "17          C      C\n",
       "18         SG     SG\n",
       "19          C      C"
      ]
     },
     "execution_count": 82,
     "metadata": {},
     "output_type": "execute_result"
    }
   ],
   "source": [
    "comparision = pd.DataFrame({'prediction':pred, 'target':y_test.values.ravel()})\n",
    "comparision"
   ]
  },
  {
   "cell_type": "code",
   "execution_count": 95,
   "id": "0136d56a",
   "metadata": {},
   "outputs": [
    {
     "name": "stdout",
     "output_type": "stream",
     "text": [
      "accuracy : 0.8\n"
     ]
    }
   ],
   "source": [
    "from sklearn.metrics import accuracy_score\n",
    "\n",
    "print('accuracy : ' + str(accuracy_score(y_test.values.ravel(), pred)))"
   ]
  },
  {
   "cell_type": "markdown",
   "id": "4a50335b",
   "metadata": {},
   "source": [
    "## 3개의 특징으로 예측하기('3P', 'BLK','TRB')_20221114"
   ]
  },
  {
   "cell_type": "code",
   "execution_count": 96,
   "id": "ffa3a991",
   "metadata": {},
   "outputs": [],
   "source": [
    "knn = KNeighborsClassifier(n_neighbors=k)\n",
    "\n",
    "x_train = train[['3P', 'BLK','TRB']]\n",
    "y_train = train[['Pos']]\n",
    "\n",
    "knn.fit(x_train, y_train.values.ravel())\n",
    "\n",
    "x_test = test[['3P','BLK','TRB']]\n",
    "y_test = test[['Pos']]\n",
    "\n",
    "pred = knn.predict(x_test)"
   ]
  },
  {
   "cell_type": "code",
   "execution_count": 97,
   "id": "5a943f9c",
   "metadata": {},
   "outputs": [
    {
     "data": {
      "text/html": [
       "<div>\n",
       "<style scoped>\n",
       "    .dataframe tbody tr th:only-of-type {\n",
       "        vertical-align: middle;\n",
       "    }\n",
       "\n",
       "    .dataframe tbody tr th {\n",
       "        vertical-align: top;\n",
       "    }\n",
       "\n",
       "    .dataframe thead th {\n",
       "        text-align: right;\n",
       "    }\n",
       "</style>\n",
       "<table border=\"1\" class=\"dataframe\">\n",
       "  <thead>\n",
       "    <tr style=\"text-align: right;\">\n",
       "      <th></th>\n",
       "      <th>prediction</th>\n",
       "      <th>target</th>\n",
       "    </tr>\n",
       "  </thead>\n",
       "  <tbody>\n",
       "    <tr>\n",
       "      <th>0</th>\n",
       "      <td>SG</td>\n",
       "      <td>SG</td>\n",
       "    </tr>\n",
       "    <tr>\n",
       "      <th>1</th>\n",
       "      <td>C</td>\n",
       "      <td>SG</td>\n",
       "    </tr>\n",
       "    <tr>\n",
       "      <th>2</th>\n",
       "      <td>C</td>\n",
       "      <td>C</td>\n",
       "    </tr>\n",
       "    <tr>\n",
       "      <th>3</th>\n",
       "      <td>SG</td>\n",
       "      <td>SG</td>\n",
       "    </tr>\n",
       "    <tr>\n",
       "      <th>4</th>\n",
       "      <td>SG</td>\n",
       "      <td>SG</td>\n",
       "    </tr>\n",
       "    <tr>\n",
       "      <th>5</th>\n",
       "      <td>SG</td>\n",
       "      <td>SG</td>\n",
       "    </tr>\n",
       "    <tr>\n",
       "      <th>6</th>\n",
       "      <td>C</td>\n",
       "      <td>C</td>\n",
       "    </tr>\n",
       "    <tr>\n",
       "      <th>7</th>\n",
       "      <td>C</td>\n",
       "      <td>SG</td>\n",
       "    </tr>\n",
       "    <tr>\n",
       "      <th>8</th>\n",
       "      <td>SG</td>\n",
       "      <td>SG</td>\n",
       "    </tr>\n",
       "    <tr>\n",
       "      <th>9</th>\n",
       "      <td>C</td>\n",
       "      <td>C</td>\n",
       "    </tr>\n",
       "    <tr>\n",
       "      <th>10</th>\n",
       "      <td>SG</td>\n",
       "      <td>C</td>\n",
       "    </tr>\n",
       "    <tr>\n",
       "      <th>11</th>\n",
       "      <td>SG</td>\n",
       "      <td>SG</td>\n",
       "    </tr>\n",
       "    <tr>\n",
       "      <th>12</th>\n",
       "      <td>SG</td>\n",
       "      <td>SG</td>\n",
       "    </tr>\n",
       "    <tr>\n",
       "      <th>13</th>\n",
       "      <td>SG</td>\n",
       "      <td>SG</td>\n",
       "    </tr>\n",
       "    <tr>\n",
       "      <th>14</th>\n",
       "      <td>SG</td>\n",
       "      <td>SG</td>\n",
       "    </tr>\n",
       "    <tr>\n",
       "      <th>15</th>\n",
       "      <td>C</td>\n",
       "      <td>C</td>\n",
       "    </tr>\n",
       "    <tr>\n",
       "      <th>16</th>\n",
       "      <td>C</td>\n",
       "      <td>C</td>\n",
       "    </tr>\n",
       "    <tr>\n",
       "      <th>17</th>\n",
       "      <td>C</td>\n",
       "      <td>C</td>\n",
       "    </tr>\n",
       "    <tr>\n",
       "      <th>18</th>\n",
       "      <td>C</td>\n",
       "      <td>SG</td>\n",
       "    </tr>\n",
       "    <tr>\n",
       "      <th>19</th>\n",
       "      <td>C</td>\n",
       "      <td>C</td>\n",
       "    </tr>\n",
       "  </tbody>\n",
       "</table>\n",
       "</div>"
      ],
      "text/plain": [
       "   prediction target\n",
       "0          SG     SG\n",
       "1           C     SG\n",
       "2           C      C\n",
       "3          SG     SG\n",
       "4          SG     SG\n",
       "5          SG     SG\n",
       "6           C      C\n",
       "7           C     SG\n",
       "8          SG     SG\n",
       "9           C      C\n",
       "10         SG      C\n",
       "11         SG     SG\n",
       "12         SG     SG\n",
       "13         SG     SG\n",
       "14         SG     SG\n",
       "15          C      C\n",
       "16          C      C\n",
       "17          C      C\n",
       "18          C     SG\n",
       "19          C      C"
      ]
     },
     "execution_count": 97,
     "metadata": {},
     "output_type": "execute_result"
    }
   ],
   "source": [
    "comparision = pd.DataFrame({'prediction':pred, 'target':y_test.values.ravel()})\n",
    "comparision"
   ]
  },
  {
   "cell_type": "code",
   "execution_count": null,
   "id": "61949366",
   "metadata": {},
   "outputs": [],
   "source": []
  }
 ],
 "metadata": {
  "kernelspec": {
   "display_name": "Python 3 (ipykernel)",
   "language": "python",
   "name": "python3"
  },
  "language_info": {
   "codemirror_mode": {
    "name": "ipython",
    "version": 3
   },
   "file_extension": ".py",
   "mimetype": "text/x-python",
   "name": "python",
   "nbconvert_exporter": "python",
   "pygments_lexer": "ipython3",
   "version": "3.7.13"
  }
 },
 "nbformat": 4,
 "nbformat_minor": 5
}
