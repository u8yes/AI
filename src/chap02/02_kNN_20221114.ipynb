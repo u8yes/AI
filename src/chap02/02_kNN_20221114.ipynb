{
 "cells": [
  {
   "cell_type": "markdown",
   "id": "55b781ef",
   "metadata": {},
   "source": [
    "## 라이브러리 임포트_20221114\n",
    "- 실습에 필요한 라이브러리를 임포트한다."
   ]
  },
  {
   "cell_type": "code",
   "execution_count": 2,
   "id": "50c515bb",
   "metadata": {},
   "outputs": [],
   "source": [
    "import numpy as np\n",
    "import pandas as pd\n",
    "import matplotlib.pyplot as plt\n",
    "import seaborn as sns"
   ]
  },
  {
   "cell_type": "markdown",
   "id": "003bc5f1",
   "metadata": {},
   "source": [
    "## 데이터 불러오기 (학습 데이터, 테스트 데이터)_20221114\n",
    "- 데이터 분석 단계에서 생성한 농구 포지션 예측하기의 학습 데이터 및 테스트 데이터를 로드합니다."
   ]
  },
  {
   "cell_type": "code",
   "execution_count": 3,
   "id": "7ba74a02",
   "metadata": {},
   "outputs": [],
   "source": [
    "train = pd.read_csv(\"data/csv/basketball_train.csv\")\n",
    "test = pd.read_csv(\"data/csv/basketball_test.csv\")"
   ]
  },
  {
   "cell_type": "code",
   "execution_count": 7,
   "id": "db74e272",
   "metadata": {},
   "outputs": [
    {
     "name": "stdout",
     "output_type": "stream",
     "text": [
      "80\n",
      "5\n",
      "20\n",
      "5\n"
     ]
    }
   ],
   "source": [
    "print(train.shape[0]) # 행의 값만 확인 # 훈련용 데이터 셋 갯수\n",
    "print(train.shape[1]) # feature(특징, 열)의 값만 확인 # 훈련용 데이터 셋 갯수\n",
    "\n",
    "print(test.shape[0]) # 테스트 데이터 셋 행 갯수\n",
    "print(test.shape[1]) # 테스트 데이터 셋 열 갯수"
   ]
  },
  {
   "cell_type": "markdown",
   "id": "701d3e7e",
   "metadata": {},
   "source": [
    "## 최적의 k값 찾기_20221114"
   ]
  },
  {
   "cell_type": "code",
   "execution_count": null,
   "id": "87324362",
   "metadata": {},
   "outputs": [],
   "source": []
  }
 ],
 "metadata": {
  "kernelspec": {
   "display_name": "Python 3 (ipykernel)",
   "language": "python",
   "name": "python3"
  },
  "language_info": {
   "codemirror_mode": {
    "name": "ipython",
    "version": 3
   },
   "file_extension": ".py",
   "mimetype": "text/x-python",
   "name": "python",
   "nbconvert_exporter": "python",
   "pygments_lexer": "ipython3",
   "version": "3.7.13"
  }
 },
 "nbformat": 4,
 "nbformat_minor": 5
}
