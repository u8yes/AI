{
 "cells": [
  {
   "cell_type": "markdown",
   "id": "d5897e59",
   "metadata": {},
   "source": [
    "# XGBoost(eXtreme Gradient Boosting)\n",
    "- 과적합 방지가 가능한 규제가 포함되어 있다.\n",
    "- CART(Classification And Regression Tree)를 기반으로 함. 분류와 회귀 둘 다 가능하다.\n",
    "- 조기종료(early stopping)을 제공한다.\n",
    "- 앙상블 부스팅의 특징인 가중치 부여를 경사하강법(gradient descent)으로 한다."
   ]
  },
  {
   "cell_type": "code",
   "execution_count": 1,
   "id": "58503020",
   "metadata": {},
   "outputs": [],
   "source": [
    "# xgboost 설치 : dos command 창에서 \n",
    "# conda install -c anaconda py-xgboost"
   ]
  },
  {
   "cell_type": "code",
   "execution_count": null,
   "id": "10d92d3c",
   "metadata": {},
   "outputs": [],
   "source": []
  }
 ],
 "metadata": {
  "kernelspec": {
   "display_name": "Python 3 (ipykernel)",
   "language": "python",
   "name": "python3"
  },
  "language_info": {
   "codemirror_mode": {
    "name": "ipython",
    "version": 3
   },
   "file_extension": ".py",
   "mimetype": "text/x-python",
   "name": "python",
   "nbconvert_exporter": "python",
   "pygments_lexer": "ipython3",
   "version": "3.7.13"
  }
 },
 "nbformat": 4,
 "nbformat_minor": 5
}
