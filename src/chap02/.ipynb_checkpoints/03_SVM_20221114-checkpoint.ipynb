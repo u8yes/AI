{
 "cells": [
  {
   "cell_type": "markdown",
   "id": "4f5f00b4",
   "metadata": {},
   "source": [
    "## 라이브러리 임포트\n",
    "- 실습에 필요한 라이브러리 임포트."
   ]
  },
  {
   "cell_type": "code",
   "execution_count": 6,
   "id": "69d02f5f",
   "metadata": {},
   "outputs": [],
   "source": [
    "import numpy as np\n",
    "import pandas as pd\n",
    "import matplotlib.pyplot as plt\n",
    "import seaborn as sns"
   ]
  },
  {
   "cell_type": "markdown",
   "id": "eed3fbd6",
   "metadata": {},
   "source": [
    "## 데이터 불러오기(학습데이터, 테스트 데이터)_20221114\n",
    "- 데이터 분석 단계에서 생성한 농구 선수 포지션 예측하기의 학습 데이터 및 테스트 데이터를 로드."
   ]
  },
  {
   "cell_type": "code",
   "execution_count": 7,
   "id": "f937ac63",
   "metadata": {},
   "outputs": [],
   "source": [
    "train = pd.read_csv(\"data/csv/basketball_train.csv\")\n",
    "test = pd.read_csv(\"data/csv/basketball_test.csv\")"
   ]
  },
  {
   "cell_type": "markdown",
   "id": "0b16e4c5",
   "metadata": {},
   "source": [
    "## SVM 최적의 파라미터 찾기\n",
    "- 1. C(Cost, 비용) = loss : 결정경계선의 마진을 결정하는 파라미터.\n",
    "- 2. gamma : 커널의 데이터포인트의 표준 편차(sd)를 결정하는 조절 변수."
   ]
  },
  {
   "cell_type": "markdown",
   "id": "89fd02c5",
   "metadata": {},
   "source": [
    "### sklearn에서 제공하는 GridSearchCV 사용하시면, 손쉽게 최적의 cost, gamma를 구할 수 있음."
   ]
  },
  {
   "cell_type": "code",
   "execution_count": 8,
   "id": "22a41db4",
   "metadata": {},
   "outputs": [],
   "source": [
    "from sklearn.model_selection import GridSearchCV\n",
    "from sklearn.svm import SVC # Supporter Vector Machine - SVC"
   ]
  },
  {
   "cell_type": "code",
   "execution_count": 9,
   "id": "02f7836d",
   "metadata": {},
   "outputs": [],
   "source": [
    "def svc_param_selection(X,y,nfolds):\n",
    "    svm_parameters = [\n",
    "        {\n",
    "            'kernel' : ['rbf'],\n",
    "            'gamma' : [0.00001, 0.0001, 0.001, 0.01, 0.1, 1],\n",
    "            'C':[0.01, 0.1, 1, 10, 100, 1000]\n",
    "        }\n",
    "    ]\n",
    "    \n",
    "    clf = GridSearchCV(SVC(),svm_parameters, cv=nfolds) # GridSearchCV은 참조자료형 # cv - cross validation # SVC - Classification\n",
    "    clf.fit(X, y) # 2개 이상의 feature를 가지고 있을 때는 대문자 X # y는 정답 데이터\n",
    "    print(clf.best_params_)\n",
    "    \n",
    "    return clf\n"
   ]
  },
  {
   "cell_type": "code",
   "execution_count": 10,
   "id": "54c45223",
   "metadata": {},
   "outputs": [
    {
     "name": "stdout",
     "output_type": "stream",
     "text": [
      "{'C': 0.1, 'gamma': 1, 'kernel': 'rbf'}\n"
     ]
    }
   ],
   "source": [
    "X_train = train[['3P','BLK']]\n",
    "y_train = train[['Pos']]\n",
    "\n",
    "# 최적의 파라미터를 sklearn의 GridSearchCV()를 통해 구한다.\n",
    "clf = svc_param_selection(X_train, y_train.values.ravel(), 10)\n",
    "# {'C': 0.1, 'gamma': 1, 'kernel': 'rbf'} # 최적의 파라미터는 Cost는 0.1, gamma는 1이 좋다라고 추천해줌."
   ]
  },
  {
   "cell_type": "markdown",
   "id": "5aa5b3c3",
   "metadata": {},
   "source": [
    "## 시각화_20221115\n",
    "- 최적의 파라미터일때의 결정경계선과 다른 파라미터들일 때의 결정경계선을 비교"
   ]
  },
  {
   "cell_type": "code",
   "execution_count": 12,
   "id": "61f6e39a",
   "metadata": {},
   "outputs": [],
   "source": [
    "# 시각화를 하기 위해, 최적의 C와 다른 C를 후보로 저장한다.\n",
    "\n",
    "C_candidaties = []\n",
    "C_candidaties.append(clf.best_params_['C']* 0.01) # clf - classification\n",
    "C_candidaties.append(clf.best_params_['C'])\n",
    "C_candidaties.append(clf.best_params_['C']* 100) # Cost가 10일 때의 시각화\n",
    "\n",
    "# 시각화를 하기 위해, 최적의 gamma와 다른 gamma를 후보로 저장한다.\n",
    "\n",
    "gamma_candidaties = []\n",
    "gamma_candidaties.append(clf.best_params_['gamma']* 0.01) # clf - classification\n",
    "gamma_candidaties.append(clf.best_params_['gamma'])\n",
    "gamma_candidaties.append(clf.best_params_['gamma']* 100) # gamma가 100일 때의 시각화"
   ]
  },
  {
   "cell_type": "code",
   "execution_count": null,
   "id": "059c4ea3",
   "metadata": {},
   "outputs": [],
   "source": [
    "X = train[['3P','BLK']]\n",
    "Y = train['Pos'].tolist() # 자료형을 tolist() - 리스트로 만듦\n",
    "\n",
    "# 포지션에 해당하는 문자열 'SG'와 'C'를 벡터화한다.\n",
    "position = []\n",
    "for gt in Y:\n",
    "    if gt == 'C':\n",
    "        position.append(0)\n",
    "    else:\n",
    "        position.append(1)"
   ]
  }
 ],
 "metadata": {
  "kernelspec": {
   "display_name": "Python 3 (ipykernel)",
   "language": "python",
   "name": "python3"
  },
  "language_info": {
   "codemirror_mode": {
    "name": "ipython",
    "version": 3
   },
   "file_extension": ".py",
   "mimetype": "text/x-python",
   "name": "python",
   "nbconvert_exporter": "python",
   "pygments_lexer": "ipython3",
   "version": "3.7.13"
  }
 },
 "nbformat": 4,
 "nbformat_minor": 5
}
