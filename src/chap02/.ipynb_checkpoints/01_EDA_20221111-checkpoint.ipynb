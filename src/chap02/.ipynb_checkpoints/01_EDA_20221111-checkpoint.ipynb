{
 "cells": [
  {
   "cell_type": "markdown",
   "id": "1ba4c3e5",
   "metadata": {},
   "source": [
    "# 라이브러리 임포트_20221111\n",
    "- 실습에 필요한 라이브러리를 임포트"
   ]
  },
  {
   "cell_type": "code",
   "execution_count": 1,
   "id": "e2204881",
   "metadata": {},
   "outputs": [],
   "source": [
    "import numpy as np\n",
    "import pandas as pd"
   ]
  },
  {
   "cell_type": "markdown",
   "id": "c2022627",
   "metadata": {},
   "source": [
    "# 문제 정의\n",
    "- 농구 선수의 경기 기록을 바탕으로, 그 선수의 포지션을 예측해보는 모델을 생성."
   ]
  },
  {
   "cell_type": "markdown",
   "id": "e7fc9f80",
   "metadata": {},
   "source": [
    "# 데이터 수집"
   ]
  },
  {
   "cell_type": "code",
   "execution_count": null,
   "id": "83e0b0ca",
   "metadata": {},
   "outputs": [],
   "source": [
    "# 데이터를 수집\n",
    "\n"
   ]
  }
 ],
 "metadata": {
  "kernelspec": {
   "display_name": "Python 3 (ipykernel)",
   "language": "python",
   "name": "python3"
  },
  "language_info": {
   "codemirror_mode": {
    "name": "ipython",
    "version": 3
   },
   "file_extension": ".py",
   "mimetype": "text/x-python",
   "name": "python",
   "nbconvert_exporter": "python",
   "pygments_lexer": "ipython3",
   "version": "3.7.13"
  }
 },
 "nbformat": 4,
 "nbformat_minor": 5
}
