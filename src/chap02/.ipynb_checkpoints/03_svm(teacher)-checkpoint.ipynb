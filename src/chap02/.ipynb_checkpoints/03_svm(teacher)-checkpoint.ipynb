{
 "cells": [
  {
   "cell_type": "markdown",
   "id": "bb977f77",
   "metadata": {},
   "source": [
    "## 라이브러리 임포트\n",
    "- 실습에 필요한 라이브러리 임포트."
   ]
  },
  {
   "cell_type": "code",
   "execution_count": 2,
   "id": "cd833ace",
   "metadata": {},
   "outputs": [],
   "source": [
    "import numpy as np\n",
    "import pandas as pd\n",
    "import matplotlib.pyplot as plt\n",
    "import seaborn as sns"
   ]
  },
  {
   "cell_type": "markdown",
   "id": "a4aca954",
   "metadata": {},
   "source": [
    "## 데이터 불러오기(학습 데이터, 테스트 데이터)\n",
    "- 데이터 분석 단계에서 생성한 농구 선수 포지션 예측하기의 학습 데이터 및 테스트 데이터를 로드."
   ]
  },
  {
   "cell_type": "code",
   "execution_count": 3,
   "id": "6b93ca4f",
   "metadata": {},
   "outputs": [],
   "source": [
    "train = pd.read_csv(\"data/csv/basketball_train.csv\")\n",
    "test = pd.read_csv(\"data/csv/basketball_test.csv\")"
   ]
  },
  {
   "cell_type": "markdown",
   "id": "abc1bad8",
   "metadata": {},
   "source": [
    "## SVM 최적의 파라미터 찾기\n",
    "- 1. C(cost, 비용) : 결정경계선의 마진을 결정하는 파라미터.\n",
    "- 2. gamma : 커널의 데이터 포인트의 표준편차를 결정하는 파라미터."
   ]
  },
  {
   "cell_type": "markdown",
   "id": "94521eb7",
   "metadata": {},
   "source": [
    "### - sklearn에서 제공하는 GridSearchCV()를 사용하시면, 손쉽게 최적의 c, gamma를 구할 수 있음."
   ]
  },
  {
   "cell_type": "code",
   "execution_count": 4,
   "id": "da809d4a",
   "metadata": {},
   "outputs": [],
   "source": [
    "from sklearn.model_selection import GridSearchCV\n",
    "from sklearn.svm import SVC"
   ]
  },
  {
   "cell_type": "code",
   "execution_count": 5,
   "id": "fe2c12df",
   "metadata": {},
   "outputs": [],
   "source": [
    "def svc_param_selection(X, y, nfolds):\n",
    "    svm_parameters = [\n",
    "        {\n",
    "            'kernel' : ['rbf'],\n",
    "            'gamma' : [0.00001, 0.0001, 0.001, 0.01, 0.1, 1],\n",
    "            'C':[0.01, 0.1, 1, 10, 100, 1000]\n",
    "        }\n",
    "    ]\n",
    "    \n",
    "    clf = GridSearchCV(SVC(), svm_parameters, cv=nfolds)\n",
    "    clf.fit(X, y)\n",
    "    print(clf.best_params_)\n",
    "    \n",
    "    return clf\n",
    "    "
   ]
  },
  {
   "cell_type": "code",
   "execution_count": 6,
   "id": "f44fbcbc",
   "metadata": {},
   "outputs": [
    {
     "name": "stdout",
     "output_type": "stream",
     "text": [
      "{'C': 0.1, 'gamma': 1, 'kernel': 'rbf'}\n"
     ]
    }
   ],
   "source": [
    "X_train = train[['3P', 'BLK']]\n",
    "y_train = train[['Pos']]\n",
    "\n",
    "# 최적의 파라미터를 sklearn의 GridSearchCV() 를 통해 구한다.\n",
    "clf = svc_param_selection(X_train, y_train.values.ravel(), 10)"
   ]
  },
  {
   "cell_type": "code",
   "execution_count": null,
   "id": "883c6148",
   "metadata": {},
   "outputs": [],
   "source": []
  }
 ],
 "metadata": {
  "kernelspec": {
   "display_name": "Python 3 (ipykernel)",
   "language": "python",
   "name": "python3"
  },
  "language_info": {
   "codemirror_mode": {
    "name": "ipython",
    "version": 3
   },
   "file_extension": ".py",
   "mimetype": "text/x-python",
   "name": "python",
   "nbconvert_exporter": "python",
   "pygments_lexer": "ipython3",
   "version": "3.7.13"
  }
 },
 "nbformat": 4,
 "nbformat_minor": 5
}
