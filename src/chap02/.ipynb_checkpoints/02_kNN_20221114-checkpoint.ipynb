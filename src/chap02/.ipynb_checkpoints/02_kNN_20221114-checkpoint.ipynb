{
 "cells": [
  {
   "cell_type": "markdown",
   "id": "cfc52c31",
   "metadata": {},
   "source": [
    "## 라이브러리 임포트_20221114\n",
    "- 실습에 필요한 라이브러리를 임포트한다."
   ]
  },
  {
   "cell_type": "code",
   "execution_count": 2,
   "id": "863d7872",
   "metadata": {},
   "outputs": [],
   "source": [
    "import numpy as np\n",
    "import pandas as pd\n",
    "import matplotlib.pyplot as plt\n",
    "import seaborn as sns"
   ]
  },
  {
   "cell_type": "markdown",
   "id": "448119f0",
   "metadata": {},
   "source": [
    "## 데이터 불러오기 (학습 데이터, 테스트 데이터)_20221114\n",
    "- 데이터 분석 단계에서 생성한 농구 포지션 예측하기의 학습 데이터 및 테스트 데이터를 로드합니다."
   ]
  },
  {
   "cell_type": "code",
   "execution_count": 3,
   "id": "4dc7cc74",
   "metadata": {},
   "outputs": [],
   "source": [
    "train = pd.read_csv(\"data/csv/basketball_train.csv\")\n",
    "test = pd.read_csv(\"data/csv/basketball_test.csv\")"
   ]
  },
  {
   "cell_type": "code",
   "execution_count": 7,
   "id": "97bd84a7",
   "metadata": {},
   "outputs": [
    {
     "name": "stdout",
     "output_type": "stream",
     "text": [
      "80\n",
      "5\n",
      "20\n",
      "5\n"
     ]
    }
   ],
   "source": [
    "print(train.shape[0]) # 행의 값만 확인 # 훈련용 데이터 셋 갯수\n",
    "print(train.shape[1]) # feature(특징, 열)의 값만 확인 # 훈련용 데이터 셋 갯수\n",
    "\n",
    "print(test.shape[0]) # 테스트 데이터 셋 행 갯수\n",
    "print(test.shape[1]) # 테스트 데이터 셋 열 갯수"
   ]
  },
  {
   "cell_type": "markdown",
   "id": "03bc24ce",
   "metadata": {},
   "source": [
    "## 최적의 k값 찾기_20221114"
   ]
  },
  {
   "cell_type": "code",
   "execution_count": 30,
   "id": "0e4b1b34",
   "metadata": {},
   "outputs": [],
   "source": [
    "# import kNN library \n",
    "from sklearn.neighbors import KNeighborsClassifier\n",
    "from sklearn.model_selection import cross_val_score\n",
    "\n",
    "# 최적의 k값 찾기. 3부터 시작해서 max_k_range / 2 까지의 범위.\n",
    "max_k_range = train.shape[0] // 2 # k값 최대값으로 반복수 체크\n",
    "k_list = []\n",
    "\n",
    "for i in range(3, max_k_range, 2): # 3, 5, ... 39\n",
    "    k_list.append(i)\n",
    "    \n",
    "cross_validation_scores = []\n",
    "x_train = train[] # dataFrame으로 접근하는 pandas - loc, iloc\n"
   ]
  },
  {
   "cell_type": "code",
   "execution_count": null,
   "id": "ab94b650",
   "metadata": {},
   "outputs": [],
   "source": []
  }
 ],
 "metadata": {
  "kernelspec": {
   "display_name": "Python 3 (ipykernel)",
   "language": "python",
   "name": "python3"
  },
  "language_info": {
   "codemirror_mode": {
    "name": "ipython",
    "version": 3
   },
   "file_extension": ".py",
   "mimetype": "text/x-python",
   "name": "python",
   "nbconvert_exporter": "python",
   "pygments_lexer": "ipython3",
   "version": "3.7.13"
  }
 },
 "nbformat": 4,
 "nbformat_minor": 5
}
