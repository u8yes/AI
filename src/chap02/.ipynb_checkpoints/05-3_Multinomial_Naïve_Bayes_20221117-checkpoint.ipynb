{
 "cells": [
  {
   "cell_type": "code",
   "execution_count": 1,
   "id": "e939bb55",
   "metadata": {},
   "outputs": [],
   "source": [
    "# 라이브러리 임포트 : 실습에 필요한 라이브러리를 임포트\n",
    "import numpy as np\n",
    "import pandas as pd\n",
    "\n",
    "# 다항분포 나이브베이즈를 위한 라이브러리를 입포트합니다.\n",
    "from sklearn.feature_extraction.text import CountVectorizer\n",
    "from sklearn.naive_bayes import MultinomialNB\n",
    "\n",
    "from sklearn.metrics import accuracy_score\n",
    "\n",
    "np.random.seed(5)"
   ]
  },
  {
   "cell_type": "code",
   "execution_count": null,
   "id": "28040f8e",
   "metadata": {},
   "outputs": [],
   "source": []
  }
 ],
 "metadata": {
  "kernelspec": {
   "display_name": "Python 3 (ipykernel)",
   "language": "python",
   "name": "python3"
  },
  "language_info": {
   "codemirror_mode": {
    "name": "ipython",
    "version": 3
   },
   "file_extension": ".py",
   "mimetype": "text/x-python",
   "name": "python",
   "nbconvert_exporter": "python",
   "pygments_lexer": "ipython3",
   "version": "3.7.13"
  }
 },
 "nbformat": 4,
 "nbformat_minor": 5
}
