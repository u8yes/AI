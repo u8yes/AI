{
 "cells": [
  {
   "cell_type": "markdown",
   "id": "5ca1b62d",
   "metadata": {},
   "source": [
    "## Numpy ndarray 개요(nd: n차원, 예) 1차원, 2차원..)"
   ]
  },
  {
   "cell_type": "code",
   "execution_count": 1,
   "id": "6959c02e",
   "metadata": {},
   "outputs": [],
   "source": [
    "import numpy as np\n",
    "import matplotlib.pyplot as plt"
   ]
  },
  {
   "cell_type": "markdown",
   "id": "3e323ebe",
   "metadata": {},
   "source": [
    "# - 배열 생성"
   ]
  },
  {
   "cell_type": "code",
   "execution_count": 2,
   "id": "866f2c59",
   "metadata": {},
   "outputs": [
    {
     "name": "stdout",
     "output_type": "stream",
     "text": [
      "[1 2 3]\n",
      "array1.type: <class 'numpy.ndarray'>\n",
      "array1 array 형태: (3,)\n"
     ]
    }
   ],
   "source": [
    "# - 1차원 배열(Vector) 정의\n",
    "array1 = np.array([1,2,3]) # series로 보여주는 것일뿐. 행렬구조인 matrix가 아니다. 절대 vector 1차원이다.\n",
    "print(array1) # [1 2 3] # ','가 없이 보여주는 것이 numpy\n",
    "print('array1.type:', type(array1))\n",
    "print('array1 array 형태:', array1.shape) # 행렬로 오해하지 말고 1차원이라 튜플 자료형 3, 으로 나온다. # 곧 3열을 의미\n",
    "# shape은 차원을 결과로"
   ]
  },
  {
   "cell_type": "code",
   "execution_count": 3,
   "id": "afc97609",
   "metadata": {},
   "outputs": [
    {
     "name": "stdout",
     "output_type": "stream",
     "text": [
      "[1, 2, 3]\n",
      "list.type: <class 'list'>\n"
     ]
    }
   ],
   "source": [
    "# cf) 리스트 자료형\n",
    "list = [1,2,3]\n",
    "print(list)\n",
    "print('list.type:', type(list)) # 파이썬에서 알려주는 list"
   ]
  },
  {
   "cell_type": "code",
   "execution_count": 4,
   "id": "ee883a99",
   "metadata": {},
   "outputs": [
    {
     "name": "stdout",
     "output_type": "stream",
     "text": [
      "[[1 2 3]\n",
      " [4 5 6]]\n",
      "array2.type: <class 'numpy.ndarray'>\n",
      "array2 array 형태: (2, 3)\n"
     ]
    }
   ],
   "source": [
    "# - 2차원 배열(Matrix) 정의\n",
    "array2 = np.array([[1,2,3],\n",
    "                   [4,5,6]]) # 2[]행 3[,,]열\n",
    "print(array2) \n",
    "print('array2.type:', type(array2))\n",
    "print('array2 array 형태:', array2.shape) # (2, 3) 2행 3열"
   ]
  },
  {
   "cell_type": "code",
   "execution_count": 5,
   "id": "850fb9ff",
   "metadata": {},
   "outputs": [
    {
     "name": "stdout",
     "output_type": "stream",
     "text": [
      "[[1 2 3]]\n",
      "array3.type: <class 'numpy.ndarray'>\n",
      "array3 array 형태: (1, 3)\n"
     ]
    }
   ],
   "source": [
    "# - 2차원 배열(Matrix) 정의\n",
    "array3 = np.array([[1,2,3]]) # 2차원 1행 3열 구조이다. 절대 1차원이 아니다. [] 갯수가 2개.\n",
    "print(array3) \n",
    "print('array3.type:', type(array3))\n",
    "print('array3 array 형태:', array3.shape) # (1, 3) 1행 3열"
   ]
  },
  {
   "cell_type": "code",
   "execution_count": 6,
   "id": "8b8349e6",
   "metadata": {},
   "outputs": [
    {
     "name": "stdout",
     "output_type": "stream",
     "text": [
      "[[[ 1  2  3  4]\n",
      "  [ 5  6  7  8]\n",
      "  [ 9 10 11 12]]\n",
      "\n",
      " [[13 14 15 16]\n",
      "  [17 18 19 20]\n",
      "  [21 22 23 24]]]\n",
      "array4.type: <class 'numpy.ndarray'>\n",
      "array4 array 형태: (2, 3, 4)\n"
     ]
    }
   ],
   "source": [
    "# - 3차원 배열(Array) 정의\n",
    "array4 = np.array([[[1,2,3,4], # 1면 시작, 1행\n",
    "                    [5,6,7,8], # 2행\n",
    "                    [9,10,11,12]], # 3행,1면 끝\n",
    "                   [[13,14,15,16], # 2면 시작\n",
    "                    [17,18,19,20],\n",
    "                    [21,22,23,24]]]) # R은 행,열,면 Python은 면,행,열 순서!! 2면 3행 4열\n",
    "print(array4) # \n",
    "print('array4.type:', type(array4))\n",
    "print('array4 array 형태:', array4.shape) # (2, 3, 4) 2면 3행 4열"
   ]
  },
  {
   "cell_type": "code",
   "execution_count": 9,
   "id": "fa0a14a7",
   "metadata": {},
   "outputs": [
    {
     "name": "stdout",
     "output_type": "stream",
     "text": [
      "array1: 1차원, array2: 2차원, array3: 2차원, array4: 3차원\n"
     ]
    }
   ],
   "source": [
    "print(f'array1: {array1.ndim}차원, array2: {array2.ndim}차원, array3: {array3.ndim}차원, array4: {array4.ndim}차원')"
   ]
  },
  {
   "cell_type": "code",
   "execution_count": null,
   "id": "0c5eea12",
   "metadata": {},
   "outputs": [],
   "source": []
  }
 ],
 "metadata": {
  "kernelspec": {
   "display_name": "Python 3 (ipykernel)",
   "language": "python",
   "name": "python3"
  },
  "language_info": {
   "codemirror_mode": {
    "name": "ipython",
    "version": 3
   },
   "file_extension": ".py",
   "mimetype": "text/x-python",
   "name": "python",
   "nbconvert_exporter": "python",
   "pygments_lexer": "ipython3",
   "version": "3.7.13"
  }
 },
 "nbformat": 4,
 "nbformat_minor": 5
}
