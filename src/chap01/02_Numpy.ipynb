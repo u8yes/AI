{
 "cells": [
  {
   "cell_type": "markdown",
   "id": "5ca1b62d",
   "metadata": {},
   "source": [
    "## Numpy ndarray 개요(nd: n차원, 예) 1차원, 2차원..)"
   ]
  },
  {
   "cell_type": "code",
   "execution_count": null,
   "id": "6959c02e",
   "metadata": {},
   "outputs": [],
   "source": []
  }
 ],
 "metadata": {
  "kernelspec": {
   "display_name": "Python 3 (ipykernel)",
   "language": "python",
   "name": "python3"
  },
  "language_info": {
   "codemirror_mode": {
    "name": "ipython",
    "version": 3
   },
   "file_extension": ".py",
   "mimetype": "text/x-python",
   "name": "python",
   "nbconvert_exporter": "python",
   "pygments_lexer": "ipython3",
   "version": "3.7.13"
  }
 },
 "nbformat": 4,
 "nbformat_minor": 5
}
