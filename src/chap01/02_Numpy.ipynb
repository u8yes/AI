{
 "cells": [
  {
   "cell_type": "markdown",
   "id": "5ca1b62d",
   "metadata": {},
   "source": [
    "## Numpy ndarray 개요(nd: n차원, 예) 1차원, 2차원..)"
   ]
  },
  {
   "cell_type": "code",
   "execution_count": 1,
   "id": "6959c02e",
   "metadata": {},
   "outputs": [],
   "source": [
    "import numpy as np\n",
    "import matplotlib.pyplot as plt"
   ]
  },
  {
   "cell_type": "markdown",
   "id": "3e323ebe",
   "metadata": {},
   "source": [
    "# - 배열 생성"
   ]
  },
  {
   "cell_type": "code",
   "execution_count": 2,
   "id": "866f2c59",
   "metadata": {},
   "outputs": [
    {
     "name": "stdout",
     "output_type": "stream",
     "text": [
      "[1 2 3]\n",
      "array1.type: <class 'numpy.ndarray'>\n",
      "array1 array 형태: (3,)\n"
     ]
    }
   ],
   "source": [
    "# - 1차원 배열(Vector) 정의\n",
    "array1 = np.array([1,2,3])\n",
    "print(array1) # [1 2 3] # ,가 없이 보여주는 것이 numpy\n",
    "print('array1.type:', type(array1))\n",
    "print('array1 array 형태:', array1.shape) # 행렬로 오해하지 말고 1차원이더라도 3, 으로 나온다."
   ]
  },
  {
   "cell_type": "code",
   "execution_count": 3,
   "id": "afc97609",
   "metadata": {},
   "outputs": [
    {
     "name": "stdout",
     "output_type": "stream",
     "text": [
      "[1, 2, 3]\n",
      "list.type: <class 'list'>\n"
     ]
    }
   ],
   "source": [
    "# cf) 리스트 자료형\n",
    "list = [1,2,3]\n",
    "print(list)\n",
    "print('list.type:', type(list)) # 파이썬에서 알려주는 list"
   ]
  },
  {
   "cell_type": "code",
   "execution_count": 4,
   "id": "ee883a99",
   "metadata": {},
   "outputs": [
    {
     "name": "stdout",
     "output_type": "stream",
     "text": [
      "[1 2 3]\n",
      "array1.type: <class 'numpy.ndarray'>\n",
      "array1 array 형태: (3,)\n"
     ]
    }
   ],
   "source": [
    "# - 2차원 배열(Vector) 정의\n",
    "array1 = np.array([1,2,3])\n",
    "print(array1) # [1 2 3] # ,가 없이 보여주는 것이 numpy\n",
    "print('array1.type:', type(array1))\n",
    "print('array1 array 형태:', array1.shape) # 행렬로 오해하지 말고 1차원이더라도 3, 으로 나온다."
   ]
  },
  {
   "cell_type": "code",
   "execution_count": null,
   "id": "fad259f7",
   "metadata": {},
   "outputs": [],
   "source": []
  }
 ],
 "metadata": {
  "kernelspec": {
   "display_name": "Python 3 (ipykernel)",
   "language": "python",
   "name": "python3"
  },
  "language_info": {
   "codemirror_mode": {
    "name": "ipython",
    "version": 3
   },
   "file_extension": ".py",
   "mimetype": "text/x-python",
   "name": "python",
   "nbconvert_exporter": "python",
   "pygments_lexer": "ipython3",
   "version": "3.7.13"
  }
 },
 "nbformat": 4,
 "nbformat_minor": 5
}
