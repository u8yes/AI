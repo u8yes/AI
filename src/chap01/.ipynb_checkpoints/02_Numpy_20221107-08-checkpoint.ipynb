{
 "cells": [
  {
   "cell_type": "markdown",
   "id": "5ca1b62d",
   "metadata": {},
   "source": [
    "## Numpy ndarray 개요(nd: n차원, 예: 1차원, 2차원..)_20221108"
   ]
  },
  {
   "cell_type": "code",
   "execution_count": 1,
   "id": "6959c02e",
   "metadata": {},
   "outputs": [],
   "source": [
    "import numpy as np\n",
    "import matplotlib.pyplot as plt"
   ]
  },
  {
   "cell_type": "markdown",
   "id": "3e323ebe",
   "metadata": {},
   "source": [
    "# - 배열 생성_20221108"
   ]
  },
  {
   "cell_type": "code",
   "execution_count": 2,
   "id": "866f2c59",
   "metadata": {},
   "outputs": [
    {
     "name": "stdout",
     "output_type": "stream",
     "text": [
      "[1 2 3]\n",
      "array1.type: <class 'numpy.ndarray'>\n",
      "array1 array 형태: (3,)\n"
     ]
    }
   ],
   "source": [
    "# - 1차원 배열(Vector) 정의\n",
    "array1 = np.array([1,2,3]) # series로 보여주는 것일뿐. 행렬구조인 matrix가 아니다. 절대 vector 1차원이다.\n",
    "print(array1) # [1 2 3] # ','가 없이 보여주는 것이 numpy\n",
    "print('array1.type:', type(array1))\n",
    "print('array1 array 형태:', array1.shape) # 행렬로 오해하지 말고 1차원이라 튜플 자료형 3, 으로 나온다. # 곧 3열을 의미\n",
    "# shape은 차원을 결과로"
   ]
  },
  {
   "cell_type": "code",
   "execution_count": 3,
   "id": "afc97609",
   "metadata": {},
   "outputs": [
    {
     "name": "stdout",
     "output_type": "stream",
     "text": [
      "[1, 2, 3]\n",
      "list.type: <class 'list'>\n"
     ]
    }
   ],
   "source": [
    "# cf) 리스트 자료형\n",
    "list = [1,2,3]\n",
    "print(list)\n",
    "print('list.type:', type(list)) # 파이썬에서 알려주는 list"
   ]
  },
  {
   "cell_type": "code",
   "execution_count": 4,
   "id": "ee883a99",
   "metadata": {},
   "outputs": [
    {
     "name": "stdout",
     "output_type": "stream",
     "text": [
      "[[1 2 3]\n",
      " [4 5 6]]\n",
      "array2.type: <class 'numpy.ndarray'>\n",
      "array2 array 형태: (2, 3)\n"
     ]
    }
   ],
   "source": [
    "# - 2차원 배열(Matrix) 정의\n",
    "array2 = np.array([[1,2,3],\n",
    "                   [4,5,6]]) # 2[]행 3[,,]열\n",
    "print(array2) \n",
    "print('array2.type:', type(array2))\n",
    "print('array2 array 형태:', array2.shape) # (2, 3) 2행 3열"
   ]
  },
  {
   "cell_type": "code",
   "execution_count": 5,
   "id": "3b8c0b36",
   "metadata": {},
   "outputs": [
    {
     "name": "stdout",
     "output_type": "stream",
     "text": [
      "[[1 2 3]]\n",
      "array3.type: <class 'numpy.ndarray'>\n",
      "array3 array 형태: (1, 3)\n"
     ]
    }
   ],
   "source": [
    "# - 2차원 배열(Matrix) 정의\n",
    "array3 = np.array([[1,2,3]]) # 2차원 1행 3열 구조이다. 절대 1차원이 아니다. [] 갯수가 2개.\n",
    "print(array3) \n",
    "print('array3.type:', type(array3))\n",
    "print('array3 array 형태:', array3.shape) # (1, 3) 1행 3열"
   ]
  },
  {
   "cell_type": "code",
   "execution_count": 6,
   "id": "9394ae7e",
   "metadata": {},
   "outputs": [
    {
     "name": "stdout",
     "output_type": "stream",
     "text": [
      "[[[ 1  2  3  4]\n",
      "  [ 5  6  7  8]\n",
      "  [ 9 10 11 12]]\n",
      "\n",
      " [[13 14 15 16]\n",
      "  [17 18 19 20]\n",
      "  [21 22 23 24]]]\n",
      "array4.type: <class 'numpy.ndarray'>\n",
      "array4 array 형태: (2, 3, 4)\n"
     ]
    }
   ],
   "source": [
    "# - 3차원 배열(Array) 정의\n",
    "array4 = np.array([[[1,2,3,4], # 1면 시작, 1행\n",
    "                    [5,6,7,8], # 2행\n",
    "                    [9,10,11,12]], # 3행,1면 끝\n",
    "                   [[13,14,15,16], # 2면 시작\n",
    "                    [17,18,19,20],\n",
    "                    [21,22,23,24]]]) # R은 행,열,면 Python은 면,행,열 순서!! 2면 3행 4열\n",
    "print(array4) # \n",
    "print('array4.type:', type(array4))\n",
    "print('array4 array 형태:', array4.shape) # (2, 3, 4) 2면 3행 4열"
   ]
  },
  {
   "cell_type": "code",
   "execution_count": 7,
   "id": "e138202e",
   "metadata": {},
   "outputs": [
    {
     "name": "stdout",
     "output_type": "stream",
     "text": [
      "array1: 1차원, array2: 2차원, array3: 2차원, array4: 3차원\n"
     ]
    }
   ],
   "source": [
    "print(f'array1: {array1.ndim}차원, array2: {array2.ndim}차원, array3: {array3.ndim}차원, array4: {array4.ndim}차원')"
   ]
  },
  {
   "cell_type": "code",
   "execution_count": 8,
   "id": "b9900db2",
   "metadata": {},
   "outputs": [
    {
     "name": "stdout",
     "output_type": "stream",
     "text": [
      "<class 'list'>\n",
      "<class 'numpy.ndarray'>\n",
      "[1 2 3] int32\n"
     ]
    }
   ],
   "source": [
    "list1 = [1,2,3]\n",
    "print(type(list1))\n",
    "\n",
    "array1 = np.array(list1)\n",
    "print(type(array1))\n",
    "\n",
    "print(array1, array1.dtype) # 할당되는 비트값 기준으로 int32 = 정수형(4byte=32bit) # int64 = long형"
   ]
  },
  {
   "cell_type": "code",
   "execution_count": 9,
   "id": "87f04b37",
   "metadata": {},
   "outputs": [
    {
     "name": "stdout",
     "output_type": "stream",
     "text": [
      "<class 'list'>\n",
      "<class 'numpy.ndarray'>\n",
      "[1. 2. 3.] float64\n"
     ]
    }
   ],
   "source": [
    "list2 = [1.,2.,3.]\n",
    "print(type(list2))\n",
    "\n",
    "array2 = np.array(list2)\n",
    "print(type(array2))\n",
    "\n",
    "print(array2, array2.dtype) # float64 = 실수형(double형) = 비트크기 64비트"
   ]
  },
  {
   "cell_type": "code",
   "execution_count": 11,
   "id": "5715f1b7",
   "metadata": {},
   "outputs": [
    {
     "name": "stdout",
     "output_type": "stream",
     "text": [
      "<class 'list'>\n",
      "<class 'numpy.ndarray'>\n",
      "['1' '2' 'test'] <U11\n"
     ]
    }
   ],
   "source": [
    "list3 = [1, 2, 'test'] # 리스트는 어떤 자료형이라도 상관없다.\n",
    "print(type(list3))\n",
    "\n",
    "array3 = np.array(list3)\n",
    "print(type(array3))\n",
    "\n",
    "print(array3, array3.dtype) # ['1' '2' 'test'] 자료형을 강제로 문자열로 강제형변환시킴. # <U11 유니코드 타입"
   ]
  },
  {
   "cell_type": "code",
   "execution_count": 12,
   "id": "b07d2c82",
   "metadata": {},
   "outputs": [
    {
     "name": "stdout",
     "output_type": "stream",
     "text": [
      "[1.  2.  3.5] float64\n"
     ]
    }
   ],
   "source": [
    "list4 = [1,2,3.5] # 0일 경우에는 '3.'' 이라고 써도 3.0으로 인식됨\n",
    "array4 = np.array(list4)\n",
    "print(array4, array4.dtype) # [1.  2.  3.5] float64 # 전부 실수형으로 강제형변환 출력됨."
   ]
  },
  {
   "cell_type": "code",
   "execution_count": 20,
   "id": "a481192c",
   "metadata": {},
   "outputs": [
    {
     "name": "stdout",
     "output_type": "stream",
     "text": [
      "[1. 2. 3.] float64\n",
      "[1 2 3] int32\n",
      "[1 2 3] int32\n",
      "[1 2 3] int32\n"
     ]
    }
   ],
   "source": [
    "# 정수 -> 실수(강제형변환)\n",
    "array_int = np.array([1,2,3]) # int32\n",
    "array_float = array_int.astype('float64') # as가 붙으면 강제형변환\n",
    "print(array_float, array_float.dtype) # [1. 2. 3.] float64 실수형으로 출력\n",
    "print(array_int, array_int.dtype) # [1 2 3] int32 \n",
    "\n",
    "# 실수 -> 정수(강제형변환)\n",
    "array_int1 = array_float.astype('int32')\n",
    "print(array_int1, array_int1.dtype)\n",
    "\n",
    "# 실수 -> 정수(강제형변환)\n",
    "array_float1 = np.array([1.1, 2.5, 3.7])\n",
    "array_int2 = array_float1.astype('int32') # 데이터가 적은 타입으로 강제형변환을 하면 데이터 손실 가능성이 크다.\n",
    "print(array_int2, array_int2.dtype) # [1 2 3] int32"
   ]
  },
  {
   "cell_type": "markdown",
   "id": "6c8b88a9",
   "metadata": {},
   "source": [
    "## ndarray를 편리하게 생성하기_20221108"
   ]
  },
  {
   "cell_type": "code",
   "execution_count": 27,
   "id": "50447a9b",
   "metadata": {
    "scrolled": true
   },
   "outputs": [
    {
     "name": "stdout",
     "output_type": "stream",
     "text": [
      "[[0 0 0 0]\n",
      " [0 0 0 0]\n",
      " [0 0 0 0]]\n",
      "int32 (3, 4)\n"
     ]
    }
   ],
   "source": [
    "# zeros((행, 열)) : 0으로 채우는 함수 # Matrix 행렬구조로 만들어줌\n",
    "\n",
    "zero_array = np.zeros((3,4), dtype= 'int32') # (3,4)tuple로 채워줌 # int32로 하지 않으면 실수로 채워지게 됨\n",
    "print(zero_array)\n",
    "print(zero_array.dtype, zero_array.shape) # int32 (3, 4) 2차원 배열"
   ]
  },
  {
   "cell_type": "code",
   "execution_count": 29,
   "id": "f97ed7d6",
   "metadata": {},
   "outputs": [
    {
     "name": "stdout",
     "output_type": "stream",
     "text": [
      "[[1. 1. 1. 1.]\n",
      " [1. 1. 1. 1.]\n",
      " [1. 1. 1. 1.]]\n",
      "float64 (3, 4)\n"
     ]
    }
   ],
   "source": [
    "# ones((행, 열)) : 1로 채우는 함수 # Matrix 행렬구조로 만들어줌\n",
    "\n",
    "one_array = np.ones((3,4)) # default값은 float64\n",
    "print(one_array)\n",
    "print(one_array.dtype, one_array.shape)"
   ]
  },
  {
   "cell_type": "code",
   "execution_count": 35,
   "id": "0ab5d1b3",
   "metadata": {},
   "outputs": [
    {
     "name": "stdout",
     "output_type": "stream",
     "text": [
      "[[8 8 8]\n",
      " [8 8 8]\n",
      " [8 8 8]]\n",
      "int32 (3, 3)\n"
     ]
    }
   ],
   "source": [
    "# full((행, 열), 값) : 값으로 채우는 함수.\n",
    "\n",
    "arr_full = np.full((3,3), 8)\n",
    "print(arr_full)\n",
    "print(arr_full.dtype, arr_full.shape)"
   ]
  },
  {
   "cell_type": "code",
   "execution_count": 40,
   "id": "c7cb5f21",
   "metadata": {},
   "outputs": [
    {
     "name": "stdout",
     "output_type": "stream",
     "text": [
      "[[1. 0. 0.]\n",
      " [0. 1. 0.]\n",
      " [0. 0. 1.]]\n"
     ]
    }
   ],
   "source": [
    "# eye(N) : (N, N)의 단위 행렬 생성\n",
    "\n",
    "arr_eye = np.eye(3) # 3행 3열의 단위 행렬 출력\n",
    "print(arr_eye)"
   ]
  },
  {
   "cell_type": "code",
   "execution_count": 45,
   "id": "b5063889",
   "metadata": {},
   "outputs": [
    {
     "name": "stdout",
     "output_type": "stream",
     "text": [
      "[[0.00000000e+000 0.00000000e+000 0.00000000e+000]\n",
      " [0.00000000e+000 0.00000000e+000 6.99596955e-321]\n",
      " [1.78019082e-306 1.37959740e-306 2.29178686e-312]]\n"
     ]
    }
   ],
   "source": [
    "# empty((행,열)) : 초기화 없이 기존 메모리 값이 들어감\n",
    "\n",
    "arr_empty = np.empty((3,3))\n",
    "print(arr_empty) "
   ]
  },
  {
   "cell_type": "code",
   "execution_count": 46,
   "id": "6fbe562c",
   "metadata": {},
   "outputs": [
    {
     "name": "stdout",
     "output_type": "stream",
     "text": [
      "[[1 1 1]\n",
      " [1 1 1]]\n"
     ]
    }
   ],
   "source": [
    "# _like(배열): 지정한 배열과 동일한 shape의 행렬을 만듦.\n",
    "# 종류 : np.zeros_like(), np.ones_like(), np.full_like(), np.empty_like()\n",
    "\n",
    "arr_sample = np.array([[1,2,3],\n",
    "                       [4,5,6]])\n",
    "arr_like = np.ones_like(arr_sample)\n",
    "print(arr_like) \n",
    "# [[1 1 1]\n",
    "# [1 1 1]]\n"
   ]
  },
  {
   "cell_type": "code",
   "execution_count": 50,
   "id": "c7190504",
   "metadata": {},
   "outputs": [
    {
     "name": "stdout",
     "output_type": "stream",
     "text": [
      "[ 1.    3.25  5.5   7.75 10.  ]\n"
     ]
    }
   ],
   "source": [
    "# 배열 데이터 생성 함수\n",
    "# - np.linspace(시작, 종료, 개수) : 개수에 맞게끔 시작과 종료 사이에 균등하게 분배\n",
    "\n",
    "arr_linspace = np.linspace(1, 10, 5) # vector형태로 보여줌.\n",
    "print(arr_linspace) # [ 1.    3.25  5.5   7.75 10.  ]"
   ]
  },
  {
   "cell_type": "code",
   "execution_count": 59,
   "id": "16382eee",
   "metadata": {},
   "outputs": [
    {
     "data": {
      "image/png": "[encoded data removed]",
      "text/plain": [
       "<Figure size 640x480 with 1 Axes>"
      ]
     },
     "metadata": {},
     "output_type": "display_data"
    }
   ],
   "source": [
    "plt.plot(arr_linspace, 'o') \n",
    "# 그래프를 그려주는 함수 마커를 원('o')으로 만든 그래프를 보여줌\n",
    "plt.show()"
   ]
  },
  {
   "cell_type": "code",
   "execution_count": 64,
   "id": "9b6a61b8",
   "metadata": {},
   "outputs": [
    {
     "name": "stdout",
     "output_type": "stream",
     "text": [
      "[ 1  3  5  7  9 11 13 15 17 19]\n",
      "int32 (10,)\n"
     ]
    }
   ],
   "source": [
    "# np.arange(시작, 종료, 스텝) : 시작과 종료 사이에 스텝 간격으로 생성() # array용으로 range를 사용하겠다 해서 'r'하나가 빠짐\n",
    "# 파이썬 range() 함수와 유사\n",
    "\n",
    "sequence_array = np.arange(1,20,2) # 1차원 tuple로 담아줌\n",
    "print(sequence_array)\n",
    "print(sequence_array.dtype, sequence_array.shape) # int32 (10,)"
   ]
  },
  {
   "cell_type": "code",
   "execution_count": 79,
   "id": "717d700a",
   "metadata": {},
   "outputs": [
    {
     "data": {
      "image/png": "[encoded data removed]",
      "text/plain": [
       "<Figure size 640x480 with 1 Axes>"
      ]
     },
     "metadata": {},
     "output_type": "display_data"
    }
   ],
   "source": [
    "plt.plot(sequence_array, 'v') \n",
    "plt.show()"
   ]
  },
  {
   "cell_type": "markdown",
   "id": "c9dcb911",
   "metadata": {},
   "source": [
    "## ndarray의 차원과 크기를 변경하는 reshape()_20221108"
   ]
  },
  {
   "cell_type": "code",
   "execution_count": 86,
   "id": "aaed7d83",
   "metadata": {},
   "outputs": [
    {
     "name": "stdout",
     "output_type": "stream",
     "text": [
      "array1:\n",
      " [0 1 2 3 4 5 6 7 8 9]\n",
      "array2:\n",
      " [[0 1 2 3 4]\n",
      " [5 6 7 8 9]]\n",
      "array2:\n",
      " [[0 1]\n",
      " [2 3]\n",
      " [4 5]\n",
      " [6 7]\n",
      " [8 9]]\n"
     ]
    }
   ],
   "source": [
    "array1 = np.arange(10) # 1차원\n",
    "print('array1:\\n', array1)\n",
    "\n",
    "array2 = array1.reshape(2, 5) # 2차원으로 변경해줌\n",
    "print('array2:\\n', array2)\n",
    "\n",
    "array2 = array1.reshape(5, 2) \n",
    "print('array2:\\n', array2)"
   ]
  },
  {
   "cell_type": "code",
   "execution_count": 88,
   "id": "c0923f2c",
   "metadata": {},
   "outputs": [
    {
     "ename": "ValueError",
     "evalue": "cannot reshape array of size 10 into shape (4,3)",
     "output_type": "error",
     "traceback": [
      "\u001b[1;31m---------------------------------------------------------------------------\u001b[0m",
      "\u001b[1;31mValueError\u001b[0m                                Traceback (most recent call last)",
      "\u001b[1;32m~\\AppData\\Local\\Temp\\ipykernel_6588\\3924263243.py\u001b[0m in \u001b[0;36m<module>\u001b[1;34m\u001b[0m\n\u001b[1;32m----> 1\u001b[1;33m \u001b[0marray1\u001b[0m\u001b[1;33m.\u001b[0m\u001b[0mreshape\u001b[0m\u001b[1;33m(\u001b[0m\u001b[1;36m4\u001b[0m\u001b[1;33m,\u001b[0m\u001b[1;36m3\u001b[0m\u001b[1;33m)\u001b[0m \u001b[1;31m# 지정된 사이즈로 변경이 불가능하면 오류 발생.\u001b[0m\u001b[1;33m\u001b[0m\u001b[1;33m\u001b[0m\u001b[0m\n\u001b[0m",
      "\u001b[1;31mValueError\u001b[0m: cannot reshape array of size 10 into shape (4,3)"
     ]
    }
   ],
   "source": [
    "array1.reshape(4,3) # 지정된 사이즈로 변경이 불가능하면 오류 발생."
   ]
  },
  {
   "cell_type": "code",
   "execution_count": 94,
   "id": "0e67cf1e",
   "metadata": {},
   "outputs": [
    {
     "name": "stdout",
     "output_type": "stream",
     "text": [
      "[0 1 2 3 4 5 6 7 8 9]\n",
      "[[0 1 2 3 4]\n",
      " [5 6 7 8 9]]\n",
      "array2 shape (2, 5)\n",
      "[[0 1]\n",
      " [2 3]\n",
      " [4 5]\n",
      " [6 7]\n",
      " [8 9]]\n",
      "array3 shape (5, 2)\n"
     ]
    }
   ],
   "source": [
    "array1 = np.arange(10)\n",
    "print(array1)\n",
    "\n",
    "array2 = array1.reshape(-1, 5) # 양수에 포커스를 맞추자, 행의 갯수는 상관없다. 열의 갯수만 5개로 기준으로 해서 행은 자동 생성됨.\n",
    "print(array2)\n",
    "print('array2 shape', array2.shape) # 2행 5열 생성\n",
    "\n",
    "array3 = array1.reshape(5, -1) # 양수에 포커스를 맞추자, 열의 갯수는 상관없다. 행의 갯수만 5개로 기준으로 해서 열은 자동 생성됨.\n",
    "print(array3)\n",
    "print('array3 shape', array3.shape) # 5행 2열 생성"
   ]
  },
  {
   "cell_type": "code",
   "execution_count": 98,
   "id": "7ace7c6d",
   "metadata": {},
   "outputs": [
    {
     "ename": "ValueError",
     "evalue": "cannot reshape array of size 10 into shape (4)",
     "output_type": "error",
     "traceback": [
      "\u001b[1;31m---------------------------------------------------------------------------\u001b[0m",
      "\u001b[1;31mValueError\u001b[0m                                Traceback (most recent call last)",
      "\u001b[1;32m~\\AppData\\Local\\Temp\\ipykernel_6588\\2730013190.py\u001b[0m in \u001b[0;36m<module>\u001b[1;34m\u001b[0m\n\u001b[0;32m      1\u001b[0m \u001b[0marray1\u001b[0m \u001b[1;33m=\u001b[0m \u001b[0mnp\u001b[0m\u001b[1;33m.\u001b[0m\u001b[0marange\u001b[0m\u001b[1;33m(\u001b[0m\u001b[1;36m10\u001b[0m\u001b[1;33m)\u001b[0m\u001b[1;33m\u001b[0m\u001b[1;33m\u001b[0m\u001b[0m\n\u001b[1;32m----> 2\u001b[1;33m \u001b[0marray4\u001b[0m \u001b[1;33m=\u001b[0m \u001b[0marray1\u001b[0m\u001b[1;33m.\u001b[0m\u001b[0mreshape\u001b[0m\u001b[1;33m(\u001b[0m\u001b[1;33m-\u001b[0m\u001b[1;36m1\u001b[0m\u001b[1;33m,\u001b[0m \u001b[1;36m4\u001b[0m\u001b[1;33m)\u001b[0m \u001b[1;31m# 고정된 4개의 컬럼을 가진 row 변경 불가\u001b[0m\u001b[1;33m\u001b[0m\u001b[1;33m\u001b[0m\u001b[0m\n\u001b[0m",
      "\u001b[1;31mValueError\u001b[0m: cannot reshape array of size 10 into shape (4)"
     ]
    }
   ],
   "source": [
    "array1 = np.arange(10)\n",
    "array4 = array1.reshape(-1, 4) # 고정된 4개의 컬럼을 가진 row 변경 불가"
   ]
  },
  {
   "cell_type": "code",
   "execution_count": 107,
   "id": "aedf22ce",
   "metadata": {},
   "outputs": [
    {
     "name": "stdout",
     "output_type": "stream",
     "text": [
      "array3d:\n",
      " [[[0, 1], [2, 3]], [[4, 5], [6, 7]]]\n",
      "array5:\n",
      " [[0], [1], [2], [3], [4], [5], [6], [7]]\n",
      "array5 shape:  (8, 1)\n",
      "array6:\n",
      " [[0], [1], [2], [3], [4], [5], [6], [7]]\n",
      "array6 shape:  (8, 1)\n"
     ]
    }
   ],
   "source": [
    "array1 = np.arange(8)\n",
    "array3d = array1.reshape((2,2,2))\n",
    "print('array3d:\\n', array3d.tolist())\n",
    "\n",
    "# 3차원 ndarray를 2차원 ndarray로 변환 # 2차원만이 알고리즘이 작동할 수 있다.\n",
    "# 딥러닝 때 중요!\n",
    "array5 = array3d.reshape(-1, 1) # 열의 나열이 중요한 것이 아니다, 차원을 축소한 것이 중요하다.\n",
    "print('array5:\\n', array5.tolist()) \n",
    "print('array5 shape: ', array5.shape) # (8, 1)\n",
    "\n",
    "# 1차원 ndarray를 2차원 ndarray로 변환\n",
    "array6 = array1.reshape(-1, 1) \n",
    "print('array6:\\n', array6.tolist()) \n",
    "print('array6 shape: ', array6.shape) "
   ]
  },
  {
   "cell_type": "markdown",
   "id": "3245882e",
   "metadata": {},
   "source": [
    "### indexing - 넘파이 ndarray의 데이터 세트 선택하기_20221108"
   ]
  },
  {
   "cell_type": "markdown",
   "id": "7b7e91dc",
   "metadata": {},
   "source": [
    "* 단일 값 추출"
   ]
  },
  {
   "cell_type": "code",
   "execution_count": 121,
   "id": "ea6ba452",
   "metadata": {},
   "outputs": [
    {
     "name": "stdout",
     "output_type": "stream",
     "text": [
      "array1: [ 1  2  3  4  5  6  7  8  9 10 11 12]\n",
      "value:  3\n",
      "<class 'numpy.int32'>\n"
     ]
    }
   ],
   "source": [
    "# 1에서부터 9까지의 1차원 ndarray생성\n",
    "\n",
    "array1 = np.arange(start=1, stop=13)\n",
    "print('array1:', array1)\n",
    "\n",
    "value = array1[2]\n",
    "print('value: ',value)\n",
    "print(type(value))\n"
   ]
  },
  {
   "cell_type": "code",
   "execution_count": 125,
   "id": "6fbd9703",
   "metadata": {},
   "outputs": [
    {
     "name": "stdout",
     "output_type": "stream",
     "text": [
      "맨 뒤의 값: 12 \n",
      "맨 뒤에서 두번째 값: 11\n"
     ]
    }
   ],
   "source": [
    "print('맨 뒤의 값:', array1[-1], '\\n맨 뒤에서 두번째 값:', array1[-2])"
   ]
  },
  {
   "cell_type": "code",
   "execution_count": 128,
   "id": "a27503d8",
   "metadata": {},
   "outputs": [
    {
     "name": "stdout",
     "output_type": "stream",
     "text": [
      "array1: [ 8  2  3  4  5  6  7  8  0 10 11 12]\n"
     ]
    }
   ],
   "source": [
    "# 데이터 값 수정\n",
    "\n",
    "array1[0] = 8\n",
    "array1[8] = 0\n",
    "print('array1:', array1)"
   ]
  },
  {
   "cell_type": "code",
   "execution_count": 137,
   "id": "c1af9bdc",
   "metadata": {},
   "outputs": [
    {
     "name": "stdout",
     "output_type": "stream",
     "text": [
      "[[1 2 3]\n",
      " [4 5 6]\n",
      " [7 8 9]]\n",
      "(row=0, col=0) index 가리키는 값: 1\n",
      "(row=0, col=0) index 가리키는 값: 2\n",
      "(row=0, col=0) index 가리키는 값: 6\n",
      "(row=0, col=0) index 가리키는 값: 9\n"
     ]
    },
    {
     "ename": "IndexError",
     "evalue": "index 3 is out of bounds for axis 0 with size 3",
     "output_type": "error",
     "traceback": [
      "\u001b[1;31m---------------------------------------------------------------------------\u001b[0m",
      "\u001b[1;31mIndexError\u001b[0m                                Traceback (most recent call last)",
      "\u001b[1;32m~\\AppData\\Local\\Temp\\ipykernel_6588\\531286027.py\u001b[0m in \u001b[0;36m<module>\u001b[1;34m\u001b[0m\n\u001b[0;32m      8\u001b[0m \u001b[0mprint\u001b[0m\u001b[1;33m(\u001b[0m\u001b[1;34m'(row=0, col=0) index 가리키는 값:'\u001b[0m\u001b[1;33m,\u001b[0m \u001b[0marray2d\u001b[0m\u001b[1;33m[\u001b[0m\u001b[1;36m1\u001b[0m\u001b[1;33m,\u001b[0m\u001b[1;36m2\u001b[0m\u001b[1;33m]\u001b[0m\u001b[1;33m)\u001b[0m\u001b[1;33m\u001b[0m\u001b[1;33m\u001b[0m\u001b[0m\n\u001b[0;32m      9\u001b[0m \u001b[0mprint\u001b[0m\u001b[1;33m(\u001b[0m\u001b[1;34m'(row=0, col=0) index 가리키는 값:'\u001b[0m\u001b[1;33m,\u001b[0m \u001b[0marray2d\u001b[0m\u001b[1;33m[\u001b[0m\u001b[1;36m2\u001b[0m\u001b[1;33m,\u001b[0m\u001b[1;36m2\u001b[0m\u001b[1;33m]\u001b[0m\u001b[1;33m)\u001b[0m\u001b[1;33m\u001b[0m\u001b[1;33m\u001b[0m\u001b[0m\n\u001b[1;32m---> 10\u001b[1;33m \u001b[0mprint\u001b[0m\u001b[1;33m(\u001b[0m\u001b[1;34m'(row=0, col=0) index 가리키는 값:'\u001b[0m\u001b[1;33m,\u001b[0m \u001b[0marray2d\u001b[0m\u001b[1;33m[\u001b[0m\u001b[1;36m3\u001b[0m\u001b[1;33m,\u001b[0m\u001b[1;36m2\u001b[0m\u001b[1;33m]\u001b[0m\u001b[1;33m)\u001b[0m\u001b[1;33m\u001b[0m\u001b[1;33m\u001b[0m\u001b[0m\n\u001b[0m",
      "\u001b[1;31mIndexError\u001b[0m: index 3 is out of bounds for axis 0 with size 3"
     ]
    }
   ],
   "source": [
    "# 2차원 ndarray에서 단일 값 추출\n",
    "array1d = np.arange(1, 10)\n",
    "array2d = array1d.reshape(3,3)\n",
    "print(array2d)\n",
    "\n",
    "print('(row=0, col=0) index 가리키는 값:', array2d[0,0])\n",
    "print('(row=0, col=0) index 가리키는 값:', array2d[0,1])\n",
    "print('(row=0, col=0) index 가리키는 값:', array2d[1,2])\n",
    "print('(row=0, col=0) index 가리키는 값:', array2d[2,2])\n",
    "print('(row=0, col=0) index 가리키는 값:', array2d[3,2])"
   ]
  },
  {
   "cell_type": "markdown",
   "id": "583147fd",
   "metadata": {},
   "source": [
    "* Slicing"
   ]
  },
  {
   "cell_type": "code",
   "execution_count": 140,
   "id": "47c71d95",
   "metadata": {},
   "outputs": [
    {
     "name": "stdout",
     "output_type": "stream",
     "text": [
      "[1 2 3]\n",
      "<class 'numpy.ndarray'>\n"
     ]
    }
   ],
   "source": [
    "array1 = np.arange(1, 10)\n",
    "array2 = array1[0:3]\n",
    "print(array2)\n",
    "print(type(array2)) # slicing도 ndarray"
   ]
  },
  {
   "cell_type": "code",
   "execution_count": 147,
   "id": "9a8d0731",
   "metadata": {},
   "outputs": [
    {
     "name": "stdout",
     "output_type": "stream",
     "text": [
      "[1 2 3]\n",
      "[4 5 6 7 8 9]\n",
      "[1 2 3 4 5 6 7 8 9]\n"
     ]
    }
   ],
   "source": [
    "# 슬라이싱 기호인 ':' 사이의 시작, 종료 인덱스는 생략 가능.\n",
    "\n",
    "array1 = np.arange(1, 10)\n",
    "array3 = array1[:3] # tuple # R과 동일 컨셉\n",
    "print(array3)\n",
    "\n",
    "array4 = array1[3:] \n",
    "print(array4)\n",
    "\n",
    "array5 = array1[:] # 전체 데이터\n",
    "print(array5)"
   ]
  },
  {
   "cell_type": "code",
   "execution_count": 156,
   "id": "e0cb144c",
   "metadata": {},
   "outputs": [
    {
     "name": "stdout",
     "output_type": "stream",
     "text": [
      "array2d:\n",
      " [[1 2 3]\n",
      " [4 5 6]\n",
      " [7 8 9]]\n",
      "array2d[0:2, 0:2]\n",
      " [[1 2]\n",
      " [4 5]]\n",
      "array2d[1:3, 0:3]\n",
      " [[4 5 6]\n",
      " [7 8 9]]\n",
      "array2d[1:3, :]\n",
      " [[4 5 6]\n",
      " [7 8 9]]\n",
      "array2d[:2, 1:]\n",
      " [[2 3]\n",
      " [5 6]]\n",
      "array2d[:2, 0]\n",
      " [1 4]\n"
     ]
    }
   ],
   "source": [
    "# 2차원 ndarray에서 슬라이싱으로 데이터 접근.\n",
    "\n",
    "array1d = np.arange(1, 10)\n",
    "array2d = array1d.reshape(3, 3)\n",
    "print('array2d:\\n', array2d)\n",
    "\n",
    "print('array2d[0:2, 0:2]\\n',array2d[0:2, 0:2]) # 0~1행, 0~1열\n",
    "print('array2d[1:3, 0:3]\\n',array2d[1:3, 0:3]) # 1~2행, 0~2열\n",
    "print('array2d[1:3, :]\\n',array2d[1:3, :]) \n",
    "print('array2d[:2, 1:]\\n',array2d[:2, 1:])\n",
    "print('array2d[:2, 0]\\n',array2d[:2, 0])"
   ]
  },
  {
   "cell_type": "code",
   "execution_count": 159,
   "id": "a18b2bce",
   "metadata": {},
   "outputs": [
    {
     "name": "stdout",
     "output_type": "stream",
     "text": [
      "[1 2 3]\n",
      "[4 5 6]\n",
      "array2d[0] shape: (3,) array2d[1] shape: (3,)\n"
     ]
    }
   ],
   "source": [
    "# 2차원 ndarray에서 뒤에 오는 인덱스를 없애면 1차원 ndarray를 반환.\n",
    "\n",
    "print(array2d[0]) # 1차원 1행을 출력 # row축(axis 0)의 첫번째 row ndarray(1차원)를 반환. # 3차원은 면,행,열 순으로\n",
    "print(array2d[1]) # 1차원 2행을 출력 \n",
    "print('array2d[0] shape:', array2d[0].shape, 'array2d[1] shape:', array2d[1].shape)"
   ]
  },
  {
   "cell_type": "markdown",
   "id": "4b120a46",
   "metadata": {},
   "source": [
    "* Fancy indexing"
   ]
  },
  {
   "cell_type": "code",
   "execution_count": 166,
   "id": "33a655cc",
   "metadata": {},
   "outputs": [
    {
     "name": "stdout",
     "output_type": "stream",
     "text": [
      "[[1 2 3]\n",
      " [4 5 6]\n",
      " [7 8 9]]\n",
      "array2d[[0,1], 2] =>  [3, 6]\n",
      "array2d[[0,1], 0:2] =>  [[1, 2], [4, 5]]\n",
      "array2d[[0,1]] =>  [[1, 2, 3], [4, 5, 6]]\n"
     ]
    }
   ],
   "source": [
    "array1d = np.arange(1, 10)\n",
    "array2d = array1d.reshape(3,3)\n",
    "print(array2d)\n",
    "\n",
    "array3 = array2d[[0,1], 2]\n",
    "print('array2d[[0,1], 2] => ', array3.tolist())\n",
    "\n",
    "array4 = array2d[[0,1], 0:2]\n",
    "print('array2d[[0,1], 0:2] => ', array4.tolist())\n",
    "\n",
    "array5 = array2d[[0,1]]\n",
    "print('array2d[[0,1]] => ', array5.tolist())"
   ]
  },
  {
   "cell_type": "markdown",
   "id": "b000716a",
   "metadata": {},
   "source": [
    "* Boolean indexing : 조건 필터링과 검색을 동시에 할 수 있기 때문에 자주 사용."
   ]
  },
  {
   "cell_type": "code",
   "execution_count": 169,
   "id": "3b2e5534",
   "metadata": {},
   "outputs": [
    {
     "name": "stdout",
     "output_type": "stream",
     "text": [
      "array1d > 5 부울린 인덱싱 결과 값 :  [6 7 8 9]\n"
     ]
    }
   ],
   "source": [
    "array1d = np.arange(1,10) # 1~9까지\n",
    "\n",
    "array3 = array1d[array1d > 5] # []안에 array1d > 5 : Boolean indexing을 적용\n",
    "print('array1d > 5 부울린 인덱싱 결과 값 : ', array3)"
   ]
  },
  {
   "cell_type": "code",
   "execution_count": 172,
   "id": "53f89bd4",
   "metadata": {},
   "outputs": [
    {
     "data": {
      "text/plain": [
       "array([False, False, False, False, False,  True,  True,  True,  True])"
      ]
     },
     "execution_count": 172,
     "metadata": {},
     "output_type": "execute_result"
    }
   ],
   "source": [
    "array1d > 5"
   ]
  },
  {
   "cell_type": "code",
   "execution_count": 178,
   "id": "f24a081f",
   "metadata": {},
   "outputs": [
    {
     "name": "stdout",
     "output_type": "stream",
     "text": [
      "[False False False False False  True  True  True  True]\n",
      "불린 인덱스로 필터링 결과: [6 7 8 9]\n"
     ]
    }
   ],
   "source": [
    "boolean_indexes = np.array([False, False, False, False, False,  True,  True,  True,  True])\n",
    "print(boolean_indexes)\n",
    "\n",
    "array3 = array1d[boolean_indexes]\n",
    "print('불린 인덱스로 필터링 결과:',array3)"
   ]
  },
  {
   "cell_type": "code",
   "execution_count": 179,
   "id": "0b08996a",
   "metadata": {},
   "outputs": [
    {
     "name": "stdout",
     "output_type": "stream",
     "text": [
      "일반 인덱스로 필터링 결과: [6 7 8 9]\n"
     ]
    }
   ],
   "source": [
    "indexes = np.array([5,6,7,8])\n",
    "array4 = array1d[indexes]\n",
    "print('일반 인덱스로 필터링 결과:',array4)"
   ]
  },
  {
   "cell_type": "markdown",
   "id": "90b32fe2",
   "metadata": {},
   "source": [
    "## 행렬의 정렬-sort() argsort()\n",
    "* 행렬 정렬"
   ]
  },
  {
   "cell_type": "code",
   "execution_count": 204,
   "id": "037f8938",
   "metadata": {},
   "outputs": [
    {
     "name": "stdout",
     "output_type": "stream",
     "text": [
      "원본 행렬 :  [3 1 9 5]\n",
      "np.sort() 호출 후 반환된 정렬 행렬: [1 3 5 9]\n",
      "np.sort() 이전 원본 행렬: [3 1 9 5]\n",
      "org_array.sort() 호출 후 반환된 정렬 행렬: None\n",
      "org_array.sort() 호출 전 원본 행렬: [1 3 5 9]\n"
     ]
    }
   ],
   "source": [
    "org_array = np.array([3,1,9,5])\n",
    "print('원본 행렬 : ', org_array)\n",
    "\n",
    "# np.sort()로 정렬\n",
    "sort_array1 = np.sort(org_array)\n",
    "print('np.sort() 호출 후 반환된 정렬 행렬:', sort_array1)\n",
    "print('np.sort() 이전 원본 행렬:', org_array)\n",
    "\n",
    "# ndarray.sort()로 정렬\n",
    "sort_array2 = org_array.sort()\n",
    "print('org_array.sort() 호출 후 반환된 정렬 행렬:', sort_array2) # 자체적으로 업데이트를 원본까지 해주기 때문에 None으로 나온다.\n",
    "print('org_array.sort() 호출 전 원본 행렬:', org_array)"
   ]
  },
  {
   "cell_type": "code",
   "execution_count": 208,
   "id": "011b04d7",
   "metadata": {},
   "outputs": [
    {
     "name": "stdout",
     "output_type": "stream",
     "text": [
      "내림차순으로 정렬: [9 5 3 1]\n"
     ]
    }
   ],
   "source": [
    "sort_array1_desc = np.sort(org_array)[::-1]\n",
    "print('내림차순으로 정렬:', sort_array1_desc)"
   ]
  },
  {
   "cell_type": "code",
   "execution_count": 214,
   "id": "6eafb25e",
   "metadata": {},
   "outputs": [
    {
     "name": "stdout",
     "output_type": "stream",
     "text": [
      "row 방향으로 정렬:\n",
      " [[ 7  1]\n",
      " [ 8 12]]\n",
      "column 방향으로 정렬:\n",
      " [[ 8 12]\n",
      " [ 1  7]]\n"
     ]
    }
   ],
   "source": [
    "array2d = np.array([[8,12],\n",
    "                    [7,1]])\n",
    "\n",
    "sort_array2d_axist0 = np.sort(array2d, axis = 0) # 행끼리 비교 # 1행과 2행끼리 비교\n",
    "print('row 방향으로 정렬:\\n', sort_array2d_axist0)\n",
    "\n",
    "sort_array2d_axist1 = np.sort(array2d, axis = 1) # 열끼리 비교 # 1열과 2열끼리 비교\n",
    "print('column 방향으로 정렬:\\n', sort_array2d_axist1)"
   ]
  },
  {
   "cell_type": "markdown",
   "id": "addbc597",
   "metadata": {},
   "source": [
    "* 정렬 행렬의 인덱스 반환"
   ]
  },
  {
   "cell_type": "code",
   "execution_count": 218,
   "id": "4612b391",
   "metadata": {},
   "outputs": [
    {
     "name": "stdout",
     "output_type": "stream",
     "text": [
      "행렬 정렬 시 원본 행렬의 인덱스: [1 0 3 2] <class 'numpy.ndarray'>\n"
     ]
    }
   ],
   "source": [
    "org_array = np.array([3,1,9,5])\n",
    "sort_index = np.argsort(org_array) # 오름차순으로 인덱스 순서를 알려줌.\n",
    "print('행렬 정렬 시 원본 행렬의 인덱스:' ,sort_index, type(sort_index))"
   ]
  },
  {
   "cell_type": "code",
   "execution_count": null,
   "id": "79616e5b",
   "metadata": {},
   "outputs": [],
   "source": []
  }
 ],
 "metadata": {
  "kernelspec": {
   "display_name": "Python 3 (ipykernel)",
   "language": "python",
   "name": "python3"
  },
  "language_info": {
   "codemirror_mode": {
    "name": "ipython",
    "version": 3
   },
   "file_extension": ".py",
   "mimetype": "text/x-python",
   "name": "python",
   "nbconvert_exporter": "python",
   "pygments_lexer": "ipython3",
   "version": "3.7.13"
  }
 },
 "nbformat": 4,
 "nbformat_minor": 5
}
