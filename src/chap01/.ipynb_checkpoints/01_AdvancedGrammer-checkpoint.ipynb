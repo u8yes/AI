{
 "cells": [
  {
   "cell_type": "markdown",
   "id": "9fca8c94",
   "metadata": {},
   "source": [
    "# 데이터 분석에 유용한 기능들...\n",
    "\n",
    "### - list comprehension 기본 구조"
   ]
  },
  {
   "cell_type": "code",
   "execution_count": 7,
   "id": "41c08ed5",
   "metadata": {},
   "outputs": [],
   "source": [
    "numbers = [1,2,3,4,5]\n",
    "square1 = []"
   ]
  },
  {
   "cell_type": "code",
   "execution_count": 8,
   "id": "0eaded53",
   "metadata": {},
   "outputs": [
    {
     "data": {
      "text/plain": [
       "[1, 4, 9, 16, 25]"
      ]
     },
     "execution_count": 8,
     "metadata": {},
     "output_type": "execute_result"
    }
   ],
   "source": [
    "for i in numbers:\n",
    "    square1.append(i ** 2)\n",
    "    \n",
    "square1 # 제곱한 값이 출력되기 시작"
   ]
  },
  {
   "cell_type": "code",
   "execution_count": 10,
   "id": "17f9bf32",
   "metadata": {},
   "outputs": [
    {
     "data": {
      "text/plain": [
       "[1, 4, 9, 16, 25]"
      ]
     },
     "execution_count": 10,
     "metadata": {},
     "output_type": "execute_result"
    }
   ],
   "source": [
    "square2 = [i ** 2 for i in numbers] # list comprehension 이라고 불리는 구조\n",
    "square2"
   ]
  },
  {
   "cell_type": "code",
   "execution_count": 11,
   "id": "6834b7b3",
   "metadata": {},
   "outputs": [
    {
     "data": {
      "text/plain": [
       "[9, 16, 25]"
      ]
     },
     "execution_count": 11,
     "metadata": {},
     "output_type": "execute_result"
    }
   ],
   "source": [
    "square3 = []\n",
    "\n",
    "for i in numbers:\n",
    "    if i >= 3:\n",
    "        square3.append(i ** 2)\n",
    "        \n",
    "square3"
   ]
  },
  {
   "cell_type": "code",
   "execution_count": 12,
   "id": "1d460a2b",
   "metadata": {},
   "outputs": [
    {
     "data": {
      "text/plain": [
       "[9, 16, 25]"
      ]
     },
     "execution_count": 12,
     "metadata": {},
     "output_type": "execute_result"
    }
   ],
   "source": [
    "square4 = [i ** 2 for i in numbers if i >= 3] # append와 for문과 if문이 섞여있는 짬짜면\n",
    "square4"
   ]
  },
  {
   "cell_type": "markdown",
   "id": "6f5cd205",
   "metadata": {},
   "source": [
    "### * List comprehension : 리스트 변환하는 표현식으로 유용한 기능"
   ]
  },
  {
   "cell_type": "code",
   "execution_count": 14,
   "id": "9f39681b",
   "metadata": {
    "scrolled": true
   },
   "outputs": [
    {
     "name": "stdout",
     "output_type": "stream",
     "text": [
      "['mon', 'tue', 'wed', 'thu', 'fri', 'sat', 'sun']\n"
     ]
    }
   ],
   "source": [
    "day = ['mon', 'tue','wed','thu','fri','sat','sun']\n",
    "print([x for x in day]) # 맨 앞 x는 x에 리스트 자료형으로 데이터를 담아줘라, 중간 x는 for문에서 담아주는 변수\n"
   ]
  },
  {
   "cell_type": "code",
   "execution_count": 17,
   "id": "1a455342",
   "metadata": {},
   "outputs": [
    {
     "name": "stdout",
     "output_type": "stream",
     "text": [
      "[35, 56, 45, 27, 0]\n"
     ]
    }
   ],
   "source": [
    "data = [35, 56, -53, 45, 27, -28, 0, -12]\n",
    "print([x for x in data if x >= 0]) # [x(리스트 자료형으로 바꿔줌) for x(값을 담아줌) in data if x >= 0]"
   ]
  },
  {
   "cell_type": "code",
   "execution_count": 18,
   "id": "037b82fa",
   "metadata": {},
   "outputs": [
    {
     "name": "stdout",
     "output_type": "stream",
     "text": [
      "[1225, 3136, 2025, 729, 0]\n"
     ]
    }
   ],
   "source": [
    "data = [35, 56, -53, 45, 27, -28, 0, -12]\n",
    "print([x ** 2 for x in data if x >= 0])"
   ]
  },
  {
   "cell_type": "markdown",
   "id": "c74964aa",
   "metadata": {},
   "source": [
    "#### - split(구분자) : 구분자로 구분, 기본값은 공백"
   ]
  },
  {
   "cell_type": "code",
   "execution_count": 23,
   "id": "b1f46be5",
   "metadata": {},
   "outputs": [
    {
     "data": {
      "text/plain": [
       "['the', 'joeun', 'Computer_academy', 'with', 'python']"
      ]
     },
     "execution_count": 23,
     "metadata": {},
     "output_type": "execute_result"
    }
   ],
   "source": [
    "test_text = \"the-joeun-Computer_academy-with-python\"\n",
    "result = test_text.split('-') # 바(-)를 기준으로 데이터들을 구분해주고 리턴해준다.\n",
    "result # 리스트 자료 구조로 리턴해줌"
   ]
  },
  {
   "cell_type": "code",
   "execution_count": 24,
   "id": "9e2736ff",
   "metadata": {},
   "outputs": [
    {
     "data": {
      "text/plain": [
       "['the', 'joeun', 'Computer_academy', 'with', 'python']"
      ]
     },
     "execution_count": 24,
     "metadata": {},
     "output_type": "execute_result"
    }
   ],
   "source": [
    "test_text = ['the', 'joeun', 'Computer_academy', 'with', 'python']\n",
    "test_text"
   ]
  },
  {
   "cell_type": "code",
   "execution_count": 26,
   "id": "d8da9707",
   "metadata": {},
   "outputs": [
    {
     "data": {
      "text/plain": [
       "'the-joeun-Computer_academy-with-python'"
      ]
     },
     "execution_count": 26,
     "metadata": {},
     "output_type": "execute_result"
    }
   ],
   "source": [
    "result = '-'.join(test_text) # -를 기준으로 데이터를 조합해준다.\n",
    "result"
   ]
  },
  {
   "cell_type": "markdown",
   "id": "5b58fa35",
   "metadata": {},
   "source": [
    "* split()와 join()의 응용"
   ]
  },
  {
   "cell_type": "code",
   "execution_count": 30,
   "id": "715b1acf",
   "metadata": {},
   "outputs": [
    {
     "data": {
      "text/plain": [
       "'345-234'"
      ]
     },
     "execution_count": 30,
     "metadata": {},
     "output_type": "execute_result"
    }
   ],
   "source": [
    "result = '-'.join('345.234'.split('.'))\n",
    "result"
   ]
  },
  {
   "cell_type": "markdown",
   "id": "40f9966c",
   "metadata": {},
   "source": [
    "### - enumerate(list): 인덱스와 값을 함께 반환"
   ]
  },
  {
   "cell_type": "code",
   "execution_count": 33,
   "id": "131b3500",
   "metadata": {},
   "outputs": [
    {
     "name": "stdout",
     "output_type": "stream",
     "text": [
      "0 a\n",
      "1 b\n",
      "2 c\n",
      "3 d\n",
      "4 e\n"
     ]
    }
   ],
   "source": [
    "for i, name in enumerate(['a','b','c','d','e']): # 2개의 변수를 선언해줄 수 있는 프로그램은 python밖에 없다. Check!!!\n",
    "    print(i, name) # 리스트에 있는 데이터들을 for문을 통해 name변수에다가 매칭 시켜준다."
   ]
  },
  {
   "cell_type": "code",
   "execution_count": 35,
   "id": "95a445b0",
   "metadata": {},
   "outputs": [
    {
     "data": {
      "text/plain": [
       "{0: 'mon', 1: 'tue', 2: 'wed', 3: 'thu', 4: 'fri', 5: 'sat', 6: 'sun'}"
      ]
     },
     "execution_count": 35,
     "metadata": {},
     "output_type": "execute_result"
    }
   ],
   "source": [
    "seq = ['mon', 'tue','wed','thu','fri','sat','sun']\n",
    "dict(enumerate(seq)) # key, value형태로 dict가 알아서 출력해주게 됨."
   ]
  },
  {
   "cell_type": "code",
   "execution_count": 38,
   "id": "6ad485db",
   "metadata": {},
   "outputs": [
    {
     "data": {
      "text/plain": [
       "{'a': 'mon',\n",
       " 'b': 'tue',\n",
       " 'c': 'wed',\n",
       " 'd': 'thu',\n",
       " 'e': 'fri',\n",
       " 'f': 'sat',\n",
       " 'g': 'sun'}"
      ]
     },
     "execution_count": 38,
     "metadata": {},
     "output_type": "execute_result"
    }
   ],
   "source": [
    "key_seq = 'abcdefg'\n",
    "value_seq = ['mon', 'tue','wed','thu','fri','sat','sun']\n",
    "dict(zip(key_seq, value_seq)) # 두 변수가 하나씩 물려가는 구조로 zipper 데이터를 만들어주게 됨.\n",
    "# dict 형태로 강제형변환해줌."
   ]
  },
  {
   "cell_type": "markdown",
   "id": "a5783b0b",
   "metadata": {},
   "source": [
    "## - Counter를 이용한 카운팅\n",
    "* Count는 아이템의 갯수를 자동으로 카운팅.(단어의 빈도수)"
   ]
  },
  {
   "cell_type": "code",
   "execution_count": 40,
   "id": "ae435723",
   "metadata": {},
   "outputs": [],
   "source": [
    "from collections import Counter # <class 'collections.Counter'> # collections로부터 Counter를 inport 하라"
   ]
  },
  {
   "cell_type": "code",
   "execution_count": 41,
   "id": "bd1643bf",
   "metadata": {},
   "outputs": [],
   "source": [
    "message = \"\"\"\n",
    "What is Lorem Ipsum?\n",
    "Lorem Ipsum is simply dummy text of the printing and typesetting industry. \n",
    "Lorem Ipsum has been the industry's standard dummy text ever since the 1500s, \n",
    "when an unknown printer took a galley of type and scrambled it to make a type specimen book. \n",
    "It has survived not only five centuries, but also the leap into electronic typesetting, \n",
    "remaining essentially unchanged. It was popularised in the 1960s with the release of Letraset sheets containing Lorem Ipsum passages, \n",
    "and more recently with desktop publishing software like Aldus PageMaker including versions of Lorem Ipsum.\n",
    "What is Lorem Ipsum?\n",
    "Lorem Ipsum is simply dummy text of the printing and typesetting industry. \n",
    "Lorem Ipsum has been the industry's standard dummy text ever since the 1500s, \n",
    "when an unknown printer took a galley of type and scrambled it to make a type specimen book. \n",
    "It has survived not only five centuries, but also the leap into electronic typesetting, \n",
    "remaining essentially unchanged. It was popularised in the 1960s with the release of Letraset sheets containing Lorem Ipsum passages, \n",
    "and more recently with desktop publishing software like Aldus PageMaker including versions of Lorem Ipsum.\n",
    "\"\"\""
   ]
  },
  {
   "cell_type": "code",
   "execution_count": 44,
   "id": "ab7bf490",
   "metadata": {},
   "outputs": [
    {
     "name": "stdout",
     "output_type": "stream",
     "text": [
      "Counter({'the': 12, 'Lorem': 10, 'of': 8, 'Ipsum': 6, 'and': 6, 'is': 4, 'dummy': 4, 'text': 4, 'has': 4, 'a': 4, 'type': 4, 'It': 4, 'with': 4, 'What': 2, 'Ipsum?': 2, 'simply': 2, 'printing': 2, 'typesetting': 2, 'industry.': 2, 'been': 2, \"industry's\": 2, 'standard': 2, 'ever': 2, 'since': 2, '1500s,': 2, 'when': 2, 'an': 2, 'unknown': 2, 'printer': 2, 'took': 2, 'galley': 2, 'scrambled': 2, 'it': 2, 'to': 2, 'make': 2, 'specimen': 2, 'book.': 2, 'survived': 2, 'not': 2, 'only': 2, 'five': 2, 'centuries,': 2, 'but': 2, 'also': 2, 'leap': 2, 'into': 2, 'electronic': 2, 'typesetting,': 2, 'remaining': 2, 'essentially': 2, 'unchanged.': 2, 'was': 2, 'popularised': 2, 'in': 2, '1960s': 2, 'release': 2, 'Letraset': 2, 'sheets': 2, 'containing': 2, 'passages,': 2, 'more': 2, 'recently': 2, 'desktop': 2, 'publishing': 2, 'software': 2, 'like': 2, 'Aldus': 2, 'PageMaker': 2, 'including': 2, 'versions': 2, 'Ipsum.': 2})\n"
     ]
    }
   ],
   "source": [
    "counter = Counter(message.split()) # new와 같이 사용하려면 ()를 이용해 호출해주면 생성됨\n",
    "print(counter) # 단어 빈도수를 key, value형태로 리턴해줌"
   ]
  },
  {
   "cell_type": "code",
   "execution_count": 45,
   "id": "9b5e30a9",
   "metadata": {},
   "outputs": [
    {
     "name": "stdout",
     "output_type": "stream",
     "text": [
      "<class 'collections.Counter'>\n"
     ]
    }
   ],
   "source": [
    "print(type(counter))"
   ]
  },
  {
   "cell_type": "code",
   "execution_count": null,
   "id": "fbae09d6",
   "metadata": {},
   "outputs": [],
   "source": []
  }
 ],
 "metadata": {
  "kernelspec": {
   "display_name": "Python 3 (ipykernel)",
   "language": "python",
   "name": "python3"
  },
  "language_info": {
   "codemirror_mode": {
    "name": "ipython",
    "version": 3
   },
   "file_extension": ".py",
   "mimetype": "text/x-python",
   "name": "python",
   "nbconvert_exporter": "python",
   "pygments_lexer": "ipython3",
   "version": "3.9.13"
  }
 },
 "nbformat": 4,
 "nbformat_minor": 5
}
