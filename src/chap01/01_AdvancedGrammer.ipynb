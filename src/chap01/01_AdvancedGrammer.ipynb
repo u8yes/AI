{
 "cells": [
  {
   "cell_type": "markdown",
   "id": "05ce4822",
   "metadata": {},
   "source": [
    "# 데이터 분석에 유용한 기능들...\n",
    "\n",
    "### - list comprehension 기본 구조"
   ]
  },
  {
   "cell_type": "code",
   "execution_count": 7,
   "id": "49051f9b",
   "metadata": {},
   "outputs": [],
   "source": [
    "numbers = [1,2,3,4,5]\n",
    "square1 = []"
   ]
  },
  {
   "cell_type": "code",
   "execution_count": 8,
   "id": "45540319",
   "metadata": {},
   "outputs": [
    {
     "data": {
      "text/plain": [
       "[1, 4, 9, 16, 25]"
      ]
     },
     "execution_count": 8,
     "metadata": {},
     "output_type": "execute_result"
    }
   ],
   "source": [
    "for i in numbers:\n",
    "    square1.append(i ** 2)\n",
    "    \n",
    "square1 # 제곱한 값이 출력되기 시작"
   ]
  },
  {
   "cell_type": "code",
   "execution_count": 10,
   "id": "a050b489",
   "metadata": {},
   "outputs": [
    {
     "data": {
      "text/plain": [
       "[1, 4, 9, 16, 25]"
      ]
     },
     "execution_count": 10,
     "metadata": {},
     "output_type": "execute_result"
    }
   ],
   "source": [
    "square2 = [i ** 2 for i in numbers] # list comprehension 이라고 불리는 구조\n",
    "square2"
   ]
  },
  {
   "cell_type": "code",
   "execution_count": 11,
   "id": "aa158232",
   "metadata": {},
   "outputs": [
    {
     "data": {
      "text/plain": [
       "[9, 16, 25]"
      ]
     },
     "execution_count": 11,
     "metadata": {},
     "output_type": "execute_result"
    }
   ],
   "source": [
    "square3 = []\n",
    "\n",
    "for i in numbers:\n",
    "    if i >= 3:\n",
    "        square3.append(i ** 2)\n",
    "        \n",
    "square3"
   ]
  },
  {
   "cell_type": "code",
   "execution_count": 12,
   "id": "ab5db686",
   "metadata": {},
   "outputs": [
    {
     "data": {
      "text/plain": [
       "[9, 16, 25]"
      ]
     },
     "execution_count": 12,
     "metadata": {},
     "output_type": "execute_result"
    }
   ],
   "source": [
    "square4 = [i ** 2 for i in numbers if i >= 3] # append와 for문과 if문이 섞여있는 짬짜면\n",
    "square4"
   ]
  },
  {
   "cell_type": "markdown",
   "id": "ebae586e",
   "metadata": {},
   "source": [
    "### * List comprehension : 리스트 변환하는 표현식으로 유용한 기능"
   ]
  },
  {
   "cell_type": "code",
   "execution_count": 14,
   "id": "1c60866e",
   "metadata": {
    "scrolled": true
   },
   "outputs": [
    {
     "name": "stdout",
     "output_type": "stream",
     "text": [
      "['mon', 'tue', 'wed', 'thu', 'fri', 'sat', 'sun']\n"
     ]
    }
   ],
   "source": [
    "day = ['mon', 'tue','wed','thu','fri','sat','sun']\n",
    "print([x for x in day]) # x에 리스트 자료형으로 데이터를 담아줌.\n"
   ]
  },
  {
   "cell_type": "code",
   "execution_count": 17,
   "id": "633093d7",
   "metadata": {},
   "outputs": [
    {
     "name": "stdout",
     "output_type": "stream",
     "text": [
      "[35, 56, 45, 27, 0]\n"
     ]
    }
   ],
   "source": [
    "data = [35, 56, -53, 45, 27, -28, 0, -12]\n",
    "print([x for x in data if x >= 0]) # [x(리스트 자료형으로 바꿔줌) for x(값을 담아줌) in data if x >= 0]"
   ]
  },
  {
   "cell_type": "code",
   "execution_count": 18,
   "id": "e8e8b80c",
   "metadata": {},
   "outputs": [
    {
     "name": "stdout",
     "output_type": "stream",
     "text": [
      "[1225, 3136, 2025, 729, 0]\n"
     ]
    }
   ],
   "source": [
    "data = [35, 56, -53, 45, 27, -28, 0, -12]\n",
    "print([x ** 2 for x in data if x >= 0])"
   ]
  },
  {
   "cell_type": "markdown",
   "id": "ec448bdc",
   "metadata": {},
   "source": [
    "#### - split(구분자) : 구분자로 구분, 기본값은 공백"
   ]
  },
  {
   "cell_type": "code",
   "execution_count": 23,
   "id": "2f746272",
   "metadata": {},
   "outputs": [
    {
     "data": {
      "text/plain": [
       "['the', 'joeun', 'Computer_academy', 'with', 'python']"
      ]
     },
     "execution_count": 23,
     "metadata": {},
     "output_type": "execute_result"
    }
   ],
   "source": [
    "test_text = \"the-joeun-Computer_academy-with-python\"\n",
    "result = test_text.split('-') # 바(-)를 기준으로 데이터들을 구분해주고 리턴해준다.\n",
    "result # 리스트 자료 구조로 리턴해줌"
   ]
  },
  {
   "cell_type": "code",
   "execution_count": 24,
   "id": "07ea90ef",
   "metadata": {},
   "outputs": [
    {
     "data": {
      "text/plain": [
       "['the', 'joeun', 'Computer_academy', 'with', 'python']"
      ]
     },
     "execution_count": 24,
     "metadata": {},
     "output_type": "execute_result"
    }
   ],
   "source": [
    "test_text = ['the', 'joeun', 'Computer_academy', 'with', 'python']\n",
    "test_text"
   ]
  },
  {
   "cell_type": "code",
   "execution_count": 26,
   "id": "60fe00b0",
   "metadata": {},
   "outputs": [
    {
     "data": {
      "text/plain": [
       "'the-joeun-Computer_academy-with-python'"
      ]
     },
     "execution_count": 26,
     "metadata": {},
     "output_type": "execute_result"
    }
   ],
   "source": [
    "result = '-'.join(test_text) # -를 기준으로 데이터를 조합해준다.\n",
    "result"
   ]
  },
  {
   "cell_type": "markdown",
   "id": "a174a1cd",
   "metadata": {},
   "source": [
    "* split()와 join()의 응용"
   ]
  },
  {
   "cell_type": "code",
   "execution_count": 30,
   "id": "8ce31c62",
   "metadata": {},
   "outputs": [
    {
     "data": {
      "text/plain": [
       "'345-234'"
      ]
     },
     "execution_count": 30,
     "metadata": {},
     "output_type": "execute_result"
    }
   ],
   "source": [
    "result = '-'.join('345.234'.split('.'))\n",
    "result"
   ]
  },
  {
   "cell_type": "markdown",
   "id": "3bef86da",
   "metadata": {},
   "source": [
    "### - enumerate(list): 인덱스와 값을 함께 반환"
   ]
  },
  {
   "cell_type": "code",
   "execution_count": 33,
   "id": "c6be1538",
   "metadata": {},
   "outputs": [
    {
     "name": "stdout",
     "output_type": "stream",
     "text": [
      "0 a\n",
      "1 b\n",
      "2 c\n",
      "3 d\n",
      "4 e\n"
     ]
    }
   ],
   "source": [
    "for i, name in enumerate(['a','b','c','d','e']): # 2개의 변수를 선언해줄 수 있는 프로그램은 python밖에 없다. Check!!!\n",
    "    print(i, name) # 리스트에 있는 데이터들을 for문을 통해 name변수에다가 매칭 시켜준다."
   ]
  },
  {
   "cell_type": "code",
   "execution_count": 35,
   "id": "a68e7fdc",
   "metadata": {},
   "outputs": [
    {
     "data": {
      "text/plain": [
       "{0: 'mon', 1: 'tue', 2: 'wed', 3: 'thu', 4: 'fri', 5: 'sat', 6: 'sun'}"
      ]
     },
     "execution_count": 35,
     "metadata": {},
     "output_type": "execute_result"
    }
   ],
   "source": [
    "seq = ['mon', 'tue','wed','thu','fri','sat','sun']\n",
    "dict(enumerate(seq)) # key, value형태로 dict가 알아서 출력해주게 됨."
   ]
  },
  {
   "cell_type": "code",
   "execution_count": 38,
   "id": "98155705",
   "metadata": {},
   "outputs": [
    {
     "data": {
      "text/plain": [
       "{'a': 'mon',\n",
       " 'b': 'tue',\n",
       " 'c': 'wed',\n",
       " 'd': 'thu',\n",
       " 'e': 'fri',\n",
       " 'f': 'sat',\n",
       " 'g': 'sun'}"
      ]
     },
     "execution_count": 38,
     "metadata": {},
     "output_type": "execute_result"
    }
   ],
   "source": [
    "key_seq = 'abcdefg'\n",
    "value_seq = ['mon', 'tue','wed','thu','fri','sat','sun']\n",
    "dict(zip(key_seq, value_seq)) # 두 변수가 하나씩 물려가는 구조로 zipper 데이터를 만들어주게 됨.\n",
    "# dict 형태로 강제형변환해줌."
   ]
  },
  {
   "cell_type": "code",
   "execution_count": null,
   "id": "616310db",
   "metadata": {},
   "outputs": [],
   "source": []
  }
 ],
 "metadata": {
  "kernelspec": {
   "display_name": "Python 3 (ipykernel)",
   "language": "python",
   "name": "python3"
  },
  "language_info": {
   "codemirror_mode": {
    "name": "ipython",
    "version": 3
   },
   "file_extension": ".py",
   "mimetype": "text/x-python",
   "name": "python",
   "nbconvert_exporter": "python",
   "pygments_lexer": "ipython3",
   "version": "3.9.13"
  }
 },
 "nbformat": 4,
 "nbformat_minor": 5
}
