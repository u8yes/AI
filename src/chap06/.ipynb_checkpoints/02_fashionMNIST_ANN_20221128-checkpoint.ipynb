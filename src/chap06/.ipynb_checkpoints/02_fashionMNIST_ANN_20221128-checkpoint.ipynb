{
 "cells": [
  {
   "cell_type": "code",
   "execution_count": 2,
   "id": "651c9fda",
   "metadata": {},
   "outputs": [],
   "source": [
    "import tensorflow as tf\n",
    "from sklearn.model_selection import train_test_split\n",
    "\n",
    "(train_input, train_target),(test_input, test_target) = tf.keras.datasets.fashion_mnist.load_data()\n",
    "\n",
    "train_scaled = train_input / 255.0 \n",
    "train_scaled = train_scaled.reshape(-1,28 * 28) "
   ]
  },
  {
   "cell_type": "code",
   "execution_count": 6,
   "id": "41356cfc",
   "metadata": {},
   "outputs": [],
   "source": [
    "train_scaled, val_scaled, train_target, val_target \\ # \\을 넣어주면 줄바꿈이 가능해짐.\n",
    "    = train_test_split(train_scaled, train_target, test_size=0.2, random_state=42)"
   ]
  },
  {
   "cell_type": "code",
   "execution_count": 7,
   "id": "b0ce7f0a",
   "metadata": {},
   "outputs": [
    {
     "name": "stdout",
     "output_type": "stream",
     "text": [
      "(48000, 784) (48000,)\n",
      "(12000, 784) (12000,)\n"
     ]
    }
   ],
   "source": [
    "print(train_scaled.shape, train_target.shape)\n",
    "print(val_scaled.shape, val_target.shape)"
   ]
  },
  {
   "cell_type": "code",
   "execution_count": 14,
   "id": "21c9d11f",
   "metadata": {},
   "outputs": [],
   "source": [
    "model = tf.keras.Sequential()\n",
    "model.add(tf.keras.layers.Dense(units=10, input_shape=(28*28,), activation='softmax')) \n",
    "# input_dim이 아닌 input_shape으로 하니깐 가능해짐. 둘이 같음."
   ]
  },
  {
   "cell_type": "code",
   "execution_count": 15,
   "id": "bf66161e",
   "metadata": {},
   "outputs": [],
   "source": [
    "model.compile(loss='sparse_categorical_crossentropy', optimizer='sgd', metrics='accuracy') \n",
    "# sparse_categorical_crosssentropy 인덱스로 처리할 때 알아서 one-hot 인코딩으로 바꿔줌."
   ]
  },
  {
   "cell_type": "code",
   "execution_count": 16,
   "id": "e71dc770",
   "metadata": {},
   "outputs": [
    {
     "name": "stdout",
     "output_type": "stream",
     "text": [
      "Epoch 1/10\n",
      "1500/1500 [==============================] - 2s 938us/step - loss: 0.6053 - accuracy: 0.7956\n",
      "Epoch 2/10\n",
      "1500/1500 [==============================] - 1s 947us/step - loss: 0.4784 - accuracy: 0.8406\n",
      "Epoch 3/10\n",
      "1500/1500 [==============================] - 1s 922us/step - loss: 0.4563 - accuracy: 0.8487\n",
      "Epoch 4/10\n",
      "1500/1500 [==============================] - 1s 932us/step - loss: 0.4443 - accuracy: 0.8514\n",
      "Epoch 5/10\n",
      "1500/1500 [==============================] - 2s 1ms/step - loss: 0.4358 - accuracy: 0.8554\n",
      "Epoch 6/10\n",
      "1500/1500 [==============================] - 1s 972us/step - loss: 0.4329 - accuracy: 0.8565\n",
      "Epoch 7/10\n",
      "1500/1500 [==============================] - 1s 941us/step - loss: 0.4271 - accuracy: 0.8597\n",
      "Epoch 8/10\n",
      "1500/1500 [==============================] - 1s 976us/step - loss: 0.4243 - accuracy: 0.8612\n",
      "Epoch 9/10\n",
      "1500/1500 [==============================] - 2s 1ms/step - loss: 0.4219 - accuracy: 0.8622\n",
      "Epoch 10/10\n",
      "1500/1500 [==============================] - 2s 1ms/step - loss: 0.4201 - accuracy: 0.8617\n"
     ]
    },
    {
     "data": {
      "text/plain": [
       "<keras.callbacks.History at 0x1d6c89a4848>"
      ]
     },
     "execution_count": 16,
     "metadata": {},
     "output_type": "execute_result"
    }
   ],
   "source": [
    "model.fit(train_scaled, train_target, epochs=10) # 이미 학습한 데이터를 가지고 검증"
   ]
  },
  {
   "cell_type": "code",
   "execution_count": 17,
   "id": "cbceb665",
   "metadata": {},
   "outputs": [
    {
     "name": "stdout",
     "output_type": "stream",
     "text": [
      "375/375 [==============================] - 0s 918us/step - loss: 0.4433 - accuracy: 0.8548\n"
     ]
    },
    {
     "data": {
      "text/plain": [
       "[0.4432770609855652, 0.8548333048820496]"
      ]
     },
     "execution_count": 17,
     "metadata": {},
     "output_type": "execute_result"
    }
   ],
   "source": [
    "model.evaluate(val_scaled, val_target) # 실질적인 test 데이터(한번도 사용하지 않음)"
   ]
  },
  {
   "cell_type": "code",
   "execution_count": null,
   "id": "8e0eab09",
   "metadata": {},
   "outputs": [],
   "source": []
  }
 ],
 "metadata": {
  "kernelspec": {
   "display_name": "Python 3 (ipykernel)",
   "language": "python",
   "name": "python3"
  },
  "language_info": {
   "codemirror_mode": {
    "name": "ipython",
    "version": 3
   },
   "file_extension": ".py",
   "mimetype": "text/x-python",
   "name": "python",
   "nbconvert_exporter": "python",
   "pygments_lexer": "ipython3",
   "version": "3.7.13"
  }
 },
 "nbformat": 4,
 "nbformat_minor": 5
}
