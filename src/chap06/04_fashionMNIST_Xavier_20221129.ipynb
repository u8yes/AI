{
 "cells": [
  {
   "cell_type": "code",
   "execution_count": 8,
   "id": "a34449bf",
   "metadata": {},
   "outputs": [],
   "source": [
    "from tensorflow import keras\n",
    "\n",
    "(train_input, train_target), (test_input, test_target) \\\n",
    "    = keras.datasets.fashion_mnist.load_data()"
   ]
  },
  {
   "cell_type": "code",
   "execution_count": 9,
   "id": "6dd80aa4",
   "metadata": {},
   "outputs": [
    {
     "name": "stdout",
     "output_type": "stream",
     "text": [
      "(60000, 28, 28) (60000,) (10000, 28, 28) (10000,)\n"
     ]
    }
   ],
   "source": [
    "print(train_input.shape, train_target.shape, test_input.shape, test_target.shape)"
   ]
  },
  {
   "cell_type": "code",
   "execution_count": 10,
   "id": "7af75fb8",
   "metadata": {},
   "outputs": [],
   "source": [
    "from sklearn.model_selection import train_test_split\n",
    "\n",
    "train_scaled = train_input / 255.0\n",
    "train_scaled = train_scaled.reshape(-1, 28 * 28)\n",
    "\n",
    "train_scaled, val_scaled, train_target, val_target \\\n",
    "    = train_test_split(train_scaled, train_target, test_size=0.2, random_state=42)"
   ]
  },
  {
   "cell_type": "code",
   "execution_count": 24,
   "id": "00c16f96",
   "metadata": {},
   "outputs": [],
   "source": [
    "model = keras.Sequential()\n",
    "model.add(keras.layers.Dense(units=512, activation='relu', \\\n",
    "                             input_shape=(28*28,), \\\n",
    "                             kernel_initializer='glorot_normal')) # api에서 제공해주는 것을 kernel이라고 함.\n",
    "model.add(keras.layers.Dense(units=512, activation='relu', \\\n",
    "                             kernel_initializer='glorot_normal'))\n",
    "model.add(keras.layers.Dense(units=512, activation='relu', \\\n",
    "                             kernel_initializer='glorot_normal'))\n",
    "model.add(keras.layers.Dense(units=512, activation='relu', \\\n",
    "                             kernel_initializer='glorot_normal'))\n",
    "model.add(keras.layers.Dense(units=10, activation='softmax', \\\n",
    "                             kernel_initializer='glorot_normal'))"
   ]
  },
  {
   "cell_type": "code",
   "execution_count": 25,
   "id": "6a112382",
   "metadata": {},
   "outputs": [],
   "source": [
    "model.compile(optimizer=keras.optimizers.Adam(learning_rate=0.001), loss='sparse_categorical_crossentropy', metrics='accuracy')"
   ]
  },
  {
   "cell_type": "code",
   "execution_count": 21,
   "id": "cc982630",
   "metadata": {},
   "outputs": [
    {
     "name": "stdout",
     "output_type": "stream",
     "text": [
      "Model: \"sequential_3\"\n",
      "_________________________________________________________________\n",
      " Layer (type)                Output Shape              Param #   \n",
      "=================================================================\n",
      " dense_9 (Dense)             (None, 512)               401920    \n",
      "                                                                 \n",
      " dense_10 (Dense)            (None, 512)               262656    \n",
      "                                                                 \n",
      " dense_11 (Dense)            (None, 512)               262656    \n",
      "                                                                 \n",
      " dense_12 (Dense)            (None, 512)               262656    \n",
      "                                                                 \n",
      " dense_13 (Dense)            (None, 10)                5130      \n",
      "                                                                 \n",
      "=================================================================\n",
      "Total params: 1,195,018\n",
      "Trainable params: 1,195,018\n",
      "Non-trainable params: 0\n",
      "_________________________________________________________________\n"
     ]
    }
   ],
   "source": [
    "model.summary()"
   ]
  },
  {
   "cell_type": "code",
   "execution_count": 22,
   "id": "b601c132",
   "metadata": {
    "scrolled": true
   },
   "outputs": [
    {
     "name": "stdout",
     "output_type": "stream",
     "text": [
      "Epoch 1/50\n",
      "480/480 [==============================] - 4s 8ms/step - loss: 0.5112 - accuracy: 0.8141\n",
      "Epoch 2/50\n",
      "480/480 [==============================] - 3s 7ms/step - loss: 0.3663 - accuracy: 0.8660\n",
      "Epoch 3/50\n",
      "480/480 [==============================] - 3s 7ms/step - loss: 0.3353 - accuracy: 0.8751\n",
      "Epoch 4/50\n",
      "480/480 [==============================] - 3s 7ms/step - loss: 0.3108 - accuracy: 0.8840\n",
      "Epoch 5/50\n",
      "480/480 [==============================] - 3s 7ms/step - loss: 0.2889 - accuracy: 0.8925\n",
      "Epoch 6/50\n",
      "480/480 [==============================] - 3s 7ms/step - loss: 0.2756 - accuracy: 0.8968\n",
      "Epoch 7/50\n",
      "480/480 [==============================] - 3s 7ms/step - loss: 0.2580 - accuracy: 0.9034\n",
      "Epoch 8/50\n",
      "480/480 [==============================] - 3s 7ms/step - loss: 0.2500 - accuracy: 0.9050\n",
      "Epoch 9/50\n",
      "480/480 [==============================] - 3s 7ms/step - loss: 0.2372 - accuracy: 0.9106\n",
      "Epoch 10/50\n",
      "480/480 [==============================] - 3s 7ms/step - loss: 0.2333 - accuracy: 0.9119\n",
      "Epoch 11/50\n",
      "480/480 [==============================] - 3s 7ms/step - loss: 0.2204 - accuracy: 0.9177\n",
      "Epoch 12/50\n",
      "480/480 [==============================] - 3s 7ms/step - loss: 0.2118 - accuracy: 0.9195\n",
      "Epoch 13/50\n",
      "480/480 [==============================] - 3s 7ms/step - loss: 0.2026 - accuracy: 0.9228\n",
      "Epoch 14/50\n",
      "480/480 [==============================] - 3s 7ms/step - loss: 0.1975 - accuracy: 0.9249\n",
      "Epoch 15/50\n",
      "480/480 [==============================] - 4s 9ms/step - loss: 0.1878 - accuracy: 0.9279\n",
      "Epoch 16/50\n",
      "480/480 [==============================] - 4s 8ms/step - loss: 0.1871 - accuracy: 0.9286\n",
      "Epoch 17/50\n",
      "480/480 [==============================] - 4s 7ms/step - loss: 0.1778 - accuracy: 0.9317\n",
      "Epoch 18/50\n",
      "480/480 [==============================] - 4s 7ms/step - loss: 0.1760 - accuracy: 0.9317\n",
      "Epoch 19/50\n",
      "480/480 [==============================] - 5s 11ms/step - loss: 0.1631 - accuracy: 0.9376\n",
      "Epoch 20/50\n",
      "480/480 [==============================] - 4s 8ms/step - loss: 0.1625 - accuracy: 0.9373\n",
      "Epoch 21/50\n",
      "480/480 [==============================] - 3s 7ms/step - loss: 0.1514 - accuracy: 0.9408\n",
      "Epoch 22/50\n",
      "480/480 [==============================] - 3s 7ms/step - loss: 0.1481 - accuracy: 0.9432\n",
      "Epoch 23/50\n",
      "480/480 [==============================] - 4s 7ms/step - loss: 0.1461 - accuracy: 0.9433\n",
      "Epoch 24/50\n",
      "480/480 [==============================] - 3s 7ms/step - loss: 0.1417 - accuracy: 0.9453\n",
      "Epoch 25/50\n",
      "480/480 [==============================] - 3s 7ms/step - loss: 0.1363 - accuracy: 0.9465\n",
      "Epoch 26/50\n",
      "480/480 [==============================] - 3s 7ms/step - loss: 0.1319 - accuracy: 0.9489\n",
      "Epoch 27/50\n",
      "480/480 [==============================] - 3s 7ms/step - loss: 0.1335 - accuracy: 0.9490\n",
      "Epoch 28/50\n",
      "480/480 [==============================] - 3s 7ms/step - loss: 0.1207 - accuracy: 0.9527\n",
      "Epoch 29/50\n",
      "480/480 [==============================] - 3s 7ms/step - loss: 0.1157 - accuracy: 0.9548\n",
      "Epoch 30/50\n",
      "480/480 [==============================] - 3s 7ms/step - loss: 0.1178 - accuracy: 0.9537\n",
      "Epoch 31/50\n",
      "480/480 [==============================] - 3s 7ms/step - loss: 0.1152 - accuracy: 0.9551\n",
      "Epoch 32/50\n",
      "480/480 [==============================] - 3s 7ms/step - loss: 0.1060 - accuracy: 0.9582\n",
      "Epoch 33/50\n",
      "480/480 [==============================] - 3s 7ms/step - loss: 0.1036 - accuracy: 0.9589\n",
      "Epoch 34/50\n",
      "480/480 [==============================] - 3s 6ms/step - loss: 0.0996 - accuracy: 0.9609\n",
      "Epoch 35/50\n",
      "480/480 [==============================] - 3s 6ms/step - loss: 0.1048 - accuracy: 0.9601\n",
      "Epoch 36/50\n",
      "480/480 [==============================] - 3s 7ms/step - loss: 0.0957 - accuracy: 0.9629\n",
      "Epoch 37/50\n",
      "480/480 [==============================] - 3s 7ms/step - loss: 0.0952 - accuracy: 0.9639\n",
      "Epoch 38/50\n",
      "480/480 [==============================] - 4s 7ms/step - loss: 0.0896 - accuracy: 0.9637\n",
      "Epoch 39/50\n",
      "480/480 [==============================] - 4s 8ms/step - loss: 0.0839 - accuracy: 0.9674\n",
      "Epoch 40/50\n",
      "480/480 [==============================] - 4s 8ms/step - loss: 0.0860 - accuracy: 0.9670\n",
      "Epoch 41/50\n",
      "480/480 [==============================] - 4s 9ms/step - loss: 0.0854 - accuracy: 0.9672\n",
      "Epoch 42/50\n",
      "480/480 [==============================] - 3s 7ms/step - loss: 0.0819 - accuracy: 0.9687\n",
      "Epoch 43/50\n",
      "480/480 [==============================] - 3s 7ms/step - loss: 0.0762 - accuracy: 0.9711\n",
      "Epoch 44/50\n",
      "480/480 [==============================] - 3s 7ms/step - loss: 0.0791 - accuracy: 0.9705\n",
      "Epoch 45/50\n",
      "480/480 [==============================] - 3s 7ms/step - loss: 0.0724 - accuracy: 0.9720\n",
      "Epoch 46/50\n",
      "480/480 [==============================] - 3s 7ms/step - loss: 0.0803 - accuracy: 0.9699\n",
      "Epoch 47/50\n",
      "480/480 [==============================] - 3s 7ms/step - loss: 0.0674 - accuracy: 0.9737\n",
      "Epoch 48/50\n",
      "480/480 [==============================] - 3s 7ms/step - loss: 0.0660 - accuracy: 0.9753\n",
      "Epoch 49/50\n",
      "480/480 [==============================] - 3s 7ms/step - loss: 0.0731 - accuracy: 0.9720\n",
      "Epoch 50/50\n",
      "480/480 [==============================] - 3s 7ms/step - loss: 0.0690 - accuracy: 0.9741\n"
     ]
    },
    {
     "data": {
      "text/plain": [
       "<keras.callbacks.History at 0x1f6c2625888>"
      ]
     },
     "execution_count": 22,
     "metadata": {},
     "output_type": "execute_result"
    }
   ],
   "source": [
    "model.fit(train_scaled, train_target, epochs=50, batch_size=100)"
   ]
  },
  {
   "cell_type": "code",
   "execution_count": 23,
   "id": "32a68750",
   "metadata": {},
   "outputs": [
    {
     "name": "stdout",
     "output_type": "stream",
     "text": [
      "375/375 [==============================] - 1s 2ms/step - loss: 0.5528 - accuracy: 0.8916\n"
     ]
    },
    {
     "data": {
      "text/plain": [
       "[0.5527626276016235, 0.8915833234786987]"
      ]
     },
     "execution_count": 23,
     "metadata": {},
     "output_type": "execute_result"
    }
   ],
   "source": [
    "model.evaluate(val_scaled, val_target)"
   ]
  },
  {
   "cell_type": "code",
   "execution_count": null,
   "id": "c780b7d9",
   "metadata": {},
   "outputs": [],
   "source": []
  }
 ],
 "metadata": {
  "kernelspec": {
   "display_name": "Python 3 (ipykernel)",
   "language": "python",
   "name": "python3"
  },
  "language_info": {
   "codemirror_mode": {
    "name": "ipython",
    "version": 3
   },
   "file_extension": ".py",
   "mimetype": "text/x-python",
   "name": "python",
   "nbconvert_exporter": "python",
   "pygments_lexer": "ipython3",
   "version": "3.7.13"
  }
 },
 "nbformat": 4,
 "nbformat_minor": 5
}
