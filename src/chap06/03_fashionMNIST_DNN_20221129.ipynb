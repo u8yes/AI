{
 "cells": [
  {
   "cell_type": "code",
   "execution_count": 24,
   "id": "68a2c67b",
   "metadata": {},
   "outputs": [],
   "source": [
    "from tensorflow import keras\n",
    "\n",
    "(train_input, train_target), (test_input, test_target) \\\n",
    "    = keras.datasets.fashion_mnist.load_data()"
   ]
  },
  {
   "cell_type": "code",
   "execution_count": 14,
   "id": "77f6ae74",
   "metadata": {},
   "outputs": [
    {
     "name": "stdout",
     "output_type": "stream",
     "text": [
      "(60000, 28, 28) (60000,) (10000, 28, 28) (10000,)\n"
     ]
    }
   ],
   "source": [
    "print(train_input.shape, train_target.shape, test_input.shape, test_target.shape)"
   ]
  },
  {
   "cell_type": "code",
   "execution_count": 15,
   "id": "9652a621",
   "metadata": {},
   "outputs": [],
   "source": [
    "from sklearn.model_selection import train_test_split\n",
    "\n",
    "train_scaled = train_input / 255.0\n",
    "train_scaled = train_scaled.reshape(-1, 28 * 28)\n",
    "\n",
    "train_scaled, val_scaled, train_target, val_target \\\n",
    "    = train_test_split(train_scaled, train_target, test_size=0.2, random_state=42)"
   ]
  },
  {
   "cell_type": "code",
   "execution_count": 16,
   "id": "9c22c311",
   "metadata": {},
   "outputs": [],
   "source": [
    "dense1 = keras.layers.Dense(units=100, activation='sigmoid', input_shape = (28 * 28,))\n",
    "dense2 = keras.layers.Dense(units=10, activation='softmax')"
   ]
  },
  {
   "cell_type": "code",
   "execution_count": 17,
   "id": "6ed4a714",
   "metadata": {},
   "outputs": [],
   "source": [
    "# 심층 신경망 만들기\n",
    "# 층을 추가하는 다른 방법1\n",
    "model = keras.Sequential([dense1, dense2])"
   ]
  },
  {
   "cell_type": "code",
   "execution_count": 18,
   "id": "4452b700",
   "metadata": {},
   "outputs": [
    {
     "name": "stdout",
     "output_type": "stream",
     "text": [
      "Model: \"sequential_2\"\n",
      "_________________________________________________________________\n",
      " Layer (type)                Output Shape              Param #   \n",
      "=================================================================\n",
      " dense_2 (Dense)             (None, 100)               78500     \n",
      "                                                                 \n",
      " dense_3 (Dense)             (None, 10)                1010      \n",
      "                                                                 \n",
      "=================================================================\n",
      "Total params: 79,510\n",
      "Trainable params: 79,510\n",
      "Non-trainable params: 0\n",
      "_________________________________________________________________\n"
     ]
    }
   ],
   "source": [
    "model.summary()"
   ]
  },
  {
   "cell_type": "code",
   "execution_count": 19,
   "id": "bf5fd6e8",
   "metadata": {},
   "outputs": [],
   "source": [
    "# 층을 추가하는 다른 방법2\n",
    "model = keras.Sequential([\n",
    "    keras.layers.Dense(units=100, activation='sigmoid', input_shape = (28 * 28,), name='hidden'),\n",
    "    keras.layers.Dense(units=10, activation='softmax', name='output')\n",
    "], name='패션 MNIST 모델')"
   ]
  },
  {
   "cell_type": "code",
   "execution_count": 20,
   "id": "c9ef1df4",
   "metadata": {},
   "outputs": [
    {
     "name": "stdout",
     "output_type": "stream",
     "text": [
      "Model: \"패션 MNIST 모델\"\n",
      "_________________________________________________________________\n",
      " Layer (type)                Output Shape              Param #   \n",
      "=================================================================\n",
      " hidden (Dense)              (None, 100)               78500     \n",
      "                                                                 \n",
      " output (Dense)              (None, 10)                1010      \n",
      "                                                                 \n",
      "=================================================================\n",
      "Total params: 79,510\n",
      "Trainable params: 79,510\n",
      "Non-trainable params: 0\n",
      "_________________________________________________________________\n"
     ]
    }
   ],
   "source": [
    "model.summary()"
   ]
  },
  {
   "cell_type": "code",
   "execution_count": 21,
   "id": "01136176",
   "metadata": {},
   "outputs": [],
   "source": [
    "# 층을 추가하는 다른 방법3\n",
    "model = keras.Sequential()\n",
    "model.add(keras.layers.Dense(units=100, activation='sigmoid', input_shape = (28 * 28,), name='hidden'))\n",
    "model.add(keras.layers.Dense(units=10, activation='softmax', name='output'))"
   ]
  },
  {
   "cell_type": "code",
   "execution_count": 22,
   "id": "829bb0d2",
   "metadata": {},
   "outputs": [
    {
     "name": "stdout",
     "output_type": "stream",
     "text": [
      "Model: \"sequential_3\"\n",
      "_________________________________________________________________\n",
      " Layer (type)                Output Shape              Param #   \n",
      "=================================================================\n",
      " hidden (Dense)              (None, 100)               78500     \n",
      "                                                                 \n",
      " output (Dense)              (None, 10)                1010      \n",
      "                                                                 \n",
      "=================================================================\n",
      "Total params: 79,510\n",
      "Trainable params: 79,510\n",
      "Non-trainable params: 0\n",
      "_________________________________________________________________\n"
     ]
    }
   ],
   "source": [
    "model.summary()"
   ]
  },
  {
   "cell_type": "code",
   "execution_count": 23,
   "id": "31f7811e",
   "metadata": {
    "scrolled": true
   },
   "outputs": [
    {
     "name": "stdout",
     "output_type": "stream",
     "text": [
      "Epoch 1/100\n",
      "1500/1500 [==============================] - 2s 1ms/step - loss: 1.3743 - accuracy: 0.6361\n",
      "Epoch 2/100\n",
      "1500/1500 [==============================] - 2s 1ms/step - loss: 0.8477 - accuracy: 0.7380\n",
      "Epoch 3/100\n",
      "1500/1500 [==============================] - 2s 1ms/step - loss: 0.7154 - accuracy: 0.7626\n",
      "Epoch 4/100\n",
      "1500/1500 [==============================] - 2s 1ms/step - loss: 0.6492 - accuracy: 0.7796\n",
      "Epoch 5/100\n",
      "1500/1500 [==============================] - 2s 1ms/step - loss: 0.6066 - accuracy: 0.7923\n",
      "Epoch 6/100\n",
      "1500/1500 [==============================] - 2s 1ms/step - loss: 0.5759 - accuracy: 0.8032\n",
      "Epoch 7/100\n",
      "1500/1500 [==============================] - 1s 995us/step - loss: 0.5523 - accuracy: 0.8103\n",
      "Epoch 8/100\n",
      "1500/1500 [==============================] - 2s 1ms/step - loss: 0.5338 - accuracy: 0.8164\n",
      "Epoch 9/100\n",
      "1500/1500 [==============================] - 2s 1ms/step - loss: 0.5187 - accuracy: 0.8208\n",
      "Epoch 10/100\n",
      "1500/1500 [==============================] - 1s 985us/step - loss: 0.5062 - accuracy: 0.8250\n",
      "Epoch 11/100\n",
      "1500/1500 [==============================] - 1s 984us/step - loss: 0.4957 - accuracy: 0.8287\n",
      "Epoch 12/100\n",
      "1500/1500 [==============================] - 1s 999us/step - loss: 0.4863 - accuracy: 0.8319\n",
      "Epoch 13/100\n",
      "1500/1500 [==============================] - 1s 981us/step - loss: 0.4783 - accuracy: 0.8344\n",
      "Epoch 14/100\n",
      "1500/1500 [==============================] - 1s 997us/step - loss: 0.4708 - accuracy: 0.8367\n",
      "Epoch 15/100\n",
      "1500/1500 [==============================] - 1s 976us/step - loss: 0.4644 - accuracy: 0.8390\n",
      "Epoch 16/100\n",
      "1500/1500 [==============================] - 1s 979us/step - loss: 0.4585 - accuracy: 0.8413\n",
      "Epoch 17/100\n",
      "1500/1500 [==============================] - 1s 992us/step - loss: 0.4531 - accuracy: 0.8426\n",
      "Epoch 18/100\n",
      "1500/1500 [==============================] - 2s 1ms/step - loss: 0.4477 - accuracy: 0.8439\n",
      "Epoch 19/100\n",
      "1500/1500 [==============================] - 1s 999us/step - loss: 0.4435 - accuracy: 0.8457\n",
      "Epoch 20/100\n",
      "1500/1500 [==============================] - 2s 1ms/step - loss: 0.4391 - accuracy: 0.8474\n",
      "Epoch 21/100\n",
      "1500/1500 [==============================] - 2s 1ms/step - loss: 0.4353 - accuracy: 0.8476\n",
      "Epoch 22/100\n",
      "1500/1500 [==============================] - 1s 984us/step - loss: 0.4311 - accuracy: 0.8499\n",
      "Epoch 23/100\n",
      "1500/1500 [==============================] - 2s 1ms/step - loss: 0.4279 - accuracy: 0.8501\n",
      "Epoch 24/100\n",
      "1500/1500 [==============================] - 1s 980us/step - loss: 0.4247 - accuracy: 0.8513\n",
      "Epoch 25/100\n",
      "1500/1500 [==============================] - 1s 978us/step - loss: 0.4213 - accuracy: 0.8524\n",
      "Epoch 26/100\n",
      "1500/1500 [==============================] - 1s 979us/step - loss: 0.4183 - accuracy: 0.8532\n",
      "Epoch 27/100\n",
      "1500/1500 [==============================] - 2s 1ms/step - loss: 0.4153 - accuracy: 0.8551\n",
      "Epoch 28/100\n",
      "1500/1500 [==============================] - 2s 1ms/step - loss: 0.4128 - accuracy: 0.8557\n",
      "Epoch 29/100\n",
      "1500/1500 [==============================] - 2s 1ms/step - loss: 0.4101 - accuracy: 0.8565\n",
      "Epoch 30/100\n",
      "1500/1500 [==============================] - 2s 1ms/step - loss: 0.4075 - accuracy: 0.8571\n",
      "Epoch 31/100\n",
      "1500/1500 [==============================] - 2s 1ms/step - loss: 0.4054 - accuracy: 0.8581\n",
      "Epoch 32/100\n",
      "1500/1500 [==============================] - 2s 1ms/step - loss: 0.4029 - accuracy: 0.8585\n",
      "Epoch 33/100\n",
      "1500/1500 [==============================] - 2s 1ms/step - loss: 0.4010 - accuracy: 0.8592\n",
      "Epoch 34/100\n",
      "1500/1500 [==============================] - 2s 1ms/step - loss: 0.3988 - accuracy: 0.8606\n",
      "Epoch 35/100\n",
      "1500/1500 [==============================] - 2s 1ms/step - loss: 0.3968 - accuracy: 0.8602\n",
      "Epoch 36/100\n",
      "1500/1500 [==============================] - 1s 987us/step - loss: 0.3947 - accuracy: 0.8611\n",
      "Epoch 37/100\n",
      "1500/1500 [==============================] - 2s 1ms/step - loss: 0.3926 - accuracy: 0.8627\n",
      "Epoch 38/100\n",
      "1500/1500 [==============================] - 2s 1ms/step - loss: 0.3913 - accuracy: 0.8627\n",
      "Epoch 39/100\n",
      "1500/1500 [==============================] - 2s 1ms/step - loss: 0.3893 - accuracy: 0.8634\n",
      "Epoch 40/100\n",
      "1500/1500 [==============================] - 2s 1ms/step - loss: 0.3878 - accuracy: 0.8636\n",
      "Epoch 41/100\n",
      "1500/1500 [==============================] - 2s 1ms/step - loss: 0.3857 - accuracy: 0.8640\n",
      "Epoch 42/100\n",
      "1500/1500 [==============================] - 2s 1ms/step - loss: 0.3840 - accuracy: 0.8652\n",
      "Epoch 43/100\n",
      "1500/1500 [==============================] - 2s 1ms/step - loss: 0.3827 - accuracy: 0.8656\n",
      "Epoch 44/100\n",
      "1500/1500 [==============================] - 2s 1ms/step - loss: 0.3810 - accuracy: 0.8657\n",
      "Epoch 45/100\n",
      "1500/1500 [==============================] - 2s 1ms/step - loss: 0.3794 - accuracy: 0.8668\n",
      "Epoch 46/100\n",
      "1500/1500 [==============================] - 2s 1ms/step - loss: 0.3783 - accuracy: 0.8660\n",
      "Epoch 47/100\n",
      "1500/1500 [==============================] - 2s 2ms/step - loss: 0.3763 - accuracy: 0.8668\n",
      "Epoch 48/100\n",
      "1500/1500 [==============================] - 2s 1ms/step - loss: 0.3755 - accuracy: 0.8677\n",
      "Epoch 49/100\n",
      "1500/1500 [==============================] - 2s 1ms/step - loss: 0.3737 - accuracy: 0.8680\n",
      "Epoch 50/100\n",
      "1500/1500 [==============================] - 2s 1ms/step - loss: 0.3724 - accuracy: 0.8683\n",
      "Epoch 51/100\n",
      "1500/1500 [==============================] - 2s 2ms/step - loss: 0.3712 - accuracy: 0.8694\n",
      "Epoch 52/100\n",
      "1500/1500 [==============================] - 2s 1ms/step - loss: 0.3696 - accuracy: 0.8690\n",
      "Epoch 53/100\n",
      "1500/1500 [==============================] - 2s 1ms/step - loss: 0.3686 - accuracy: 0.8697\n",
      "Epoch 54/100\n",
      "1500/1500 [==============================] - 2s 1ms/step - loss: 0.3671 - accuracy: 0.8696\n",
      "Epoch 55/100\n",
      "1500/1500 [==============================] - 2s 1ms/step - loss: 0.3660 - accuracy: 0.8709\n",
      "Epoch 56/100\n",
      "1500/1500 [==============================] - 2s 1ms/step - loss: 0.3647 - accuracy: 0.8716\n",
      "Epoch 57/100\n",
      "1500/1500 [==============================] - 2s 1ms/step - loss: 0.3637 - accuracy: 0.8717\n",
      "Epoch 58/100\n",
      "1500/1500 [==============================] - 2s 1ms/step - loss: 0.3626 - accuracy: 0.8722\n",
      "Epoch 59/100\n",
      "1500/1500 [==============================] - 2s 1ms/step - loss: 0.3614 - accuracy: 0.8719\n",
      "Epoch 60/100\n",
      "1500/1500 [==============================] - 2s 1ms/step - loss: 0.3600 - accuracy: 0.8732\n",
      "Epoch 61/100\n",
      "1500/1500 [==============================] - 2s 1ms/step - loss: 0.3591 - accuracy: 0.8730\n",
      "Epoch 62/100\n",
      "1500/1500 [==============================] - 2s 1ms/step - loss: 0.3578 - accuracy: 0.8736\n",
      "Epoch 63/100\n",
      "1500/1500 [==============================] - 2s 1ms/step - loss: 0.3570 - accuracy: 0.8740\n",
      "Epoch 64/100\n",
      "1500/1500 [==============================] - 2s 1ms/step - loss: 0.3559 - accuracy: 0.8735\n",
      "Epoch 65/100\n",
      "1500/1500 [==============================] - 2s 1ms/step - loss: 0.3545 - accuracy: 0.8743\n",
      "Epoch 66/100\n",
      "1500/1500 [==============================] - 2s 1ms/step - loss: 0.3538 - accuracy: 0.8739\n",
      "Epoch 67/100\n",
      "1500/1500 [==============================] - 2s 1ms/step - loss: 0.3526 - accuracy: 0.8745\n",
      "Epoch 68/100\n",
      "1500/1500 [==============================] - 2s 1ms/step - loss: 0.3514 - accuracy: 0.8750\n",
      "Epoch 69/100\n",
      "1500/1500 [==============================] - 2s 1ms/step - loss: 0.3507 - accuracy: 0.8756\n",
      "Epoch 70/100\n",
      "1500/1500 [==============================] - 2s 1ms/step - loss: 0.3496 - accuracy: 0.8758\n",
      "Epoch 71/100\n",
      "1500/1500 [==============================] - 2s 2ms/step - loss: 0.3489 - accuracy: 0.8764\n",
      "Epoch 72/100\n",
      "1500/1500 [==============================] - 2s 1ms/step - loss: 0.3477 - accuracy: 0.8761\n",
      "Epoch 73/100\n",
      "1500/1500 [==============================] - 2s 1ms/step - loss: 0.3468 - accuracy: 0.8770\n",
      "Epoch 74/100\n",
      "1500/1500 [==============================] - 2s 1ms/step - loss: 0.3457 - accuracy: 0.8776\n",
      "Epoch 75/100\n",
      "1500/1500 [==============================] - 2s 1ms/step - loss: 0.3449 - accuracy: 0.8769\n",
      "Epoch 76/100\n",
      "1500/1500 [==============================] - 2s 1ms/step - loss: 0.3439 - accuracy: 0.8774\n",
      "Epoch 77/100\n",
      "1500/1500 [==============================] - 5s 3ms/step - loss: 0.3429 - accuracy: 0.8781\n",
      "Epoch 78/100\n",
      "1500/1500 [==============================] - 2s 1ms/step - loss: 0.3422 - accuracy: 0.8777\n",
      "Epoch 79/100\n"
     ]
    },
    {
     "name": "stdout",
     "output_type": "stream",
     "text": [
      "1500/1500 [==============================] - 2s 1ms/step - loss: 0.3412 - accuracy: 0.8785\n",
      "Epoch 80/100\n",
      "1500/1500 [==============================] - 2s 1ms/step - loss: 0.3403 - accuracy: 0.8784\n",
      "Epoch 81/100\n",
      "1500/1500 [==============================] - 1s 992us/step - loss: 0.3392 - accuracy: 0.8789\n",
      "Epoch 82/100\n",
      "1500/1500 [==============================] - 2s 1ms/step - loss: 0.3383 - accuracy: 0.8792\n",
      "Epoch 83/100\n",
      "1500/1500 [==============================] - 2s 1ms/step - loss: 0.3380 - accuracy: 0.8804\n",
      "Epoch 84/100\n",
      "1500/1500 [==============================] - 2s 1ms/step - loss: 0.3370 - accuracy: 0.8800\n",
      "Epoch 85/100\n",
      "1500/1500 [==============================] - 2s 1ms/step - loss: 0.3360 - accuracy: 0.8808\n",
      "Epoch 86/100\n",
      "1500/1500 [==============================] - 2s 1ms/step - loss: 0.3354 - accuracy: 0.8803\n",
      "Epoch 87/100\n",
      "1500/1500 [==============================] - 2s 1ms/step - loss: 0.3344 - accuracy: 0.8810\n",
      "Epoch 88/100\n",
      "1500/1500 [==============================] - 2s 2ms/step - loss: 0.3336 - accuracy: 0.8811\n",
      "Epoch 89/100\n",
      "1500/1500 [==============================] - 2s 1ms/step - loss: 0.3330 - accuracy: 0.8814\n",
      "Epoch 90/100\n",
      "1500/1500 [==============================] - 2s 1ms/step - loss: 0.3319 - accuracy: 0.8814\n",
      "Epoch 91/100\n",
      "1500/1500 [==============================] - 2s 1ms/step - loss: 0.3315 - accuracy: 0.8814\n",
      "Epoch 92/100\n",
      "1500/1500 [==============================] - 2s 1ms/step - loss: 0.3303 - accuracy: 0.8819\n",
      "Epoch 93/100\n",
      "1500/1500 [==============================] - 2s 1ms/step - loss: 0.3294 - accuracy: 0.8820\n",
      "Epoch 94/100\n",
      "1500/1500 [==============================] - 2s 1ms/step - loss: 0.3286 - accuracy: 0.8824\n",
      "Epoch 95/100\n",
      "1500/1500 [==============================] - 2s 1ms/step - loss: 0.3280 - accuracy: 0.8835\n",
      "Epoch 96/100\n",
      "1500/1500 [==============================] - 2s 1ms/step - loss: 0.3274 - accuracy: 0.8831\n",
      "Epoch 97/100\n",
      "1500/1500 [==============================] - 2s 1ms/step - loss: 0.3264 - accuracy: 0.8833\n",
      "Epoch 98/100\n",
      "1500/1500 [==============================] - 4s 3ms/step - loss: 0.3258 - accuracy: 0.8840\n",
      "Epoch 99/100\n",
      "1500/1500 [==============================] - 3s 2ms/step - loss: 0.3251 - accuracy: 0.8838\n",
      "Epoch 100/100\n",
      "1500/1500 [==============================] - 2s 1ms/step - loss: 0.3243 - accuracy: 0.8842\n"
     ]
    },
    {
     "data": {
      "text/plain": [
       "<keras.callbacks.History at 0x159d1363048>"
      ]
     },
     "execution_count": 23,
     "metadata": {},
     "output_type": "execute_result"
    }
   ],
   "source": [
    "model.compile(optimizer='sgd', loss='sparse_categorical_crossentropy', metrics='accuracy')\n",
    "\n",
    "model.fit(train_scaled, train_target, epochs=100)"
   ]
  },
  {
   "cell_type": "code",
   "execution_count": 54,
   "id": "09a117bd",
   "metadata": {},
   "outputs": [],
   "source": [
    "model = keras.Sequential()\n",
    "model.add(keras.layers.Flatten(input_shape=(28, 28)))\n",
    "model.add(keras.layers.Dense(units=100, activation='relu'))\n",
    "model.add(keras.layers.Dense(units=10, activation='softmax'))"
   ]
  },
  {
   "cell_type": "code",
   "execution_count": 55,
   "id": "11422856",
   "metadata": {},
   "outputs": [
    {
     "name": "stdout",
     "output_type": "stream",
     "text": [
      "Model: \"sequential_8\"\n",
      "_________________________________________________________________\n",
      " Layer (type)                Output Shape              Param #   \n",
      "=================================================================\n",
      " flatten_3 (Flatten)         (None, 784)               0         \n",
      "                                                                 \n",
      " dense_12 (Dense)            (None, 100)               78500     \n",
      "                                                                 \n",
      " dense_13 (Dense)            (None, 10)                1010      \n",
      "                                                                 \n",
      "=================================================================\n",
      "Total params: 79,510\n",
      "Trainable params: 79,510\n",
      "Non-trainable params: 0\n",
      "_________________________________________________________________\n"
     ]
    }
   ],
   "source": [
    "model.summary()"
   ]
  },
  {
   "cell_type": "code",
   "execution_count": 56,
   "id": "6de0c54a",
   "metadata": {},
   "outputs": [],
   "source": [
    "from sklearn.model_selection import train_test_split\n",
    "\n",
    "(train_input, train_target), (test_input, test_target) \\\n",
    "    = keras.datasets.fashion_mnist.load_data()\n",
    "\n",
    "train_scaled = train_input / 255.0\n",
    "\n",
    "train_scaled, val_scaled, train_target, val_target \\\n",
    "    = train_test_split(train_scaled, train_target, test_size=0.2, random_state=42)"
   ]
  },
  {
   "cell_type": "code",
   "execution_count": null,
   "id": "e122ecdd",
   "metadata": {
    "scrolled": true
   },
   "outputs": [
    {
     "name": "stdout",
     "output_type": "stream",
     "text": [
      "Epoch 1/50\n",
      "1500/1500 [==============================] - 11s 7ms/step - loss: 0.0428 - accuracy: 0.9868\n",
      "Epoch 2/50\n",
      "1500/1500 [==============================] - 12s 8ms/step - loss: 0.0430 - accuracy: 0.9867\n",
      "Epoch 3/50\n",
      "1500/1500 [==============================] - 12s 8ms/step - loss: 0.0426 - accuracy: 0.9866\n",
      "Epoch 4/50\n",
      "1500/1500 [==============================] - 13s 9ms/step - loss: 0.0428 - accuracy: 0.9868\n",
      "Epoch 5/50\n",
      "1500/1500 [==============================] - 13s 8ms/step - loss: 0.0426 - accuracy: 0.9868\n",
      "Epoch 6/50\n",
      "1500/1500 [==============================] - 14s 10ms/step - loss: 0.0423 - accuracy: 0.9868\n",
      "Epoch 7/50\n",
      "1500/1500 [==============================] - 14s 9ms/step - loss: 0.0423 - accuracy: 0.9869\n",
      "Epoch 8/50\n",
      "1500/1500 [==============================] - 13s 9ms/step - loss: 0.0421 - accuracy: 0.9868\n",
      "Epoch 9/50\n",
      "1500/1500 [==============================] - 13s 9ms/step - loss: 0.0421 - accuracy: 0.9869\n",
      "Epoch 10/50\n",
      "1500/1500 [==============================] - 12s 8ms/step - loss: 0.0417 - accuracy: 0.9868\n",
      "Epoch 11/50\n",
      "1500/1500 [==============================] - 15s 10ms/step - loss: 0.0417 - accuracy: 0.9872\n",
      "Epoch 12/50\n",
      "1500/1500 [==============================] - 14s 9ms/step - loss: 0.0417 - accuracy: 0.9871\n",
      "Epoch 13/50\n",
      "1467/1500 [============================>.] - ETA: 0s - loss: 0.0415 - accuracy: 0.9875"
     ]
    }
   ],
   "source": [
    "model.compile(optimizer='sgd', loss='sparse_categorical_crossentropy', metrics='accuracy')\n",
    "\n",
    "model.fit(train_scaled, train_target, epochs=50)"
   ]
  },
  {
   "cell_type": "code",
   "execution_count": 59,
   "id": "065c495e",
   "metadata": {},
   "outputs": [
    {
     "name": "stdout",
     "output_type": "stream",
     "text": [
      "375/375 [==============================] - 1s 928us/step - loss: 0.3285 - accuracy: 0.8837\n"
     ]
    },
    {
     "data": {
      "text/plain": [
       "[0.32853275537490845, 0.8836666941642761]"
      ]
     },
     "execution_count": 59,
     "metadata": {},
     "output_type": "execute_result"
    }
   ],
   "source": [
    "model.evaluate(val_scaled, val_target)"
   ]
  },
  {
   "cell_type": "markdown",
   "id": "c156e27c",
   "metadata": {},
   "source": [
    "# 옵티마이저"
   ]
  },
  {
   "cell_type": "code",
   "execution_count": 30,
   "id": "dae7827d",
   "metadata": {},
   "outputs": [],
   "source": [
    "model.compile(optimizer='sgd', loss='sparse_categorical_crossentropy', metrics='accuracy')"
   ]
  },
  {
   "cell_type": "code",
   "execution_count": 31,
   "id": "b0f7f557",
   "metadata": {},
   "outputs": [],
   "source": [
    "sgd = keras.optimizers.SGD(learning_rate=0.1)\n",
    "\n",
    "model.compile(optimizer=sgd, loss='sparse_categorical_crossentropy', metrics='accuracy')"
   ]
  },
  {
   "cell_type": "code",
   "execution_count": 32,
   "id": "ef13f202",
   "metadata": {},
   "outputs": [],
   "source": [
    "sgd = keras.optimizers.SGD(momentum=0.9)"
   ]
  },
  {
   "cell_type": "code",
   "execution_count": 33,
   "id": "1a6ad462",
   "metadata": {},
   "outputs": [],
   "source": [
    "adagrad = keras.optimizers.Adagrad()\n",
    "model.compile(optimizer=adagrad, loss='sparse_categorical_crossentropy', metrics='accuracy')"
   ]
  },
  {
   "cell_type": "code",
   "execution_count": 34,
   "id": "403190e4",
   "metadata": {},
   "outputs": [],
   "source": [
    "rmsprop = keras.optimizers.RMSprop()\n",
    "model.compile(optimizer=rmsprop, loss='sparse_categorical_crossentropy', metrics='accuracy')"
   ]
  },
  {
   "cell_type": "code",
   "execution_count": 35,
   "id": "95abfe4b",
   "metadata": {},
   "outputs": [],
   "source": [
    "model = keras.Sequential()\n",
    "model.add(keras.layers.Flatten(input_shape=(28, 28)))\n",
    "model.add(keras.layers.Dense(units=100, activation='relu'))\n",
    "model.add(keras.layers.Dense(units=10, activation='softmax'))"
   ]
  },
  {
   "cell_type": "code",
   "execution_count": 66,
   "id": "17dbc116",
   "metadata": {
    "scrolled": true
   },
   "outputs": [
    {
     "name": "stdout",
     "output_type": "stream",
     "text": [
      "Epoch 1/50\n",
      "1500/1500 [==============================] - 2s 1ms/step - loss: 0.5162 - accuracy: 0.8200\n",
      "Epoch 2/50\n",
      "1500/1500 [==============================] - 2s 1ms/step - loss: 0.3883 - accuracy: 0.8608\n",
      "Epoch 3/50\n",
      "1500/1500 [==============================] - 2s 1ms/step - loss: 0.3490 - accuracy: 0.8724\n",
      "Epoch 4/50\n",
      "1500/1500 [==============================] - 2s 1ms/step - loss: 0.3243 - accuracy: 0.8815\n",
      "Epoch 5/50\n",
      "1500/1500 [==============================] - 2s 1ms/step - loss: 0.3058 - accuracy: 0.8886\n",
      "Epoch 6/50\n",
      "1500/1500 [==============================] - 2s 1ms/step - loss: 0.2898 - accuracy: 0.8934\n",
      "Epoch 7/50\n",
      "1500/1500 [==============================] - 2s 1ms/step - loss: 0.2784 - accuracy: 0.8980\n",
      "Epoch 8/50\n",
      "1500/1500 [==============================] - 2s 1ms/step - loss: 0.2657 - accuracy: 0.9019\n",
      "Epoch 9/50\n",
      "1500/1500 [==============================] - 2s 1ms/step - loss: 0.2560 - accuracy: 0.9048\n",
      "Epoch 10/50\n",
      "1500/1500 [==============================] - 2s 1ms/step - loss: 0.2478 - accuracy: 0.9090\n",
      "Epoch 11/50\n",
      "1500/1500 [==============================] - 2s 1ms/step - loss: 0.2404 - accuracy: 0.9111\n",
      "Epoch 12/50\n",
      "1500/1500 [==============================] - 2s 1ms/step - loss: 0.2325 - accuracy: 0.9132\n",
      "Epoch 13/50\n",
      "1500/1500 [==============================] - 2s 1ms/step - loss: 0.2241 - accuracy: 0.9163\n",
      "Epoch 14/50\n",
      "1500/1500 [==============================] - 2s 1ms/step - loss: 0.2205 - accuracy: 0.9189\n",
      "Epoch 15/50\n",
      "1500/1500 [==============================] - 2s 1ms/step - loss: 0.2130 - accuracy: 0.9203\n",
      "Epoch 16/50\n",
      "1500/1500 [==============================] - 2s 1ms/step - loss: 0.2070 - accuracy: 0.9236\n",
      "Epoch 17/50\n",
      "1500/1500 [==============================] - 2s 1ms/step - loss: 0.2009 - accuracy: 0.9243\n",
      "Epoch 18/50\n",
      "1500/1500 [==============================] - 2s 1ms/step - loss: 0.1954 - accuracy: 0.9273\n",
      "Epoch 19/50\n",
      "1500/1500 [==============================] - 2s 1ms/step - loss: 0.1902 - accuracy: 0.9286\n",
      "Epoch 20/50\n",
      "1500/1500 [==============================] - 2s 1ms/step - loss: 0.1869 - accuracy: 0.9289\n",
      "Epoch 21/50\n",
      "1500/1500 [==============================] - 2s 1ms/step - loss: 0.1816 - accuracy: 0.9327\n",
      "Epoch 22/50\n",
      "1500/1500 [==============================] - 2s 1ms/step - loss: 0.1767 - accuracy: 0.9335\n",
      "Epoch 23/50\n",
      "1500/1500 [==============================] - 2s 1ms/step - loss: 0.1722 - accuracy: 0.9354\n",
      "Epoch 24/50\n",
      "1500/1500 [==============================] - 2s 1ms/step - loss: 0.1687 - accuracy: 0.9378\n",
      "Epoch 25/50\n",
      "1500/1500 [==============================] - 2s 1ms/step - loss: 0.1640 - accuracy: 0.9389\n",
      "Epoch 26/50\n",
      "1500/1500 [==============================] - 2s 1ms/step - loss: 0.1618 - accuracy: 0.9400\n",
      "Epoch 27/50\n",
      "1500/1500 [==============================] - 2s 1ms/step - loss: 0.1581 - accuracy: 0.9415\n",
      "Epoch 28/50\n",
      "1500/1500 [==============================] - 2s 1ms/step - loss: 0.1561 - accuracy: 0.9421\n",
      "Epoch 29/50\n",
      "1500/1500 [==============================] - 2s 1ms/step - loss: 0.1505 - accuracy: 0.9439\n",
      "Epoch 30/50\n",
      "1500/1500 [==============================] - 2s 1ms/step - loss: 0.1489 - accuracy: 0.9445\n",
      "Epoch 31/50\n",
      "1500/1500 [==============================] - 2s 1ms/step - loss: 0.1447 - accuracy: 0.9464\n",
      "Epoch 32/50\n",
      "1500/1500 [==============================] - 2s 1ms/step - loss: 0.1414 - accuracy: 0.9467\n",
      "Epoch 33/50\n",
      "1500/1500 [==============================] - 2s 1ms/step - loss: 0.1421 - accuracy: 0.9459\n",
      "Epoch 34/50\n",
      "1500/1500 [==============================] - 2s 1ms/step - loss: 0.1371 - accuracy: 0.9495\n",
      "Epoch 35/50\n",
      "1500/1500 [==============================] - 2s 1ms/step - loss: 0.1346 - accuracy: 0.9497\n",
      "Epoch 36/50\n",
      "1500/1500 [==============================] - 2s 1ms/step - loss: 0.1304 - accuracy: 0.9514\n",
      "Epoch 37/50\n",
      "1500/1500 [==============================] - 2s 1ms/step - loss: 0.1311 - accuracy: 0.9504\n",
      "Epoch 38/50\n",
      "1500/1500 [==============================] - 2s 1ms/step - loss: 0.1261 - accuracy: 0.9523\n",
      "Epoch 39/50\n",
      "1500/1500 [==============================] - 2s 1ms/step - loss: 0.1258 - accuracy: 0.9526\n",
      "Epoch 40/50\n",
      "1500/1500 [==============================] - 2s 1ms/step - loss: 0.1211 - accuracy: 0.9559\n",
      "Epoch 41/50\n",
      "1500/1500 [==============================] - 2s 1ms/step - loss: 0.1192 - accuracy: 0.9559\n",
      "Epoch 42/50\n",
      "1500/1500 [==============================] - 2s 1ms/step - loss: 0.1179 - accuracy: 0.9556\n",
      "Epoch 43/50\n",
      "1500/1500 [==============================] - 3s 2ms/step - loss: 0.1136 - accuracy: 0.9572\n",
      "Epoch 44/50\n",
      "1500/1500 [==============================] - 2s 1ms/step - loss: 0.1132 - accuracy: 0.9585\n",
      "Epoch 45/50\n",
      "1500/1500 [==============================] - 2s 1ms/step - loss: 0.1107 - accuracy: 0.9581\n",
      "Epoch 46/50\n",
      "1500/1500 [==============================] - 2s 1ms/step - loss: 0.1126 - accuracy: 0.9579\n",
      "Epoch 47/50\n",
      "1500/1500 [==============================] - 2s 1ms/step - loss: 0.1084 - accuracy: 0.9596\n",
      "Epoch 48/50\n",
      "1500/1500 [==============================] - 2s 1ms/step - loss: 0.1048 - accuracy: 0.9611\n",
      "Epoch 49/50\n",
      "1500/1500 [==============================] - 2s 1ms/step - loss: 0.1047 - accuracy: 0.9610\n",
      "Epoch 50/50\n",
      "1500/1500 [==============================] - 2s 1ms/step - loss: 0.1018 - accuracy: 0.9619\n"
     ]
    },
    {
     "data": {
      "text/plain": [
       "<keras.callbacks.History at 0x22ae89e8488>"
      ]
     },
     "execution_count": 66,
     "metadata": {},
     "output_type": "execute_result"
    }
   ],
   "source": [
    "# adam = keras.optimizers.Adam()\n",
    "\n",
    "model.compile(optimizer='adam', loss='sparse_categorical_crossentropy', metrics='accuracy')\n",
    "\n",
    "model.fit(train_scaled, train_target, epochs=50)"
   ]
  },
  {
   "cell_type": "code",
   "execution_count": 69,
   "id": "8db5e811",
   "metadata": {},
   "outputs": [
    {
     "name": "stdout",
     "output_type": "stream",
     "text": [
      "375/375 [==============================] - 1s 4ms/step - loss: 0.5525 - accuracy: 0.8892\n"
     ]
    },
    {
     "data": {
      "text/plain": [
       "[0.5524566769599915, 0.8892499804496765]"
      ]
     },
     "execution_count": 69,
     "metadata": {},
     "output_type": "execute_result"
    }
   ],
   "source": [
    "model.evaluate(val_scaled, val_target)"
   ]
  },
  {
   "cell_type": "code",
   "execution_count": null,
   "id": "adcdba92",
   "metadata": {},
   "outputs": [],
   "source": []
  }
 ],
 "metadata": {
  "kernelspec": {
   "display_name": "Python 3 (ipykernel)",
   "language": "python",
   "name": "python3"
  },
  "language_info": {
   "codemirror_mode": {
    "name": "ipython",
    "version": 3
   },
   "file_extension": ".py",
   "mimetype": "text/x-python",
   "name": "python",
   "nbconvert_exporter": "python",
   "pygments_lexer": "ipython3",
   "version": "3.7.13"
  }
 },
 "nbformat": 4,
 "nbformat_minor": 5
}
