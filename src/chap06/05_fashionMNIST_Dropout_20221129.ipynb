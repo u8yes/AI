{
 "cells": [
  {
   "cell_type": "code",
   "execution_count": 2,
   "id": "a34449bf",
   "metadata": {},
   "outputs": [],
   "source": [
    "from tensorflow import keras\n",
    "\n",
    "(train_input, train_target), (test_input, test_target) \\\n",
    "    = keras.datasets.fashion_mnist.load_data()"
   ]
  },
  {
   "cell_type": "code",
   "execution_count": 3,
   "id": "6dd80aa4",
   "metadata": {},
   "outputs": [
    {
     "name": "stdout",
     "output_type": "stream",
     "text": [
      "(60000, 28, 28) (60000,) (10000, 28, 28) (10000,)\n"
     ]
    }
   ],
   "source": [
    "print(train_input.shape, train_target.shape, test_input.shape, test_target.shape)"
   ]
  },
  {
   "cell_type": "code",
   "execution_count": 4,
   "id": "7af75fb8",
   "metadata": {},
   "outputs": [],
   "source": [
    "from sklearn.model_selection import train_test_split\n",
    "\n",
    "train_scaled = train_input / 255.0\n",
    "train_scaled = train_scaled.reshape(-1, 28 * 28)\n",
    "\n",
    "train_scaled, val_scaled, train_target, val_target \\\n",
    "    = train_test_split(train_scaled, train_target, test_size=0.2, random_state=42)"
   ]
  },
  {
   "cell_type": "code",
   "execution_count": 5,
   "id": "00c16f96",
   "metadata": {},
   "outputs": [],
   "source": [
    "model = keras.Sequential()\n",
    "model.add(keras.layers.Dense(units=512, activation='relu', \\\n",
    "                             input_shape=(28*28,), \\\n",
    "                             kernel_initializer='glorot_normal')) # api에서 제공해주는 것을 kernel이라고 함.\n",
    "model.add(keras.layers.Dropout(0.3)) # 현재 유닛에 30%를 dropout해버림. 70% 데이터만 사용함.\n",
    "model.add(keras.layers.Dense(units=512, activation='relu', \\\n",
    "                             kernel_initializer='glorot_normal'))\n",
    "model.add(keras.layers.Dropout(0.3))\n",
    "model.add(keras.layers.Dense(units=512, activation='relu', \\\n",
    "                             kernel_initializer='glorot_normal'))\n",
    "model.add(keras.layers.Dropout(0.3))\n",
    "model.add(keras.layers.Dense(units=512, activation='relu', \\\n",
    "                             kernel_initializer='glorot_normal'))\n",
    "model.add(keras.layers.Dropout(0.3))\n",
    "model.add(keras.layers.Dense(units=10, activation='softmax', \\\n",
    "                             kernel_initializer='glorot_normal'))"
   ]
  },
  {
   "cell_type": "code",
   "execution_count": 6,
   "id": "6a112382",
   "metadata": {},
   "outputs": [],
   "source": [
    "model.compile(optimizer=keras.optimizers.Adam(learning_rate=0.001), loss='sparse_categorical_crossentropy', metrics='accuracy')"
   ]
  },
  {
   "cell_type": "code",
   "execution_count": 7,
   "id": "cc982630",
   "metadata": {},
   "outputs": [
    {
     "name": "stdout",
     "output_type": "stream",
     "text": [
      "Model: \"sequential\"\n",
      "_________________________________________________________________\n",
      " Layer (type)                Output Shape              Param #   \n",
      "=================================================================\n",
      " dense (Dense)               (None, 512)               401920    \n",
      "                                                                 \n",
      " dropout (Dropout)           (None, 512)               0         \n",
      "                                                                 \n",
      " dense_1 (Dense)             (None, 512)               262656    \n",
      "                                                                 \n",
      " dropout_1 (Dropout)         (None, 512)               0         \n",
      "                                                                 \n",
      " dense_2 (Dense)             (None, 512)               262656    \n",
      "                                                                 \n",
      " dropout_2 (Dropout)         (None, 512)               0         \n",
      "                                                                 \n",
      " dense_3 (Dense)             (None, 512)               262656    \n",
      "                                                                 \n",
      " dropout_3 (Dropout)         (None, 512)               0         \n",
      "                                                                 \n",
      " dense_4 (Dense)             (None, 10)                5130      \n",
      "                                                                 \n",
      "=================================================================\n",
      "Total params: 1,195,018\n",
      "Trainable params: 1,195,018\n",
      "Non-trainable params: 0\n",
      "_________________________________________________________________\n"
     ]
    }
   ],
   "source": [
    "model.summary()"
   ]
  },
  {
   "cell_type": "code",
   "execution_count": 8,
   "id": "b601c132",
   "metadata": {
    "scrolled": true
   },
   "outputs": [
    {
     "name": "stdout",
     "output_type": "stream",
     "text": [
      "Epoch 1/50\n",
      "480/480 [==============================] - 5s 9ms/step - loss: 0.6220 - accuracy: 0.7739\n",
      "Epoch 2/50\n",
      "480/480 [==============================] - 4s 9ms/step - loss: 0.4519 - accuracy: 0.8378\n",
      "Epoch 3/50\n",
      "480/480 [==============================] - 4s 9ms/step - loss: 0.4191 - accuracy: 0.8494\n",
      "Epoch 4/50\n",
      "480/480 [==============================] - 4s 9ms/step - loss: 0.3884 - accuracy: 0.8610\n",
      "Epoch 5/50\n",
      "480/480 [==============================] - 4s 9ms/step - loss: 0.3736 - accuracy: 0.8640\n",
      "Epoch 6/50\n",
      "480/480 [==============================] - 4s 9ms/step - loss: 0.3603 - accuracy: 0.8696\n",
      "Epoch 7/50\n",
      "480/480 [==============================] - 5s 11ms/step - loss: 0.3507 - accuracy: 0.8733\n",
      "Epoch 8/50\n",
      "480/480 [==============================] - 5s 11ms/step - loss: 0.3433 - accuracy: 0.8750\n",
      "Epoch 9/50\n",
      "480/480 [==============================] - 6s 12ms/step - loss: 0.3338 - accuracy: 0.8780\n",
      "Epoch 10/50\n",
      "480/480 [==============================] - 6s 13ms/step - loss: 0.3277 - accuracy: 0.8807\n",
      "Epoch 11/50\n",
      "480/480 [==============================] - 6s 12ms/step - loss: 0.3187 - accuracy: 0.8848\n",
      "Epoch 12/50\n",
      "480/480 [==============================] - 7s 14ms/step - loss: 0.3173 - accuracy: 0.8854\n",
      "Epoch 13/50\n",
      "480/480 [==============================] - 8s 16ms/step - loss: 0.3082 - accuracy: 0.8861\n",
      "Epoch 14/50\n",
      "480/480 [==============================] - 7s 15ms/step - loss: 0.3020 - accuracy: 0.8911\n",
      "Epoch 15/50\n",
      "480/480 [==============================] - 6s 12ms/step - loss: 0.2996 - accuracy: 0.8916\n",
      "Epoch 16/50\n",
      "480/480 [==============================] - 4s 9ms/step - loss: 0.2956 - accuracy: 0.8914\n",
      "Epoch 17/50\n",
      "480/480 [==============================] - 5s 10ms/step - loss: 0.2938 - accuracy: 0.8923\n",
      "Epoch 18/50\n",
      "480/480 [==============================] - 4s 9ms/step - loss: 0.2901 - accuracy: 0.8957\n",
      "Epoch 19/50\n",
      "480/480 [==============================] - 4s 9ms/step - loss: 0.2870 - accuracy: 0.8957\n",
      "Epoch 20/50\n",
      "480/480 [==============================] - 4s 9ms/step - loss: 0.2866 - accuracy: 0.8962\n",
      "Epoch 21/50\n",
      "480/480 [==============================] - 4s 9ms/step - loss: 0.2822 - accuracy: 0.8972\n",
      "Epoch 22/50\n",
      "480/480 [==============================] - 4s 9ms/step - loss: 0.2758 - accuracy: 0.8992\n",
      "Epoch 23/50\n",
      "480/480 [==============================] - 4s 8ms/step - loss: 0.2742 - accuracy: 0.8999\n",
      "Epoch 24/50\n",
      "480/480 [==============================] - 4s 8ms/step - loss: 0.2731 - accuracy: 0.9007\n",
      "Epoch 25/50\n",
      "480/480 [==============================] - 4s 8ms/step - loss: 0.2663 - accuracy: 0.9026\n",
      "Epoch 26/50\n",
      "480/480 [==============================] - 4s 8ms/step - loss: 0.2672 - accuracy: 0.9023\n",
      "Epoch 27/50\n",
      "480/480 [==============================] - 4s 8ms/step - loss: 0.2614 - accuracy: 0.9041\n",
      "Epoch 28/50\n",
      "480/480 [==============================] - 4s 8ms/step - loss: 0.2657 - accuracy: 0.9024\n",
      "Epoch 29/50\n",
      "480/480 [==============================] - 4s 8ms/step - loss: 0.2603 - accuracy: 0.9035\n",
      "Epoch 30/50\n",
      "480/480 [==============================] - 4s 8ms/step - loss: 0.2569 - accuracy: 0.9057\n",
      "Epoch 31/50\n",
      "480/480 [==============================] - 4s 8ms/step - loss: 0.2531 - accuracy: 0.9074\n",
      "Epoch 32/50\n",
      "480/480 [==============================] - 4s 8ms/step - loss: 0.2562 - accuracy: 0.9066\n",
      "Epoch 33/50\n",
      "480/480 [==============================] - 4s 8ms/step - loss: 0.2522 - accuracy: 0.9095\n",
      "Epoch 34/50\n",
      "480/480 [==============================] - 4s 8ms/step - loss: 0.2494 - accuracy: 0.9098\n",
      "Epoch 35/50\n",
      "480/480 [==============================] - 4s 8ms/step - loss: 0.2441 - accuracy: 0.9107\n",
      "Epoch 36/50\n",
      "480/480 [==============================] - 4s 9ms/step - loss: 0.2516 - accuracy: 0.9091\n",
      "Epoch 37/50\n",
      "480/480 [==============================] - 5s 10ms/step - loss: 0.2493 - accuracy: 0.9100\n",
      "Epoch 38/50\n",
      "480/480 [==============================] - 5s 10ms/step - loss: 0.2420 - accuracy: 0.9120\n",
      "Epoch 39/50\n",
      "480/480 [==============================] - 4s 8ms/step - loss: 0.2448 - accuracy: 0.9110\n",
      "Epoch 40/50\n",
      "480/480 [==============================] - 5s 10ms/step - loss: 0.2400 - accuracy: 0.9112\n",
      "Epoch 41/50\n",
      "480/480 [==============================] - 4s 9ms/step - loss: 0.2362 - accuracy: 0.9126\n",
      "Epoch 42/50\n",
      "480/480 [==============================] - 4s 9ms/step - loss: 0.2356 - accuracy: 0.9137\n",
      "Epoch 43/50\n",
      "480/480 [==============================] - 4s 9ms/step - loss: 0.2389 - accuracy: 0.9131\n",
      "Epoch 44/50\n",
      "480/480 [==============================] - 4s 9ms/step - loss: 0.2369 - accuracy: 0.9138\n",
      "Epoch 45/50\n",
      "480/480 [==============================] - 4s 9ms/step - loss: 0.2319 - accuracy: 0.9166\n",
      "Epoch 46/50\n",
      "480/480 [==============================] - 4s 9ms/step - loss: 0.2266 - accuracy: 0.9184\n",
      "Epoch 47/50\n",
      "480/480 [==============================] - 4s 9ms/step - loss: 0.2331 - accuracy: 0.9153\n",
      "Epoch 48/50\n",
      "480/480 [==============================] - 5s 10ms/step - loss: 0.2315 - accuracy: 0.9153\n",
      "Epoch 49/50\n",
      "480/480 [==============================] - 5s 10ms/step - loss: 0.2251 - accuracy: 0.9175\n",
      "Epoch 50/50\n",
      "480/480 [==============================] - 4s 9ms/step - loss: 0.2269 - accuracy: 0.9167\n"
     ]
    },
    {
     "data": {
      "text/plain": [
       "<keras.callbacks.History at 0x26738b51c48>"
      ]
     },
     "execution_count": 8,
     "metadata": {},
     "output_type": "execute_result"
    }
   ],
   "source": [
    "model.fit(train_scaled, train_target, epochs=50, batch_size=100)"
   ]
  },
  {
   "cell_type": "code",
   "execution_count": 23,
   "id": "32a68750",
   "metadata": {},
   "outputs": [
    {
     "name": "stdout",
     "output_type": "stream",
     "text": [
      "375/375 [==============================] - 1s 2ms/step - loss: 0.5528 - accuracy: 0.8916\n"
     ]
    },
    {
     "data": {
      "text/plain": [
       "[0.5527626276016235, 0.8915833234786987]"
      ]
     },
     "execution_count": 23,
     "metadata": {},
     "output_type": "execute_result"
    }
   ],
   "source": [
    "model.evaluate(val_scaled, val_target)"
   ]
  },
  {
   "cell_type": "code",
   "execution_count": null,
   "id": "c780b7d9",
   "metadata": {},
   "outputs": [],
   "source": []
  }
 ],
 "metadata": {
  "kernelspec": {
   "display_name": "Python 3 (ipykernel)",
   "language": "python",
   "name": "python3"
  },
  "language_info": {
   "codemirror_mode": {
    "name": "ipython",
    "version": 3
   },
   "file_extension": ".py",
   "mimetype": "text/x-python",
   "name": "python",
   "nbconvert_exporter": "python",
   "pygments_lexer": "ipython3",
   "version": "3.7.13"
  }
 },
 "nbformat": 4,
 "nbformat_minor": 5
}
