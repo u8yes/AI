{
 "cells": [
  {
   "cell_type": "code",
   "execution_count": 4,
   "id": "33358b16",
   "metadata": {},
   "outputs": [],
   "source": [
    "# 웹 크롤링을 위한 패키지 설치\n",
    "# pip install BeautifulSoup4\n",
    "# pip intall requests\n",
    "\n",
    "import requests\n",
    "from bs4 import BeautifulSoup"
   ]
  },
  {
   "cell_type": "code",
   "execution_count": null,
   "id": "b38b451d",
   "metadata": {},
   "outputs": [],
   "source": [
    "urls = ['https://www.naver.com/','https://www.python.org']\n",
    "filename = \"robots.txt\"\n",
    "\n"
   ]
  }
 ],
 "metadata": {
  "kernelspec": {
   "display_name": "Python 3 (ipykernel)",
   "language": "python",
   "name": "python3"
  },
  "language_info": {
   "codemirror_mode": {
    "name": "ipython",
    "version": 3
   },
   "file_extension": ".py",
   "mimetype": "text/x-python",
   "name": "python",
   "nbconvert_exporter": "python",
   "pygments_lexer": "ipython3",
   "version": "3.7.13"
  }
 },
 "nbformat": 4,
 "nbformat_minor": 5
}
