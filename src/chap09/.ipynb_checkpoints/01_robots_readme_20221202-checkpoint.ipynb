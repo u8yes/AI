{
 "cells": [
  {
   "cell_type": "code",
   "execution_count": 4,
   "id": "33358b16",
   "metadata": {},
   "outputs": [],
   "source": [
    "# 웹 크롤링을 위한 패키지 설치\n",
    "# pip install BeautifulSoup4\n",
    "# pip intall requests\n",
    "\n",
    "import requests\n",
    "from bs4 import BeautifulSoup"
   ]
  },
  {
   "cell_type": "code",
   "execution_count": 6,
   "id": "a3132293",
   "metadata": {},
   "outputs": [
    {
     "name": "stdout",
     "output_type": "stream",
     "text": [
      "https://www.naver.com/robots.txt\n",
      "User-agent: *\n",
      "Disallow: /\n",
      "Allow : /$ \n",
      " \n",
      "\n",
      "https://www.python.org/robots.txt\n",
      "# Directions for robots.  See this URL:\n",
      "# http://www.robotstxt.org/robotstxt.html\n",
      "# for a description of the file format.\n",
      "\n",
      "User-agent: HTTrack\n",
      "User-agent: puf\n",
      "User-agent: MSIECrawler\n",
      "Disallow: /\n",
      "\n",
      "# The Krugle web crawler (though based on Nutch) is OK.\n",
      "User-agent: Krugle\n",
      "Allow: /\n",
      "Disallow: /~guido/orlijn/\n",
      "Disallow: /webstats/\n",
      "\n",
      "# No one should be crawling us with Nutch.\n",
      "User-agent: Nutch\n",
      "Disallow: /\n",
      "\n",
      "# Hide old versions of the documentation and various large sets of files.\n",
      "User-agent: *\n",
      "Disallow: /~guido/orlijn/\n",
      "Disallow: /webstats/\n",
      " \n",
      "\n"
     ]
    }
   ],
   "source": [
    "urls = ['https://www.naver.com/','https://www.python.org/']\n",
    "filename = \"robots.txt\"\n",
    "\n",
    "for url in urls:\n",
    "    file_path = url + filename\n",
    "    print(file_path)\n",
    "    response = requests.get(file_path)\n",
    "    print(response.text, '\\n')\n",
    "    "
   ]
  },
  {
   "cell_type": "code",
   "execution_count": null,
   "id": "737086bf",
   "metadata": {},
   "outputs": [],
   "source": []
  }
 ],
 "metadata": {
  "kernelspec": {
   "display_name": "Python 3 (ipykernel)",
   "language": "python",
   "name": "python3"
  },
  "language_info": {
   "codemirror_mode": {
    "name": "ipython",
    "version": 3
   },
   "file_extension": ".py",
   "mimetype": "text/x-python",
   "name": "python",
   "nbconvert_exporter": "python",
   "pygments_lexer": "ipython3",
   "version": "3.7.13"
  }
 },
 "nbformat": 4,
 "nbformat_minor": 5
}
