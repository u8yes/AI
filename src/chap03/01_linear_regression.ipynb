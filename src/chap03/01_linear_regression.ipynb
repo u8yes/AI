{
 "cells": [
  {
   "cell_type": "code",
   "execution_count": 6,
   "id": "3f6b0f81",
   "metadata": {},
   "outputs": [
    {
     "name": "stdout",
     "output_type": "stream",
     "text": [
      "2.9.1\n"
     ]
    }
   ],
   "source": [
    "# 텐서플로우 설치(command 창에서)\n",
    "# conda install tensorflow\n",
    "\n",
    "# 텐서플로우 설치 확인\n",
    "import tensorflow as tf # 사이킷런은 딥러닝 지원 안 됨.\n",
    "import numpy as np\n",
    "\n",
    "print(tf.__version__) # 2.9.1버전부터는 keras로직에 접근가능해졌음."
   ]
  },
  {
   "cell_type": "code",
   "execution_count": 8,
   "id": "c49c1f1d",
   "metadata": {},
   "outputs": [],
   "source": [
    "# 가설 설정은 H(x) = w(기울기)x + b(절편)\n",
    "x_train = [1,2,3,4]\n",
    "y_train = [0,-1,-2,-3] # w는 -1, b는 1"
   ]
  },
  {
   "cell_type": "code",
   "execution_count": null,
   "id": "44666225",
   "metadata": {},
   "outputs": [],
   "source": [
    "tf.model = tf.keras.Sequential()"
   ]
  }
 ],
 "metadata": {
  "kernelspec": {
   "display_name": "Python 3 (ipykernel)",
   "language": "python",
   "name": "python3"
  },
  "language_info": {
   "codemirror_mode": {
    "name": "ipython",
    "version": 3
   },
   "file_extension": ".py",
   "mimetype": "text/x-python",
   "name": "python",
   "nbconvert_exporter": "python",
   "pygments_lexer": "ipython3",
   "version": "3.7.13"
  }
 },
 "nbformat": 4,
 "nbformat_minor": 5
}
