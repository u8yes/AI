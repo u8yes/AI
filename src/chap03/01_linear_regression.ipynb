{
 "cells": [
  {
   "cell_type": "code",
   "execution_count": 6,
   "id": "3f6b0f81",
   "metadata": {},
   "outputs": [
    {
     "name": "stdout",
     "output_type": "stream",
     "text": [
      "2.9.1\n"
     ]
    }
   ],
   "source": [
    "# 텐서플로우 설치(command 창에서)\n",
    "# conda install tensorflow\n",
    "\n",
    "# 텐서플로우 설치 확인\n",
    "import tensorflow as tf # 사이킷런은 딥러닝 지원 안 됨.\n",
    "import numpy as np\n",
    "\n",
    "print(tf.__version__) # 2.9.1버전부터는 keras로직에 접근가능해졌음."
   ]
  },
  {
   "cell_type": "code",
   "execution_count": 17,
   "id": "442edc98",
   "metadata": {},
   "outputs": [],
   "source": [
    "# 가설 설정은 H(x) = w(기울기)x + b(절편)\n",
    "x_train = [1,2,3,4] # 하나의 특성은 단순회귀분석이다.\n",
    "y_train = [0,-1,-2,-3] # w는 -1, b는 1"
   ]
  },
  {
   "cell_type": "code",
   "execution_count": 9,
   "id": "1afb95d6",
   "metadata": {},
   "outputs": [],
   "source": [
    "tf.model = tf.keras.Sequential()"
   ]
  },
  {
   "cell_type": "code",
   "execution_count": 18,
   "id": "894231da",
   "metadata": {},
   "outputs": [],
   "source": [
    "# input_dim : input shape, units : output shape\n",
    "tf.model.add(tf.keras.layers.Dense(input_dim=1, units=1)) \n",
    "# 마치 생성자 함수처럼 정의 돼있음. # input_dim은 입력 차원으로 알려주면 됨. # units은 출력 차원"
   ]
  },
  {
   "cell_type": "code",
   "execution_count": 19,
   "id": "dd82c338",
   "metadata": {},
   "outputs": [
    {
     "name": "stderr",
     "output_type": "stream",
     "text": [
      "C:\\ProgramData\\Anaconda3\\envs\\tf_cpu\\lib\\site-packages\\keras\\optimizers\\optimizer_v2\\gradient_descent.py:108: UserWarning: The `lr` argument is deprecated, use `learning_rate` instead.\n",
      "  super(SGD, self).__init__(name, **kwargs)\n"
     ]
    }
   ],
   "source": [
    "# SGD(Stochastic Gradient Descendent) - 확률적 경사하강법, lr(learning_rate) - 이동의 간격을 지정해줌.\n",
    "sgd = tf.keras.optimizers.SGD(lr=0.1) # learning_rate * 기울기 # lr=0.1의 값으로 시작."
   ]
  },
  {
   "cell_type": "code",
   "execution_count": null,
   "id": "3d7e5c23",
   "metadata": {},
   "outputs": [],
   "source": [
    "# 목표는 Minimize cost이다.\n",
    "tf.model.compile(loss='mse', optimizer='sgd') # mean square error = cost function을 적용하라."
   ]
  }
 ],
 "metadata": {
  "kernelspec": {
   "display_name": "Python 3 (ipykernel)",
   "language": "python",
   "name": "python3"
  },
  "language_info": {
   "codemirror_mode": {
    "name": "ipython",
    "version": 3
   },
   "file_extension": ".py",
   "mimetype": "text/x-python",
   "name": "python",
   "nbconvert_exporter": "python",
   "pygments_lexer": "ipython3",
   "version": "3.7.13"
  }
 },
 "nbformat": 4,
 "nbformat_minor": 5
}
